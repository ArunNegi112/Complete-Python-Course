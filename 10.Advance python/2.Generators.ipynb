{
 "cells": [
  {
   "cell_type": "markdown",
   "metadata": {},
   "source": [
    "## Generators \n",
    "\n",
    "Generators are user defined function that uses yeild keyword instead of return, and works as an iterator i.e they also produce values lazily (on demand) and do not store all values at once in memory"
   ]
  },
  {
   "cell_type": "markdown",
   "metadata": {},
   "source": [
    "Iterators provide a way to access elements sequentially, while generators allow you to generate itemson the fly\n",
    "in short just tell what this means\n",
    "Iterators: Access existing elements one by one (sequentially).\n",
    "Generators: Create elements dynamically as needed (on the fly).\n"
   ]
  },
  {
   "cell_type": "code",
   "execution_count": 4,
   "metadata": {},
   "outputs": [
    {
     "data": {
      "text/plain": [
       "0"
      ]
     },
     "execution_count": 4,
     "metadata": {},
     "output_type": "execute_result"
    }
   ],
   "source": [
    "def sqre(n):\n",
    "    for i in range(n):\n",
    "        return i*i\n",
    "    \n",
    "sqre(5)     # This gives only the first iteration"
   ]
  },
  {
   "cell_type": "code",
   "execution_count": 5,
   "metadata": {},
   "outputs": [
    {
     "name": "stdout",
     "output_type": "stream",
     "text": [
      "0\n",
      "1\n",
      "4\n",
      "9\n",
      "16\n"
     ]
    }
   ],
   "source": [
    "def sqre(n):\n",
    "    for i in range(n):\n",
    "        print(i*i)\n",
    "    \n",
    "sqre(5)   # This works like iteration of list, and to make its iterator we use 'yeild'"
   ]
  },
  {
   "cell_type": "code",
   "execution_count": 43,
   "metadata": {},
   "outputs": [
    {
     "name": "stdout",
     "output_type": "stream",
     "text": [
      "<generator object sqre at 0x0000011456468110>\n",
      "<class 'generator'>\n"
     ]
    }
   ],
   "source": [
    "def sqre(n):\n",
    "    for i in range(n):\n",
    "        yield i*i\n",
    "    # Now this function is a generator\n",
    "\n",
    "print(sqre(5))\n",
    "print(type(sqre(5)))\n"
   ]
  },
  {
   "cell_type": "code",
   "execution_count": 62,
   "metadata": {},
   "outputs": [],
   "source": [
    "value = sqre(5)"
   ]
  },
  {
   "cell_type": "code",
   "execution_count": 66,
   "metadata": {},
   "outputs": [
    {
     "name": "stdout",
     "output_type": "stream",
     "text": [
      "9\n"
     ]
    }
   ],
   "source": [
    "try :\n",
    "    print(next(value))\n",
    "except StopIteration as error:\n",
    "    print(\"No more values left\")"
   ]
  },
  {
   "cell_type": "markdown",
   "metadata": {},
   "source": [
    "__Practical Example: Reading Large Files__\n",
    "\n",
    "\n",
    "Generators are particularly useful for reading large files because they allow you to process one line at a time without loading the entire file into memory."
   ]
  },
  {
   "cell_type": "code",
   "execution_count": 76,
   "metadata": {},
   "outputs": [],
   "source": [
    "def read_file(file_path):\n",
    "    with open(file_path,'r') as file:\n",
    "\n",
    "        for line in file:\n",
    "            yield(line)\n",
    "\n",
    "file = read_file(\"large file.txt\")"
   ]
  },
  {
   "cell_type": "code",
   "execution_count": 78,
   "metadata": {},
   "outputs": [
    {
     "name": "stdout",
     "output_type": "stream",
     "text": [
      "Days turned into weeks as Kael pressed on, guided only by the stars at night and the unyielding faith that his journey, fraught with mirages and perilous sandstorms, had purpose.\n",
      "\n",
      "Along the way, he encountered remnants of past lives—a rusted compass half-buried in the sand, a skeletal hand clutching a shard of broken pottery—and these solemn relics fueled his determination, for they reminded him of his mortality and the stakes of his quest.\n",
      "\n",
      "His water supply dwindled as he reached the jagged cliffs of the Scarred Ridge, an unmarked deviation from the map that forced him to descend treacherously into a canyon bathed in eerie twilight. \n",
      "\n"
     ]
    }
   ],
   "source": [
    "print(next(file))\n",
    "print(next(file))\n",
    "print(next(file))"
   ]
  },
  {
   "cell_type": "code",
   "execution_count": null,
   "metadata": {},
   "outputs": [],
   "source": []
  }
 ],
 "metadata": {
  "kernelspec": {
   "display_name": "Python 3",
   "language": "python",
   "name": "python3"
  },
  "language_info": {
   "codemirror_mode": {
    "name": "ipython",
    "version": 3
   },
   "file_extension": ".py",
   "mimetype": "text/x-python",
   "name": "python",
   "nbconvert_exporter": "python",
   "pygments_lexer": "ipython3",
   "version": "3.12.0"
  }
 },
 "nbformat": 4,
 "nbformat_minor": 2
}
