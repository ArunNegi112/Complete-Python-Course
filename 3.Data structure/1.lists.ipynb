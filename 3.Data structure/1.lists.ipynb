{
 "cells": [
  {
   "cell_type": "markdown",
   "metadata": {},
   "source": [
    "# List\n",
    "\n",
    "- Lists are ordered, mutable collections of items.\n",
    "- They can contain items of different data types.\n",
    "- these are iterable\n"
   ]
  },
  {
   "cell_type": "code",
   "execution_count": 1,
   "metadata": {},
   "outputs": [
    {
     "name": "stdout",
     "output_type": "stream",
     "text": [
      "<class 'list'>\n"
     ]
    }
   ],
   "source": [
    "list1 = []\n",
    "print(type(list1))"
   ]
  },
  {
   "cell_type": "code",
   "execution_count": 2,
   "metadata": {},
   "outputs": [
    {
     "name": "stdout",
     "output_type": "stream",
     "text": [
      "['lmao', 1, 2.0, True]\n"
     ]
    }
   ],
   "source": [
    "list1 = [\"lmao\",1,2.0,True]\n",
    "print(list1)"
   ]
  },
  {
   "cell_type": "code",
   "execution_count": 3,
   "metadata": {},
   "outputs": [
    {
     "name": "stdout",
     "output_type": "stream",
     "text": [
      "[1, 2, 3, 4, 5]\n"
     ]
    }
   ],
   "source": [
    "# convert any data structure into list\n",
    "\n",
    "a = {1,2,3,4,5}  # set\n",
    "print(list(a))"
   ]
  },
  {
   "cell_type": "code",
   "execution_count": 4,
   "metadata": {},
   "outputs": [
    {
     "name": "stdout",
     "output_type": "stream",
     "text": [
      "lmao\n",
      "1\n",
      "2.0\n",
      "True\n",
      "True\n",
      "2.0\n",
      "1\n",
      "lmao\n"
     ]
    }
   ],
   "source": [
    "# ACCESSING SINGLE ELEMENT $ INDEXING\n",
    "\n",
    "list1 = [\"lmao\",1,2.0,True]\n",
    "\n",
    "print(list1[0])     # first element from start\n",
    "print(list1[1])\n",
    "print(list1[2])\n",
    "print(list1[3])\n",
    "print(list1[-1])   # first element from last\n",
    "print(list1[-2])\n",
    "print(list1[-3])\n",
    "print(list1[-4])\n",
    "\n"
   ]
  },
  {
   "cell_type": "code",
   "execution_count": 5,
   "metadata": {},
   "outputs": [
    {
     "name": "stdout",
     "output_type": "stream",
     "text": [
      "['Allu Arjun', 1, 2.0, 'Sulmun khun']\n",
      "['Allu Arjun', 'b', 'a', 'k', 'a']\n"
     ]
    }
   ],
   "source": [
    "# Modifying elements \n",
    "\n",
    "\n",
    "list1 = [\"lmao\",1,2.0,True]\n",
    "\n",
    "list1[0] = \"Allu Arjun\"\n",
    "list1[3] = \"Sulmun khun\"\n",
    "\n",
    "print(list1)\n",
    "\n",
    "\n",
    "list1[1:] = \"baka\"  # it'll take given string word by word and place it as instructed\n",
    "print(list1)        # it'll take only iterable data ex: String, it wont take int,float,bool"
   ]
  },
  {
   "cell_type": "markdown",
   "metadata": {},
   "source": [
    "#### METHODS"
   ]
  },
  {
   "cell_type": "code",
   "execution_count": 6,
   "metadata": {},
   "outputs": [],
   "source": [
    "fruits = [\"apple\",\"banana\",\"mango\",\"kiwi\",\"pookie\",\"pookie\"]"
   ]
  },
  {
   "cell_type": "code",
   "execution_count": 7,
   "metadata": {},
   "outputs": [
    {
     "data": {
      "text/plain": [
       "['apple', 'banana', 'mango', 'kiwi', 'pookie', 'pookie', 'po']"
      ]
     },
     "execution_count": 7,
     "metadata": {},
     "output_type": "execute_result"
    }
   ],
   "source": [
    "# .append(element) : it adds the given element at the last index of list\n",
    "\n",
    "fruits.append(\"po\")\n",
    "fruits"
   ]
  },
  {
   "cell_type": "code",
   "execution_count": 8,
   "metadata": {},
   "outputs": [
    {
     "data": {
      "text/plain": [
       "['apple', 'sun', 'banana', 'mango', 'kiwi', 'pookie', 'pookie', 'po']"
      ]
     },
     "execution_count": 8,
     "metadata": {},
     "output_type": "execute_result"
    }
   ],
   "source": [
    "# .insert(index,element) : inserts given element at given index\n",
    "\n",
    "fruits.insert(1,\"sun\")\n",
    "fruits"
   ]
  },
  {
   "cell_type": "code",
   "execution_count": 9,
   "metadata": {},
   "outputs": [
    {
     "data": {
      "text/plain": [
       "['apple', 'sun', 'banana', 'mango', 'kiwi', 'pookie', 'po']"
      ]
     },
     "execution_count": 9,
     "metadata": {},
     "output_type": "execute_result"
    }
   ],
   "source": [
    "# .remove(element)  : removes the first occurance of the given element \n",
    "\n",
    "fruits.remove(\"pookie\")\n",
    "fruits"
   ]
  },
  {
   "cell_type": "code",
   "execution_count": 10,
   "metadata": {},
   "outputs": [
    {
     "name": "stdout",
     "output_type": "stream",
     "text": [
      "po\n",
      "apple\n",
      "['sun', 'banana', 'mango', 'kiwi', 'pookie']\n"
     ]
    }
   ],
   "source": [
    "# .pop(index) : removes and returns the element at given index (if index not given, default = last (-1)) \n",
    "\n",
    "print(fruits.pop())\n",
    "print(fruits.pop(0))\n",
    "\n",
    "print(fruits)"
   ]
  },
  {
   "cell_type": "code",
   "execution_count": 11,
   "metadata": {},
   "outputs": [
    {
     "name": "stdout",
     "output_type": "stream",
     "text": [
      "2\n",
      "5\n"
     ]
    }
   ],
   "source": [
    "# .index(elemet,start index,stop index) : tell the index of given element (first occourance), searches it from start to stop, it not given, default = all\n",
    "\n",
    "fruits = [\"apple\",\"banana\",\"pookie\",\"mango\",\"kiwi\",\"pookie\"]\n",
    "\n",
    "print(fruits.index(\"pookie\"))\n",
    "print(fruits.index(\"pookie\",3))\n"
   ]
  },
  {
   "cell_type": "code",
   "execution_count": 12,
   "metadata": {},
   "outputs": [
    {
     "data": {
      "text/plain": [
       "2"
      ]
     },
     "execution_count": 12,
     "metadata": {},
     "output_type": "execute_result"
    }
   ],
   "source": [
    "# .count(element)  : return the number of time given element is there in list \n",
    "\n",
    "fruits.count(\"pookie\")"
   ]
  },
  {
   "cell_type": "code",
   "execution_count": 13,
   "metadata": {},
   "outputs": [
    {
     "name": "stdout",
     "output_type": "stream",
     "text": [
      "['apple', 'banana', 'kiwi', 'mango', 'pookie', 'pookie']\n"
     ]
    }
   ],
   "source": [
    "# .sort() : arranges the elements of list in - alphabetical order or descending order\n",
    "\n",
    "fruits.sort()\n",
    "print(fruits)\n",
    "\n"
   ]
  },
  {
   "cell_type": "code",
   "execution_count": 29,
   "metadata": {},
   "outputs": [
    {
     "data": {
      "text/plain": [
       "['apple', 'banana', 'gyatt']"
      ]
     },
     "execution_count": 29,
     "metadata": {},
     "output_type": "execute_result"
    }
   ],
   "source": [
    "# sorted() : another way of sorting but better \n",
    "fruits = ['banana','apple','gyatt']\n",
    "sorted(fruits)   \n",
    "\n",
    "# note : .sort method mutate the original list while sorted() function givees a new sorted list "
   ]
  },
  {
   "cell_type": "code",
   "execution_count": 15,
   "metadata": {},
   "outputs": [
    {
     "data": {
      "text/plain": [
       "['pookie', 'pookie', 'mango', 'kiwi', 'banana', 'apple']"
      ]
     },
     "execution_count": 15,
     "metadata": {},
     "output_type": "execute_result"
    }
   ],
   "source": [
    "# .reverse():  reverses indeces of all elements in list\n",
    "\n",
    "fruits.reverse()\n",
    "fruits"
   ]
  },
  {
   "cell_type": "code",
   "execution_count": 16,
   "metadata": {},
   "outputs": [
    {
     "data": {
      "text/plain": [
       "[]"
      ]
     },
     "execution_count": 16,
     "metadata": {},
     "output_type": "execute_result"
    }
   ],
   "source": [
    "# .clear : removes all elements from list\n",
    "\n",
    "fruits.clear()\n",
    "fruits"
   ]
  },
  {
   "cell_type": "markdown",
   "metadata": {},
   "source": [
    "LIST SLICING\n",
    "\n",
    "syntax : \n",
    "        list_name[start:stop:step]"
   ]
  },
  {
   "cell_type": "code",
   "execution_count": 17,
   "metadata": {},
   "outputs": [
    {
     "name": "stdout",
     "output_type": "stream",
     "text": [
      "[0, 1, 2, 3, 4, 5, 6, 7, 8, 9, 10]\n",
      "[0, 1, 2, 3, 4, 5, 6, 7, 8, 9, 10]\n",
      "[10, 9, 8, 7, 6, 5, 4, 3, 2, 1, 0]\n",
      "[0, 2, 4, 6, 8, 10]\n"
     ]
    }
   ],
   "source": [
    "numbers = [0,1,2,3,4,5,6,7,8,9,10]\n",
    "\n",
    "print(numbers[::])      # all elements \n",
    "print(numbers[0:11:1])  # from 0th to 10th with step = 1\n",
    "\n",
    "print(numbers[::-1])    # all elements with step = -1 (hence, from last to zeroth)\n",
    "print(numbers[::2])     # all elements with step = 2 "
   ]
  },
  {
   "cell_type": "markdown",
   "metadata": {},
   "source": [
    "CONCATENATION"
   ]
  },
  {
   "cell_type": "code",
   "execution_count": 4,
   "metadata": {},
   "outputs": [
    {
     "data": {
      "text/plain": [
       "['abc', 1, 2, 3, 'lmao', True]"
      ]
     },
     "execution_count": 4,
     "metadata": {},
     "output_type": "execute_result"
    }
   ],
   "source": [
    "# addition of list \n",
    "\n",
    "list1 = [\"abc\",1,2,3]\n",
    "list2 = ['lmao',True]\n",
    "\n",
    "\n",
    "list1 + list2"
   ]
  },
  {
   "cell_type": "code",
   "execution_count": 8,
   "metadata": {},
   "outputs": [
    {
     "data": {
      "text/plain": [
       "['abc', 1, 2, 3, 'abc', 1, 2, 3, 'abc', 1, 2, 3]"
      ]
     },
     "execution_count": 8,
     "metadata": {},
     "output_type": "execute_result"
    }
   ],
   "source": [
    "# multiplication\n",
    "\n",
    "list1 * 3"
   ]
  },
  {
   "cell_type": "markdown",
   "metadata": {},
   "source": [
    "ITERATION OF LIST"
   ]
  },
  {
   "cell_type": "code",
   "execution_count": 18,
   "metadata": {},
   "outputs": [
    {
     "name": "stdout",
     "output_type": "stream",
     "text": [
      "apple\n",
      "banana\n",
      "mango\n",
      "kiwi\n",
      "po\n"
     ]
    }
   ],
   "source": [
    "fruits = [\"apple\",\"banana\",\"mango\",\"kiwi\",\"po\"]\n",
    "\n",
    "for fruit in fruits:\n",
    "    print(fruit)"
   ]
  },
  {
   "cell_type": "code",
   "execution_count": 19,
   "metadata": {},
   "outputs": [
    {
     "name": "stdout",
     "output_type": "stream",
     "text": [
      "0 : apple\n",
      "1 : banana\n",
      "2 : mango\n",
      "3 : kiwi\n",
      "4 : po\n"
     ]
    }
   ],
   "source": [
    "# iterating elements with index\n",
    "\n",
    "for index,fruit in enumerate(fruits):\n",
    "    print(index,\":\",fruit)"
   ]
  },
  {
   "cell_type": "code",
   "execution_count": 20,
   "metadata": {},
   "outputs": [
    {
     "name": "stdout",
     "output_type": "stream",
     "text": [
      "[1, 2, 3, 4]\n",
      "3\n",
      "[1, 2]\n"
     ]
    }
   ],
   "source": [
    "# nested lists \n",
    "\n",
    "list_a = [[1,2,3,4],['a','b','c','d'],[True,False]]\n",
    "\n",
    "print(list_a[0])         # will print 0th element of list\n",
    "print(list_a[0][2])      # will print 2nd element of 0th list inside list\n",
    "print(list_a[0][0:2])    # will print 0th to 2nd element of 0th list\n"
   ]
  },
  {
   "cell_type": "markdown",
   "metadata": {},
   "source": [
    "#### List comprehension \n",
    "\n",
    "creating list in a single line of code"
   ]
  },
  {
   "cell_type": "markdown",
   "metadata": {},
   "source": [
    "SYNTAX : \n",
    "\n",
    "        [expression iteration condition] ----- [expression for n in iteration if condition]\n",
    "\n",
    "for nested lists : \n",
    "\n",
    "        [expression iteration_of_list1 iteration_of_list2 condition]"
   ]
  },
  {
   "cell_type": "code",
   "execution_count": 21,
   "metadata": {},
   "outputs": [
    {
     "data": {
      "text/plain": [
       "[0, 2, 4, 6, 8, 10, 12, 14, 16, 18, 20]"
      ]
     },
     "execution_count": 21,
     "metadata": {},
     "output_type": "execute_result"
    }
   ],
   "source": [
    "# example1 :\n",
    "list1 = []\n",
    "\n",
    "for i in range(11) : \n",
    "    list1.append(i*2)\n",
    "\n",
    "list1"
   ]
  },
  {
   "cell_type": "code",
   "execution_count": 22,
   "metadata": {},
   "outputs": [
    {
     "data": {
      "text/plain": [
       "[0, 2, 4, 6, 8, 10, 12, 14, 16, 18, 20]"
      ]
     },
     "execution_count": 22,
     "metadata": {},
     "output_type": "execute_result"
    }
   ],
   "source": [
    "# example1 with list comprehension :\n",
    "\n",
    "list1 = [i*2 for i in range(11)]\n",
    "list1"
   ]
  },
  {
   "cell_type": "code",
   "execution_count": 23,
   "metadata": {},
   "outputs": [
    {
     "data": {
      "text/plain": [
       "[0, 4, 8, 12, 16, 20, 24, 28, 32, 36, 40]"
      ]
     },
     "execution_count": 23,
     "metadata": {},
     "output_type": "execute_result"
    }
   ],
   "source": [
    "# example2 :\n",
    "\n",
    "list2 = []\n",
    "\n",
    "for i in range(21):\n",
    "    if i%2==0 :\n",
    "        list2.append(i*2)\n",
    "\n",
    "list2"
   ]
  },
  {
   "cell_type": "code",
   "execution_count": 24,
   "metadata": {},
   "outputs": [
    {
     "data": {
      "text/plain": [
       "[0, 4, 8, 12, 16, 20, 24, 28, 32, 36, 40]"
      ]
     },
     "execution_count": 24,
     "metadata": {},
     "output_type": "execute_result"
    }
   ],
   "source": [
    "# example 2 with list comprehension :\n",
    "\n",
    "list2 = [i*2 for i in range(21) if i%2==0]\n",
    "list2"
   ]
  },
  {
   "cell_type": "code",
   "execution_count": 25,
   "metadata": {},
   "outputs": [
    {
     "data": {
      "text/plain": [
       "[[0, 0], [0, 2], [0, 4], [2, 0], [2, 2], [2, 4], [4, 0], [4, 2], [4, 4]]"
      ]
     },
     "execution_count": 25,
     "metadata": {},
     "output_type": "execute_result"
    }
   ],
   "source": [
    "# example3 : nested list(multiple list creation) \n",
    "\n",
    "list3 = []\n",
    "\n",
    "for i in range(5):\n",
    "    for j in range(5):\n",
    "        if i%2==0 and j%2==0:\n",
    "            list3.append([i,j])\n",
    "\n",
    "list3\n"
   ]
  },
  {
   "cell_type": "code",
   "execution_count": 26,
   "metadata": {},
   "outputs": [
    {
     "name": "stdout",
     "output_type": "stream",
     "text": [
      "[[0, 0], [0, 2], [0, 4], [2, 0], [2, 2], [2, 4], [4, 0], [4, 2], [4, 4]] "
     ]
    }
   ],
   "source": [
    "# example3 with nested list(multiple list creation) comprehension\n",
    "\n",
    "list3 = [[i,j] for i in range(5) for j in range(5) if i%2==0 if j%2==0]\n",
    "print(list3,end=\" \")"
   ]
  },
  {
   "cell_type": "markdown",
   "metadata": {},
   "source": [
    "## LIST REAL LIFE EXAMPLES"
   ]
  },
  {
   "cell_type": "markdown",
   "metadata": {},
   "source": [
    "Write a function that takes a 3x3 matrix (nested list) as input and returns its transpose. Print the original and transposed matrices.\n"
   ]
  },
  {
   "cell_type": "code",
   "execution_count": 1,
   "metadata": {},
   "outputs": [
    {
     "name": "stdout",
     "output_type": "stream",
     "text": [
      "Matrix\n",
      "[1, 2, 3, 4]\n",
      "[5, 6, 7, 8]\n",
      "Transpose matrix\n",
      "[1, 5]\n",
      "[2, 6]\n",
      "[3, 7]\n",
      "[4, 8]\n"
     ]
    }
   ],
   "source": [
    "nestlis = [\n",
    "    [1,2,3,4],\n",
    "    [5,6,7,8]    \n",
    "]\n",
    "\n",
    "transpose = [\n",
    "    [0,0],\n",
    "    [0,0],\n",
    "    [0,0],\n",
    "    [0,0]\n",
    "]\n",
    "for i in range(len(nestlis)):\n",
    "    for j in range(len(nestlis[0])):\n",
    "        transpose[j][i] = nestlis[i][j]\n",
    "print(\"Matrix\")\n",
    "for i in nestlis:\n",
    "    print(i)\n",
    "print(\"Transpose matrix\")\n",
    "for i in transpose:\n",
    "    print(i)\n"
   ]
  },
  {
   "cell_type": "code",
   "execution_count": 2,
   "metadata": {},
   "outputs": [
    {
     "name": "stdout",
     "output_type": "stream",
     "text": [
      "[1, 5]\n",
      "[2, 6]\n",
      "[3, 7]\n",
      "[4, 8]\n"
     ]
    }
   ],
   "source": [
    "transposed = [[nestlis[j][i] for j in range(len(nestlis))] for i in range(len(nestlis[0]))]\n",
    "for i in transposed:\n",
    "    print(i)"
   ]
  },
  {
   "cell_type": "code",
   "execution_count": 3,
   "metadata": {},
   "outputs": [
    {
     "name": "stdout",
     "output_type": "stream",
     "text": [
      "Matrix\n",
      "[1, 2, 3, 4]\n",
      "[5, 6, 7, 8]\n",
      "Transposed\n",
      "[1, 5]\n",
      "[2, 6]\n",
      "[3, 7]\n",
      "[4, 8]\n"
     ]
    }
   ],
   "source": [
    "print(\"Matrix\")\n",
    "for i in nestlis:\n",
    "    print(i)\n",
    "\n",
    "print(\"Transposed\")\n",
    "for i in zip(*nestlis):\n",
    "    print(list(i))\n"
   ]
  },
  {
   "cell_type": "code",
   "execution_count": null,
   "metadata": {},
   "outputs": [],
   "source": []
  }
 ],
 "metadata": {
  "kernelspec": {
   "display_name": "Python 3",
   "language": "python",
   "name": "python3"
  },
  "language_info": {
   "codemirror_mode": {
    "name": "ipython",
    "version": 3
   },
   "file_extension": ".py",
   "mimetype": "text/x-python",
   "name": "python",
   "nbconvert_exporter": "python",
   "pygments_lexer": "ipython3",
   "version": "3.12.0"
  }
 },
 "nbformat": 4,
 "nbformat_minor": 2
}
