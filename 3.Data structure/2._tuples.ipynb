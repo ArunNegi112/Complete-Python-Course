{
 "cells": [
  {
   "cell_type": "markdown",
   "metadata": {},
   "source": [
    "## Tuples\n",
    "\n",
    "Tuples are ordered collections of items that are immutable. They are similar to lists, but their immutability makes them different, we can't change items inside a tuple.\n",
    "\n",
    "Can take any datatype\n",
    "\n",
    "tuple is default data structure of python, hence if we dont give any brackets it'll be by-default a tuple"
   ]
  },
  {
   "cell_type": "code",
   "execution_count": 2,
   "metadata": {},
   "outputs": [
    {
     "name": "stdout",
     "output_type": "stream",
     "text": [
      "<class 'tuple'>\n",
      "<class 'tuple'>\n",
      "<class 'tuple'>\n"
     ]
    }
   ],
   "source": [
    "tuple1 = ()\n",
    "print(type((tuple1)))\n",
    "\n",
    "tuple1 = (1,2,3,4,\"hey\")\n",
    "print(type(tuple1))\n",
    "\n",
    "tuple1 = 1,2,3,4,\"hey\"     # this is also called packing of tuple (python by-default packs the given the given data)\n",
    "print(type(tuple1))"
   ]
  },
  {
   "cell_type": "code",
   "execution_count": 3,
   "metadata": {},
   "outputs": [
    {
     "name": "stdout",
     "output_type": "stream",
     "text": [
      "(1, 2, 3, 4, 5, 'hey')\n"
     ]
    }
   ],
   "source": [
    "# convert any data structure into tuple \n",
    "\n",
    "a = [1,2,3,4,5,\"hey\"]\n",
    "\n",
    "print(tuple(a))"
   ]
  },
  {
   "cell_type": "code",
   "execution_count": 4,
   "metadata": {},
   "outputs": [
    {
     "name": "stdout",
     "output_type": "stream",
     "text": [
      "0\n",
      "3\n",
      "3\n",
      "0\n",
      "(0, 1, 2, 3)\n",
      "(0, 1, 2, 3)\n",
      "(2, 1)\n"
     ]
    }
   ],
   "source": [
    "# ACCESSING ELEMENTS AND SLICING\n",
    "# This is same as list slicing\n",
    "\n",
    "tuple2  = (0,1,2,3)\n",
    "\n",
    "print(tuple2[0])\n",
    "print(tuple2[3])\n",
    "print(tuple2[-1])\n",
    "print(tuple2[-4])\n",
    "\n",
    "\n",
    "print(tuple2[:])\n",
    "print(tuple2[::])\n",
    "print(tuple2[2:0:-1])\n",
    "\n"
   ]
  },
  {
   "cell_type": "code",
   "execution_count": 5,
   "metadata": {},
   "outputs": [
    {
     "name": "stdout",
     "output_type": "stream",
     "text": [
      "(1, 2.0, 'hey', True, 0, 9.0, 'yo', False)\n"
     ]
    }
   ],
   "source": [
    "# Concatenation  :  it can be done with simple \"+\" operator \n",
    "\n",
    "tuple2=(1,2.0,\"hey\",True)\n",
    "tuple3=(0,9.0,\"yo\",False)\n",
    "\n",
    "print(tuple2 + tuple3)    \n",
    "\n"
   ]
  },
  {
   "cell_type": "code",
   "execution_count": 6,
   "metadata": {},
   "outputs": [
    {
     "name": "stdout",
     "output_type": "stream",
     "text": [
      "(1, 2.0, 'hey', True, 1, 2.0, 'hey', True, 1, 2.0, 'hey', True)\n",
      "(0, 9.0, 'yo', False, 0, 9.0, 'yo', False, 0, 9.0, 'yo', False)\n"
     ]
    }
   ],
   "source": [
    "print(tuple2*3)   # \"*\" operator multiplies the whole tuple\n",
    "\n",
    "print(tuple3*3)"
   ]
  },
  {
   "cell_type": "markdown",
   "metadata": {},
   "source": [
    "TUPLE METHODS"
   ]
  },
  {
   "cell_type": "code",
   "execution_count": 7,
   "metadata": {},
   "outputs": [],
   "source": [
    "numbers = 1,2,3,4,1,5,6"
   ]
  },
  {
   "cell_type": "code",
   "execution_count": 8,
   "metadata": {},
   "outputs": [
    {
     "data": {
      "text/plain": [
       "2"
      ]
     },
     "execution_count": 8,
     "metadata": {},
     "output_type": "execute_result"
    }
   ],
   "source": [
    "# .count() : counts the number of time an item is present in tuple\n",
    "\n",
    "numbers.count(1)"
   ]
  },
  {
   "cell_type": "code",
   "execution_count": 9,
   "metadata": {},
   "outputs": [
    {
     "name": "stdout",
     "output_type": "stream",
     "text": [
      "0\n",
      "4\n"
     ]
    }
   ],
   "source": [
    "# .index(element,start,stop) : return index of first occurance of given element \n",
    "\n",
    "print(numbers.index(1))\n",
    "print(numbers.index(1,1,5))"
   ]
  },
  {
   "cell_type": "markdown",
   "metadata": {},
   "source": [
    "PACKING AND UNPACKING TUPLE"
   ]
  },
  {
   "cell_type": "code",
   "execution_count": 10,
   "metadata": {},
   "outputs": [
    {
     "name": "stdout",
     "output_type": "stream",
     "text": [
      "(1, 2, 3, 4, 5)\n"
     ]
    }
   ],
   "source": [
    "# packing :  When you assign multiple values to a single variable, Python automatically packs them into a tuple.\n",
    "\n",
    "tuple1 = 1,2,3,4,5\n",
    "print(tuple1)"
   ]
  },
  {
   "cell_type": "code",
   "execution_count": 11,
   "metadata": {},
   "outputs": [
    {
     "name": "stdout",
     "output_type": "stream",
     "text": [
      "1\n",
      "2\n",
      "3\n",
      "4\n",
      "5\n"
     ]
    }
   ],
   "source": [
    "# unpacking : extracting values from a tuple and assigning them to individual variables.\n",
    "            # This is done by assigning the tuple to a comma-separated list of variables.\n",
    "\n",
    "tuple1 = 1,2,3,4,5\n",
    "\n",
    "a,b,c,d,e = tuple1   # num of variable == num of item in tuple\n",
    "\n",
    "print(a)\n",
    "print(b)\n",
    "print(c)\n",
    "print(d)\n",
    "print(e)\n"
   ]
  },
  {
   "cell_type": "code",
   "execution_count": 16,
   "metadata": {},
   "outputs": [
    {
     "name": "stdout",
     "output_type": "stream",
     "text": [
      "1\n",
      "2\n",
      "[3, 4, 5]\n",
      "1\n",
      "[2, 3, 4]\n",
      "5\n"
     ]
    }
   ],
   "source": [
    "# unpacking with * : extracting and assigning multiple values of tuple to a variable\n",
    "tuple1 = 1,2,3,4,5\n",
    "\n",
    "a,b,*c = tuple1\n",
    "print(a)\n",
    "print(b)\n",
    "print(c)        # this'll be a list though\n",
    "\n",
    "\n",
    "first,*middle,end = tuple1\n",
    "print(first)\n",
    "print(middle)\n",
    "print(end)"
   ]
  },
  {
   "cell_type": "code",
   "execution_count": 1,
   "metadata": {},
   "outputs": [
    {
     "name": "stdout",
     "output_type": "stream",
     "text": [
      "(1, 2, 3, 4)\n",
      "3\n",
      "(1, 2)\n"
     ]
    }
   ],
   "source": [
    "# nested tuples\n",
    "\n",
    "tuple_a = ((1,2,3,4),('a','b','c','d'),(True,False))\n",
    "\n",
    "print(tuple_a[0])         # will print 0th element of tuple\n",
    "print(tuple_a[0][2])      # will print 2nd element of 0th list inside tuple\n",
    "print(tuple_a[0][0:2])    # will print 0th to 2nd element of 0th tuple\n"
   ]
  },
  {
   "cell_type": "code",
   "execution_count": 26,
   "metadata": {},
   "outputs": [
    {
     "name": "stdout",
     "output_type": "stream",
     "text": [
      "1\n",
      "2\n",
      "3\n",
      "4\n",
      "1\n",
      "5\n",
      "6\n",
      "\n",
      "1 2 3 4 a b c d True False "
     ]
    }
   ],
   "source": [
    "# ITERATING OVER TUPLE\n",
    "\n",
    "for n in numbers:\n",
    "    print(n)\n",
    "\n",
    "print()\n",
    "\n",
    "# ITERATING OVER NESTED TUPLE\n",
    "\n",
    "for sub_tuple in tuple_a:\n",
    "    for a in sub_tuple:\n",
    "        print(a,end=\" \")"
   ]
  },
  {
   "cell_type": "code",
   "execution_count": null,
   "metadata": {},
   "outputs": [],
   "source": []
  }
 ],
 "metadata": {
  "kernelspec": {
   "display_name": "Python 3",
   "language": "python",
   "name": "python3"
  },
  "language_info": {
   "codemirror_mode": {
    "name": "ipython",
    "version": 3
   },
   "file_extension": ".py",
   "mimetype": "text/x-python",
   "name": "python",
   "nbconvert_exporter": "python",
   "pygments_lexer": "ipython3",
   "version": "3.12.0"
  }
 },
 "nbformat": 4,
 "nbformat_minor": 2
}
