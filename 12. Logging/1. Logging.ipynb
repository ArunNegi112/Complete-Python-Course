{
 "cells": [
  {
   "cell_type": "markdown",
   "metadata": {},
   "source": [
    "### Logging\n",
    "\n",
    "Logging in Python refers to the process of tracking/recording messages or events from a program during its execution. These messages can include information about errors, warnings, or any other event you want to track for debugging, monitoring, or auditing purposes.\n",
    "\n",
    "Logging have 4 levels based on severity of message\n",
    "\n",
    "1. `DEBUG` - Used for detailed diagnostic information, usually for developers.\n",
    "    ex : keeping track of value of a variable \n",
    "2. `INFO` -  Used for getting general information about program\n",
    "    ex : start of a program block, successfully executed steps\n",
    "3. `WARNING` - Shows up when something went wrong in the program, that may affect in future, but program keeps running\n",
    "    ex : low storage\n",
    "4. `ERROR` - Signals a more serious problem in program, due to which some part of program is not getting executed\n",
    "    ex : FileNotFound\n",
    "5. `CRITICAL` - Used for severe issues where the program might crash or lose data.\n",
    "    ex : Power failure, File cannot be saved, security breach\n"
   ]
  },
  {
   "cell_type": "code",
   "execution_count": 2,
   "metadata": {},
   "outputs": [],
   "source": [
    "import logging"
   ]
  },
  {
   "cell_type": "code",
   "execution_count": 2,
   "metadata": {},
   "outputs": [],
   "source": [
    "## Configuring logging\n",
    "\n",
    "# logging.basicConfig(level=logging.DEBUG)    # setting the min level to debug\n",
    "\n",
    "# Configuring is the first step of logging, here we define minimum level of severity (i.e by default severity is 'Warning' and only the msg above this severity is shown) and many other things\n",
    "\n",
    "# In short, Configuration in logging sets up rules to control what messages are logged, their format, and where they are displayed or stored (by default they are shown in output).\n"
   ]
  },
  {
   "cell_type": "code",
   "execution_count": 3,
   "metadata": {},
   "outputs": [
    {
     "name": "stderr",
     "output_type": "stream",
     "text": [
      "WARNING:root:This is a warning message\n",
      "ERROR:root:This is a error message\n",
      "CRITICAL:root:This is a critical message\n"
     ]
    }
   ],
   "source": [
    "# Showing basic msgs\n",
    "\n",
    "logging.debug(\"This is a debug message\")\n",
    "logging.info(\"This is a info message\")\n",
    "logging.warning(\"This is a warning message\")\n",
    "logging.error(\"This is a error message\")\n",
    "logging.critical(\"This is a critical message\")\n",
    "\n",
    "# Do one thing, restart the kernal, do not run that configuration cell above this, run this cell directly first, see the output, then run both cells and see the output, \n",
    "# you will understand the difference between logging with configuration and logging without configuration"
   ]
  },
  {
   "cell_type": "code",
   "execution_count": 4,
   "metadata": {},
   "outputs": [],
   "source": [
    "# Note, you can configure logging only once in a file"
   ]
  },
  {
   "cell_type": "code",
   "execution_count": 3,
   "metadata": {},
   "outputs": [],
   "source": [
    "logging.basicConfig(\n",
    "    level = logging.DEBUG,\n",
    "    filename = 'logging.log',\n",
    "    filemode = 'w',\n",
    "    format = '%(asctime)s - %(name)s - %(levelname)s - %(message)s',\n",
    "    datefmt = '%d-%m-%Y : %H:%M:%S'\n",
    ")\n",
    "\n",
    "logging.debug(\"This is a debug message\")\n",
    "logging.info(\"This is a info message\")\n",
    "logging.warning(\"This is a warning message\")\n",
    "logging.error(\"This is a error message\")\n",
    "logging.critical(\"This is a critical message\")"
   ]
  }
 ],
 "metadata": {
  "kernelspec": {
   "display_name": "Python 3",
   "language": "python",
   "name": "python3"
  },
  "language_info": {
   "codemirror_mode": {
    "name": "ipython",
    "version": 3
   },
   "file_extension": ".py",
   "mimetype": "text/x-python",
   "name": "python",
   "nbconvert_exporter": "python",
   "pygments_lexer": "ipython3",
   "version": "3.12.0"
  }
 },
 "nbformat": 4,
 "nbformat_minor": 2
}
