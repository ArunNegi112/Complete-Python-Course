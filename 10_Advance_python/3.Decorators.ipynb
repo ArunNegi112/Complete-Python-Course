{
 "cells": [
  {
   "cell_type": "markdown",
   "metadata": {},
   "source": [
    "## Decorators\n",
    "\n",
    "A function in Python that allows us to change or modify functions or class methods without interfering with their actual source code.\n",
    "A decorator is a higher-order function that takes a function as input and returns a modified version of it."
   ]
  },
  {
   "cell_type": "markdown",
   "metadata": {},
   "source": [
    "`Function Copy`"
   ]
  },
  {
   "cell_type": "code",
   "execution_count": 1,
   "metadata": {},
   "outputs": [],
   "source": [
    "def welcome():\n",
    "    return \"Welcome to understand this topic\""
   ]
  },
  {
   "cell_type": "code",
   "execution_count": 2,
   "metadata": {},
   "outputs": [
    {
     "name": "stdout",
     "output_type": "stream",
     "text": [
      "Welcome to understand this topic\n",
      "Welcome to understand this topic\n",
      "<function welcome at 0x0000029E8BE045E0>\n",
      "Welcome to understand this topic\n"
     ]
    }
   ],
   "source": [
    "welcom_copy = welcome  # copying the function\n",
    "print(welcome())\n",
    "print(welcom_copy())\n",
    "\n",
    "del welcome            # Now even if we delete the original function, copied version remains\n",
    "print(welcom_copy)\n",
    "print(welcom_copy())"
   ]
  },
  {
   "cell_type": "markdown",
   "metadata": {},
   "source": [
    "`Closure`\n",
    "\n",
    "A closure is a function inside a function that remembers the variables from its enclosing scope, even after the outer function has finished execution."
   ]
  },
  {
   "cell_type": "code",
   "execution_count": 7,
   "metadata": {},
   "outputs": [
    {
     "name": "stdout",
     "output_type": "stream",
     "text": [
      "6\n"
     ]
    }
   ],
   "source": [
    "def multiplier(factor):\n",
    "    def multiplyby(x): \n",
    "        return x*factor    # 'factor' is remembered by closure\n",
    "    return multiplyby\n",
    "\n",
    "\n",
    "output = multiplier(3)(2)  # will print 3*2\n",
    "print(output)    \n",
    "\n",
    "    "
   ]
  },
  {
   "cell_type": "code",
   "execution_count": 24,
   "metadata": {},
   "outputs": [
    {
     "name": "stdout",
     "output_type": "stream",
     "text": [
      "HEY YOO\n"
     ]
    }
   ],
   "source": [
    "# we can also give function to the closure\n",
    "def task(func,string):\n",
    "    def do_the_task():\n",
    "        return func(string)\n",
    "    return do_the_task\n",
    "\n",
    "output = task(str.upper,\"hey yoo\")\n",
    "\n",
    "print(output())"
   ]
  },
  {
   "cell_type": "markdown",
   "metadata": {},
   "source": [
    "#### Decorator"
   ]
  },
  {
   "cell_type": "code",
   "execution_count": 25,
   "metadata": {},
   "outputs": [
    {
     "name": "stdout",
     "output_type": "stream",
     "text": [
      "This is before function\n",
      "5\n",
      "This is after function\n"
     ]
    }
   ],
   "source": [
    "# without decorator, using nested function\n",
    "\n",
    "def greet(function):\n",
    "    print(\"This is before function\")\n",
    "    print(function)\n",
    "    print(\"This is after function\")\n",
    "\n",
    "def add(a,b):\n",
    "    return a+b\n",
    "\n",
    "greet(add(2,3))"
   ]
  },
  {
   "cell_type": "code",
   "execution_count": 29,
   "metadata": {},
   "outputs": [
    {
     "name": "stdout",
     "output_type": "stream",
     "text": [
      "This is before function\n",
      "6\n",
      "This is after function\n"
     ]
    }
   ],
   "source": [
    "def greet(function):\n",
    "    def wrapper(*args,**kwargs):\n",
    "        print(\"This is before function\")\n",
    "        print(function(*args,**kwargs))\n",
    "        print(\"This is after function\")\n",
    "    return wrapper\n",
    "\n",
    "@greet    #declaring decorator over 'add' function\n",
    "def add(a,b):\n",
    "    return a+b\n",
    "\n",
    "add(2,4)"
   ]
  }
 ],
 "metadata": {
  "kernelspec": {
   "display_name": "Python 3",
   "language": "python",
   "name": "python3"
  },
  "language_info": {
   "codemirror_mode": {
    "name": "ipython",
    "version": 3
   },
   "file_extension": ".py",
   "mimetype": "text/x-python",
   "name": "python",
   "nbconvert_exporter": "python",
   "pygments_lexer": "ipython3",
   "version": "3.12.0"
  }
 },
 "nbformat": 4,
 "nbformat_minor": 2
}
