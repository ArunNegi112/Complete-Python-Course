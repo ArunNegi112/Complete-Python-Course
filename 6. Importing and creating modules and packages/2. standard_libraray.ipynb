{
 "cells": [
  {
   "cell_type": "markdown",
   "metadata": {},
   "source": [
    "### Library Package and Module \n",
    "Module is a file which contains python functions , global variables etc. It is nothing but .py file which has python executable code / statement.\n",
    "\n",
    "Package is namespace which contains multiple package/modules.\n",
    "A package is a directory that contains a special __init__.py file and one or more module files. The __init__.py file can be empty but its presence indicates that the directory should be treated as a package. \n",
    "\n",
    "Library\n",
    "It is collection of various packages. There is no difference between package and python library conceptually. "
   ]
  },
  {
   "cell_type": "markdown",
   "metadata": {},
   "source": [
    "Example :\n",
    "\n",
    "\"6. importing and creating modules and packages\" = Library\n",
    "\n",
    "\"My_packages\"                                    = Package\n",
    "\n",
    "\"operation.py and mult.py\"                       = Modules\n"
   ]
  },
  {
   "cell_type": "code",
   "execution_count": 3,
   "metadata": {},
   "outputs": [
    {
     "data": {
      "text/plain": [
       "'Below are the modules function and tasks that are basically used while working'"
      ]
     },
     "execution_count": 3,
     "metadata": {},
     "output_type": "execute_result"
    }
   ],
   "source": [
    "\"\"\"Below are the modules function and tasks that are basically used while working\"\"\""
   ]
  },
  {
   "cell_type": "code",
   "execution_count": 4,
   "metadata": {},
   "outputs": [
    {
     "name": "stdout",
     "output_type": "stream",
     "text": [
      "[1 2 3 4 5 6 7 8 9]\n"
     ]
    }
   ],
   "source": [
    "import numpy \n",
    "# used for data analysis and working with arrays\n",
    "print(numpy.array([1,2,3,4,5,6,7,8,9]))"
   ]
  },
  {
   "cell_type": "code",
   "execution_count": 5,
   "metadata": {},
   "outputs": [
    {
     "name": "stdout",
     "output_type": "stream",
     "text": [
      "2.0\n"
     ]
    }
   ],
   "source": [
    "import math \n",
    "# used for working with maths formulae\n",
    "print(math.sqrt(4))"
   ]
  },
  {
   "cell_type": "code",
   "execution_count": 6,
   "metadata": {},
   "outputs": [
    {
     "name": "stdout",
     "output_type": "stream",
     "text": [
      "apple\n",
      "7\n"
     ]
    }
   ],
   "source": [
    "import random\n",
    "# used for getting/selecting/creating etcc.. random things \n",
    "print(random.choice([\"apple\",\"banana\",'allu arjun']))\n",
    "print(random.randint(1,20))"
   ]
  },
  {
   "cell_type": "code",
   "execution_count": 7,
   "metadata": {},
   "outputs": [
    {
     "name": "stdout",
     "output_type": "stream",
     "text": [
      "c:\\Users\\ashis\\Documents\\ML by KN\\6. Importing and creating modules and packages\n"
     ]
    }
   ],
   "source": [
    "import os \n",
    "# used for file and directory access\n",
    "print(os.getcwd())   # gives the file path of cwd = current working directory\n",
    "#print(os.mkdir(\"test_directory\"))   #see in folder (its created there)\n"
   ]
  },
  {
   "cell_type": "code",
   "execution_count": null,
   "metadata": {},
   "outputs": [],
   "source": []
  }
 ],
 "metadata": {
  "kernelspec": {
   "display_name": "base",
   "language": "python",
   "name": "python3"
  },
  "language_info": {
   "codemirror_mode": {
    "name": "ipython",
    "version": 3
   },
   "file_extension": ".py",
   "mimetype": "text/x-python",
   "name": "python",
   "nbconvert_exporter": "python",
   "pygments_lexer": "ipython3",
   "version": "3.12.0"
  }
 },
 "nbformat": 4,
 "nbformat_minor": 2
}
