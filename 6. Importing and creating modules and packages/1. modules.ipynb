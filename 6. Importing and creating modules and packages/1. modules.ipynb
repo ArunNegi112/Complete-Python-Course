{
 "cells": [
  {
   "cell_type": "markdown",
   "metadata": {},
   "source": [
    "## Modules and Packages :\n",
    "\n",
    "A module is a single file of Python code, while a package is a collection of modules and sub-packages structured in a directory hierarchy. Both are used to organize and reuse code, but packages provide a higher level of organization.\n",
    "\n",
    "\n",
    "\n",
    "\n",
    "\n",
    "\n"
   ]
  },
  {
   "cell_type": "markdown",
   "metadata": {},
   "source": [
    "#### HOW TO IMPORT "
   ]
  },
  {
   "cell_type": "markdown",
   "metadata": {},
   "source": [
    "_import name_                                  \n",
    "OR                                \n",
    "_import name as short_name_                                \n",
    "This'll import the module, here to call functions we gotta use prefix : name.                                 \n",
    "Slightly longer code due to the need to prefix with name. each time you use a function or variable from the module.\n",
    "\n"
   ]
  },
  {
   "cell_type": "markdown",
   "metadata": {},
   "source": [
    "\n",
    "_from name import *_       \n",
    "This'll import all the functions inside that module so we wont have to use the prefix name.                   \n",
    "Can lead to namespace pollution, where functions or variables from math may override functions or variables from other \n",
    "imports or defined in your script.\n",
    "Less readable and maintainable, as it's not always clear which module a function is coming from, especially in larger \n",
    "scripts.\n"
   ]
  },
  {
   "cell_type": "markdown",
   "metadata": {},
   "source": [
    "To see all inbuilt functions inside a module use      \n",
    "_module_name._    "
   ]
  },
  {
   "cell_type": "markdown",
   "metadata": {},
   "source": [
    "_from name import function_                  \n",
    "To import only specific function from a module"
   ]
  },
  {
   "cell_type": "code",
   "execution_count": 2,
   "metadata": {},
   "outputs": [
    {
     "name": "stdout",
     "output_type": "stream",
     "text": [
      "2.0\n"
     ]
    }
   ],
   "source": [
    "# Example \n",
    "\n",
    "import math               # importing\n",
    "\n",
    "print(math.log(100,10))   # using inbuilt function"
   ]
  },
  {
   "cell_type": "code",
   "execution_count": 3,
   "metadata": {},
   "outputs": [
    {
     "name": "stdout",
     "output_type": "stream",
     "text": [
      "2.0\n"
     ]
    }
   ],
   "source": [
    "import math as mth      # importing with short_name\n",
    "\n",
    "print(mth.log(100,10))  # using inbuilt function\n",
    "\n",
    "# log(100,10)           # this'll give error here\n"
   ]
  },
  {
   "cell_type": "code",
   "execution_count": 4,
   "metadata": {},
   "outputs": [
    {
     "name": "stdout",
     "output_type": "stream",
     "text": [
      "2.0 2.0\n"
     ]
    }
   ],
   "source": [
    "from math import log,sqrt # importing specific functions\n",
    "\n",
    "print(log(100,10),sqrt(4))# using those functions"
   ]
  },
  {
   "cell_type": "code",
   "execution_count": 5,
   "metadata": {},
   "outputs": [
    {
     "name": "stdout",
     "output_type": "stream",
     "text": [
      "0.0\n",
      "1.0\n",
      "3.141592653589793\n"
     ]
    }
   ],
   "source": [
    "from math import *     # importing all functions\n",
    "\n",
    "print(sin(0))\n",
    "print(cos(0))\n",
    "print(pi)"
   ]
  },
  {
   "cell_type": "markdown",
   "metadata": {},
   "source": [
    "##### Importing custom package"
   ]
  },
  {
   "cell_type": "code",
   "execution_count": 6,
   "metadata": {},
   "outputs": [
    {
     "name": "stdout",
     "output_type": "stream",
     "text": [
      "True\n",
      "False\n"
     ]
    }
   ],
   "source": [
    "# importing the package we created (see My_packages file)\n",
    "\n",
    "import My_packages.operation as pp \n",
    "\n",
    "\n",
    "print(pp.is_palindrome(\"HEYYEH\"))    # calling the function of the custom package we created\n",
    "print(pp.is_palindrome(\"hola\"))\n",
    "\n",
    "# from My_packages import operation  (same thing can be done like this too) !!!!!!!!!!!!!!!!!!!!!!!!!!!!!!!"
   ]
  },
  {
   "cell_type": "markdown",
   "metadata": {},
   "source": [
    "##### Importing custom sub package"
   ]
  },
  {
   "cell_type": "code",
   "execution_count": 7,
   "metadata": {},
   "outputs": [
    {
     "name": "stdout",
     "output_type": "stream",
     "text": [
      "6\n"
     ]
    }
   ],
   "source": [
    "import My_packages.My_subpackage.mult as guda\n",
    "\n",
    "print(guda.multiply(2,3))            "
   ]
  },
  {
   "cell_type": "code",
   "execution_count": null,
   "metadata": {},
   "outputs": [],
   "source": []
  }
 ],
 "metadata": {
  "kernelspec": {
   "display_name": "Python 3",
   "language": "python",
   "name": "python3"
  },
  "language_info": {
   "codemirror_mode": {
    "name": "ipython",
    "version": 3
   },
   "file_extension": ".py",
   "mimetype": "text/x-python",
   "name": "python",
   "nbconvert_exporter": "python",
   "pygments_lexer": "ipython3",
   "version": "3.9.19"
  }
 },
 "nbformat": 4,
 "nbformat_minor": 2
}
