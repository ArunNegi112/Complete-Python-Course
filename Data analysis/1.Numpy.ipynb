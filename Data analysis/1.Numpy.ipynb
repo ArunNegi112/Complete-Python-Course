{
 "cells": [
  {
   "cell_type": "markdown",
   "metadata": {},
   "source": [
    "# Numpy\n",
    "\n",
    "- NumPy is a fundamental library for scientific computing in Python. It provides support for arrays and matrices, along with a collection of mathematical functions to operate on these data structures."
   ]
  },
  {
   "cell_type": "code",
   "execution_count": 1,
   "metadata": {},
   "outputs": [],
   "source": [
    "import numpy as np"
   ]
  },
  {
   "cell_type": "code",
   "execution_count": 2,
   "metadata": {},
   "outputs": [
    {
     "name": "stdout",
     "output_type": "stream",
     "text": [
      "<class 'numpy.ndarray'>\n",
      "(5,)\n",
      "[1 2 3 4 5]\n"
     ]
    },
    {
     "data": {
      "text/plain": [
       "array([1, 2, 3, 4, 5])"
      ]
     },
     "execution_count": 2,
     "metadata": {},
     "output_type": "execute_result"
    }
   ],
   "source": [
    "#creating 1D array \n",
    "\n",
    "arr1 = np.array([1,2,3,4,5])   # anything set,list,tuple can be given\n",
    "\n",
    "print(type(arr1))\n",
    "print(np.shape(arr1))          # to get shape of array\n",
    "print(arr1)\n",
    "arr1"
   ]
  },
  {
   "cell_type": "code",
   "execution_count": 3,
   "metadata": {},
   "outputs": [
    {
     "name": "stdout",
     "output_type": "stream",
     "text": [
      "[[1 2 3 4 5]] \n",
      "\n",
      "[[1 2 3 4 5]\n",
      " [6 7 8 9 0]] \n",
      "\n",
      "[[1 2 3 4 5]]\n"
     ]
    }
   ],
   "source": [
    "#creating 2D array \n",
    "\n",
    "arr2 = np.array([[1,2,3,4,5]])    \n",
    "\n",
    "arr2a = np.array([[1,2,3,4,5],[6,7,8,9,0]])\n",
    "\n",
    "arr2b = np.reshape(arr1,(1,5))    #reshaping 1D array (we can reshape any array tho)\n",
    "\n",
    "\n",
    "print(arr2,\"\\n\")\n",
    "print(arr2a,\"\\n\")\n",
    "print(arr2b)\n"
   ]
  },
  {
   "cell_type": "code",
   "execution_count": 4,
   "metadata": {},
   "outputs": [],
   "source": [
    "# note : shape of (n,) and (n,1) are different  "
   ]
  },
  {
   "cell_type": "code",
   "execution_count": 5,
   "metadata": {},
   "outputs": [
    {
     "name": "stdout",
     "output_type": "stream",
     "text": [
      "[ 0  2  4  6  8 10]\n",
      "[ 0  2  4  6  8 10]\n"
     ]
    }
   ],
   "source": [
    "# other ways of creating array using built-in function\n",
    "\n",
    "arr3 = np.arange(0,11,2)       #gives a 1D array \n",
    "print(arr3)\n",
    "\n",
    "\n",
    "arr3a = np.arange(0,11,2).reshape(6,)\n",
    "print(arr3a)"
   ]
  },
  {
   "cell_type": "code",
   "execution_count": 6,
   "metadata": {},
   "outputs": [
    {
     "name": "stdout",
     "output_type": "stream",
     "text": [
      "Array :\n",
      " [[ 1 11 11  8  4]\n",
      " [17 15  9  8 16]\n",
      " [11  4 19  6 12]\n",
      " [ 1  1  2  7 13]]\n",
      "Row wise sum :  [35 65 52 24]\n",
      "Column wise sum : [30 31 41 29 45]\n"
     ]
    }
   ],
   "source": [
    "## Note : in numpy Axis = 0 ---> vertical axis and Axis = 1 ----> horizontal axis\n",
    "\n",
    "arr = np.random.randint(1,21,size = (4,5))\n",
    "print(\"Array :\\n\",arr)\n",
    "print(\"Row wise sum : \", np.sum(arr,axis = 1))\n",
    "print(\"Column wise sum :\", np.sum(arr,axis = 0))"
   ]
  },
  {
   "cell_type": "code",
   "execution_count": 7,
   "metadata": {},
   "outputs": [
    {
     "name": "stdout",
     "output_type": "stream",
     "text": [
      "Original array :\n",
      " [[1 2 3]\n",
      " [4 5 6]\n",
      " [7 8 9]]\n",
      "Normalized array:\n",
      " [[-1.54919334 -1.161895   -0.77459667]\n",
      " [-0.38729833  0.          0.38729833]\n",
      " [ 0.77459667  1.161895    1.54919334]]\n"
     ]
    }
   ],
   "source": [
    "#. Create a NumPy array of shape (3, 3) with values from 1 to 9. Normalize the array (i.e., scale the values to have a mean of 0 and a standard deviation of 1).\n",
    "\n",
    "arr = np.arange(1,10).reshape(3,3)\n",
    "print(\"Original array :\\n\",arr)\n",
    "\n",
    "normalized_array = (arr - np.mean(arr)) / np.std(arr)\n",
    "\n",
    "print(\"Normalized array:\\n\",normalized_array)\n",
    "\n"
   ]
  },
  {
   "cell_type": "markdown",
   "metadata": {},
   "source": [
    "#### Broadcasting \n",
    "\n",
    "broadcasting refers to the ability of the library to perform element-wise operations on arrays of different shapes in a way that makes the smaller array “broadcast” across the larger array to match its shape."
   ]
  },
  {
   "cell_type": "code",
   "execution_count": 8,
   "metadata": {},
   "outputs": [
    {
     "data": {
      "text/plain": [
       "array([[1, 2, 3],\n",
       "       [4, 5, 6]])"
      ]
     },
     "execution_count": 8,
     "metadata": {},
     "output_type": "execute_result"
    }
   ],
   "source": [
    "arr = np.array([[1,2,3],[4,5,6]])\n",
    "arr"
   ]
  },
  {
   "cell_type": "code",
   "execution_count": 9,
   "metadata": {},
   "outputs": [
    {
     "data": {
      "text/plain": [
       "array([[11, 12, 13],\n",
       "       [14, 15, 16]])"
      ]
     },
     "execution_count": 9,
     "metadata": {},
     "output_type": "execute_result"
    }
   ],
   "source": [
    "## Adding a scalar\n",
    "\n",
    "arr1 = arr+10\n",
    "arr1"
   ]
  },
  {
   "cell_type": "code",
   "execution_count": 10,
   "metadata": {},
   "outputs": [
    {
     "data": {
      "text/plain": [
       "array([[11, 22, 33],\n",
       "       [14, 25, 36]])"
      ]
     },
     "execution_count": 10,
     "metadata": {},
     "output_type": "execute_result"
    }
   ],
   "source": [
    "## Broadcasting 1D array in 2D array (horizontally)\n",
    "arrA = np.array([10,20,30])      \n",
    "\n",
    "arr2 = arr + arrA\n",
    "arr2"
   ]
  },
  {
   "cell_type": "code",
   "execution_count": 11,
   "metadata": {},
   "outputs": [
    {
     "data": {
      "text/plain": [
       "array([[11, 12, 13],\n",
       "       [24, 25, 26]])"
      ]
     },
     "execution_count": 11,
     "metadata": {},
     "output_type": "execute_result"
    }
   ],
   "source": [
    "## Broadcasting 1D array in 2D array (Vertically)\n",
    "\n",
    "arrA = np.array([10,20]).reshape((2,1)) # OR np.array([[10],[20]])\n",
    "\n",
    "arr2 = arr+arrA\n",
    "arr2\n"
   ]
  },
  {
   "cell_type": "code",
   "execution_count": 12,
   "metadata": {},
   "outputs": [
    {
     "name": "stdout",
     "output_type": "stream",
     "text": [
      "Original matrix :\n",
      " [[1 2 3]\n",
      " [4 5 6]\n",
      " [7 8 9]] \n",
      "\n",
      "Determinant :\n",
      " 0.0 \n",
      "\n",
      "Matrix is singular, inverse does not exist.\n",
      "\n",
      "Matrix multiplication result:\n",
      " [[ 58  64]\n",
      " [139 154]]\n"
     ]
    }
   ],
   "source": [
    "import numpy as np  # Ensure NumPy is imported\n",
    "\n",
    "# Creating a 3x3 matrix\n",
    "arr = np.arange(1, 10).reshape(3, 3)\n",
    "\n",
    "print(\"Original matrix :\\n\", arr, \"\\n\")\n",
    "\n",
    "# Determinant\n",
    "det_m = np.linalg.det(arr)\n",
    "print(\"Determinant :\\n\", det_m, \"\\n\")  # Close to 0 (Singular matrix)\n",
    "\n",
    "# Check if the matrix is singular before computing the inverse\n",
    "if np.isclose(det_m, 0):\n",
    "    print(\"Matrix is singular, inverse does not exist.\\n\")\n",
    "else:\n",
    "    Inverse = np.linalg.inv(arr)  # Compute inverse only if determinant is non-zero\n",
    "    print(\"Inverse matrix :\\n\", Inverse, \"\\n\")\n",
    "\n",
    "# Creating two matrices for multiplication\n",
    "arr1 = np.arange(1, 7).reshape(2, 3)\n",
    "arr2 = np.arange(7, 13).reshape(3, 2)\n",
    "\n",
    "# Matrix multiplication\n",
    "result = arr1 @ arr2  # More readable than np.dot()\n",
    "print(\"Matrix multiplication result:\\n\", result)\n"
   ]
  },
  {
   "cell_type": "markdown",
   "metadata": {},
   "source": [
    "### Indexing & Slicing"
   ]
  },
  {
   "cell_type": "markdown",
   "metadata": {},
   "source": [
    "#### 1. Fancy indexing"
   ]
  },
  {
   "cell_type": "code",
   "execution_count": 13,
   "metadata": {},
   "outputs": [
    {
     "name": "stdout",
     "output_type": "stream",
     "text": [
      "Original array :\n",
      " [[1 2 3]\n",
      " [4 5 6]\n",
      " [7 8 9]] \n",
      "\n",
      "1\n",
      "1\n",
      "8\n"
     ]
    }
   ],
   "source": [
    "# Getting elements\n",
    "\n",
    "elements = np.arange(1,10).reshape(3,3)\n",
    "print(\"Original array :\\n\",elements,\"\\n\")\n",
    "\n",
    "print(elements[0,0])\n",
    "print(elements[0][0])\n",
    "print(elements[2,1])"
   ]
  },
  {
   "cell_type": "code",
   "execution_count": 14,
   "metadata": {},
   "outputs": [
    {
     "data": {
      "text/plain": [
       "array([1, 3, 5])"
      ]
     },
     "execution_count": 14,
     "metadata": {},
     "output_type": "execute_result"
    }
   ],
   "source": [
    "# 1D array\n",
    "D1arr = np.array([1,2,3,4,5])\n",
    "\n",
    "D1arr[[0,2,4]]     # This is how to access more than one elements   "
   ]
  },
  {
   "cell_type": "code",
   "execution_count": 15,
   "metadata": {},
   "outputs": [
    {
     "data": {
      "text/plain": [
       "array([1, 3, 7, 9])"
      ]
     },
     "execution_count": 15,
     "metadata": {},
     "output_type": "execute_result"
    }
   ],
   "source": [
    "# 2D array\n",
    "D2arr = np.array([[1,2,3],\n",
    "                  [4,5,6],\n",
    "                  [7,8,9]])\n",
    "\n",
    "D2arr[[0,0,-1,-1],[0,-1,0,-1]]  #this will give elements at (0,0),(0,-1),(-1,0),(-1,-1)\n"
   ]
  },
  {
   "cell_type": "code",
   "execution_count": 16,
   "metadata": {},
   "outputs": [
    {
     "name": "stdout",
     "output_type": "stream",
     "text": [
      "Original array :\n",
      " [[1 2 3]\n",
      " [4 5 6]\n",
      " [7 8 9]] \n",
      "\n",
      "row1:\n",
      " [1 2 3] \n",
      "\n",
      "column1:\n",
      " [1 4 7] \n",
      "\n"
     ]
    }
   ],
   "source": [
    "''' Slicing '''\n",
    "\n",
    "arr = np.arange(1,10).reshape(3,3)\n",
    "print(\"Original array :\\n\",arr,\"\\n\")\n",
    "\n",
    "row1 = arr[0]\n",
    "print(\"row1:\\n\",row1,\"\\n\")\n",
    "\n",
    "column1 = arr[:,0]\n",
    "print(\"column1:\\n\",column1,\"\\n\")\n",
    "\n"
   ]
  },
  {
   "cell_type": "code",
   "execution_count": 17,
   "metadata": {},
   "outputs": [
    {
     "name": "stdout",
     "output_type": "stream",
     "text": [
      "Original array :\n",
      " [[ 1  2  3  4]\n",
      " [ 5  6  7  8]\n",
      " [ 9 10 11 12]\n",
      " [13 14 15 16]] \n",
      "\n"
     ]
    },
    {
     "data": {
      "text/plain": [
       "array([[ 1,  2],\n",
       "       [ 9, 10],\n",
       "       [13, 14]])"
      ]
     },
     "execution_count": 17,
     "metadata": {},
     "output_type": "execute_result"
    }
   ],
   "source": [
    "# Fancy indexing with slicing\n",
    "\n",
    "arr = np.arange(1,17).reshape(4,4)\n",
    "print(\"Original array :\\n\",arr,\"\\n\")\n",
    "\n",
    "arr[[0,2,3], 0:2]    "
   ]
  },
  {
   "cell_type": "markdown",
   "metadata": {},
   "source": [
    "#### Boolean indexing \n",
    "this is used for filtering the arrays"
   ]
  },
  {
   "cell_type": "code",
   "execution_count": 18,
   "metadata": {},
   "outputs": [
    {
     "name": "stdout",
     "output_type": "stream",
     "text": [
      "[ 6  7  8  9 10 11 12]\n"
     ]
    }
   ],
   "source": [
    "matrix = np.array([[1, 2, 3, 4],\n",
    "                   [5, 6, 7, 8],\n",
    "                   [9, 10, 11, 12]])\n",
    "\n",
    "\n",
    "result = matrix[matrix>5]   # we give condition for elements, if condition matched by element, it gets printed\n",
    "print(result)"
   ]
  },
  {
   "cell_type": "markdown",
   "metadata": {},
   "source": [
    "#### Structured array"
   ]
  },
  {
   "cell_type": "code",
   "execution_count": 19,
   "metadata": {},
   "outputs": [
    {
     "name": "stdout",
     "output_type": "stream",
     "text": [
      "Structured Array:\n",
      " [(1, 2.5, 'Alice') (2, 3.6, 'Bob') (3, 4.7, 'Charlie')] \n",
      "\n",
      "Field1 (integers): [1 2 3]\n",
      "Field2 (floats): [2.5 3.6 4.7]\n",
      "Field3 (strings): ['Alice' 'Bob' 'Charlie']\n"
     ]
    }
   ],
   "source": [
    "# Define the data type with fields\n",
    "# Format: ('field_name', 'data_type')\n",
    "data_type = [('field1', 'i4'), ('field2', 'f4'), ('field3', 'U10')]\n",
    "\n",
    "# Create a structured array with the defined data type\n",
    "structured_array = np.array([\n",
    "    (1, 2.5, 'Alice'),\n",
    "    (2, 3.6, 'Bob'),\n",
    "    (3, 4.7, 'Charlie')\n",
    "], dtype=data_type)\n",
    "\n",
    "# Access the structured array\n",
    "print(\"Structured Array:\\n\", structured_array,\"\\n\")\n",
    "\n",
    "# Access individual fields\n",
    "print(\"Field1 (integers):\", structured_array['field1'])\n",
    "print(\"Field2 (floats):\", structured_array['field2'])\n",
    "print(\"Field3 (strings):\", structured_array['field3'])\n"
   ]
  },
  {
   "cell_type": "code",
   "execution_count": 20,
   "metadata": {},
   "outputs": [
    {
     "name": "stdout",
     "output_type": "stream",
     "text": [
      "Original array :\n",
      " [('Arun', 18,  84.5) ('Kishh', 19, 100.5) ('Harsh', 15,  40.3)] \n",
      "\n",
      "['Arun' 'Kishh' 'Harsh']\n",
      "[18 19 15]\n",
      "[ 84.5 100.5  40.3]\n",
      "[('Harsh', 15,  40.3) ('Arun', 18,  84.5) ('Kishh', 19, 100.5)]\n"
     ]
    }
   ],
   "source": [
    "# sorting data in strutured array\n",
    "\n",
    "data_type = [('Name','U10'),('Age','i4'),('Weight','f4')]\n",
    "\n",
    "str_arr = np.array([('Arun',18,84.5),('Kishh',19,100.5),('Harsh',15,40.3)],dtype=data_type)\n",
    "print(\"Original array :\\n\",str_arr,\"\\n\")\n",
    "\n",
    "print(str_arr['Name'])\n",
    "print(str_arr['Age'])\n",
    "print(str_arr['Weight'])\n",
    "\n",
    "sorted_strarr = np.sort(str_arr,order = 'Age')\n",
    "print(sorted_strarr)"
   ]
  },
  {
   "cell_type": "code",
   "execution_count": null,
   "metadata": {},
   "outputs": [
    {
     "data": {
      "text/plain": [
       "True"
      ]
     },
     "execution_count": 30,
     "metadata": {},
     "output_type": "execute_result"
    }
   ],
   "source": [
    "# To check if two arrays are similar with a very small tolerance\n",
    "\n",
    "A = np.array([1,2,3,4,5])\n",
    "B = np.array([1,2,3,4,5.00002])\n",
    "\n",
    "np.allclose(A,B)\n",
    "# (Usefule in ML)"
   ]
  }
 ],
 "metadata": {
  "kernelspec": {
   "display_name": "env",
   "language": "python",
   "name": "python3"
  },
  "language_info": {
   "codemirror_mode": {
    "name": "ipython",
    "version": 3
   },
   "file_extension": ".py",
   "mimetype": "text/x-python",
   "name": "python",
   "nbconvert_exporter": "python",
   "pygments_lexer": "ipython3",
   "version": "3.13.1"
  }
 },
 "nbformat": 4,
 "nbformat_minor": 2
}
