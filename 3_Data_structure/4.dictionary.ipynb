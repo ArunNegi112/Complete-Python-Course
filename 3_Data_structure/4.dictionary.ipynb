{
 "cells": [
  {
   "cell_type": "markdown",
   "metadata": {},
   "source": [
    "## Dictionary\n",
    "\n",
    "Dictionaries are unordered collections of items. They store data in key-value pairs. Keys must be unique and immutable, values can be changed"
   ]
  },
  {
   "cell_type": "code",
   "execution_count": 65,
   "metadata": {},
   "outputs": [
    {
     "name": "stdout",
     "output_type": "stream",
     "text": [
      "{}\n",
      "<class 'dict'>\n"
     ]
    }
   ],
   "source": [
    "dict = {}\n",
    "print(dict)\n",
    "print(type(dict))"
   ]
  },
  {
   "cell_type": "code",
   "execution_count": 66,
   "metadata": {},
   "outputs": [
    {
     "name": "stdout",
     "output_type": "stream",
     "text": [
      "{'name': 'Arun', 'age': 17, 'class': '1st year'}\n"
     ]
    }
   ],
   "source": [
    "about = {\"name\":\"Arun\",\"age\":17,\"class\":\"1st year\"}\n",
    "print(about)"
   ]
  },
  {
   "cell_type": "code",
   "execution_count": 67,
   "metadata": {},
   "outputs": [
    {
     "name": "stdout",
     "output_type": "stream",
     "text": [
      "{'name': 'Arun', 'age': 17, 'class': '2nd year'}\n"
     ]
    }
   ],
   "source": [
    "about = {\"name\":\"Arun\",\"age\":17,\"class\":\"1st year\",\"class\":\"2nd year\"}\n",
    "print(about)\n",
    "\n",
    "# note that keys can be defined several num of times but only one value be assigned to it (last one)"
   ]
  },
  {
   "cell_type": "markdown",
   "metadata": {},
   "source": [
    "ACCESSING ELEMENTS"
   ]
  },
  {
   "cell_type": "code",
   "execution_count": 68,
   "metadata": {},
   "outputs": [
    {
     "data": {
      "text/plain": [
       "{'name': 'Arun', 'age': 17, 'class': '2nd year'}"
      ]
     },
     "execution_count": 68,
     "metadata": {},
     "output_type": "execute_result"
    }
   ],
   "source": [
    "about"
   ]
  },
  {
   "cell_type": "code",
   "execution_count": 69,
   "metadata": {},
   "outputs": [
    {
     "data": {
      "text/plain": [
       "'Arun'"
      ]
     },
     "execution_count": 69,
     "metadata": {},
     "output_type": "execute_result"
    }
   ],
   "source": [
    "# direct method : returns eror if given key is not present\n",
    "\n",
    "about[\"name\"]"
   ]
  },
  {
   "cell_type": "code",
   "execution_count": 70,
   "metadata": {},
   "outputs": [
    {
     "name": "stdout",
     "output_type": "stream",
     "text": [
      "Arun\n",
      "None\n",
      "not defined\n"
     ]
    }
   ],
   "source": [
    "# .get() method : doesnt give erorr even if key doesnt exists\n",
    "\n",
    "print(about.get(\"name\"))\n",
    "\n",
    "print(about.get(\"surname\"))                  # gives 'none'\n",
    "\n",
    "print(about.get(\"surname\",'not defined'))   # .get(key to find, what to print if not available)\n"
   ]
  },
  {
   "cell_type": "markdown",
   "metadata": {},
   "source": [
    "MODIFYING VALUES\n",
    "\n",
    "Dictionary are mutable,so you can add, update or delete elements\n"
   ]
  },
  {
   "cell_type": "code",
   "execution_count": 71,
   "metadata": {},
   "outputs": [
    {
     "data": {
      "text/plain": [
       "{'name': 'Arun', 'age': 17, 'class': '2nd year'}"
      ]
     },
     "execution_count": 71,
     "metadata": {},
     "output_type": "execute_result"
    }
   ],
   "source": [
    "about"
   ]
  },
  {
   "cell_type": "code",
   "execution_count": 72,
   "metadata": {},
   "outputs": [
    {
     "data": {
      "text/plain": [
       "{'name': 'Arun', 'age': 18, 'class': '2nd year', 'college': 'BPIT'}"
      ]
     },
     "execution_count": 72,
     "metadata": {},
     "output_type": "execute_result"
    }
   ],
   "source": [
    "about[\"age\"] = 18           #changing value assigned to key\n",
    "\n",
    "about[\"college\"] = \"BPIT\"   #assigning new key-value pair\n",
    "\n",
    "about"
   ]
  },
  {
   "cell_type": "code",
   "execution_count": 73,
   "metadata": {},
   "outputs": [
    {
     "data": {
      "text/plain": [
       "{'name': 'Arun', 'age': 18, 'college': 'BPIT'}"
      ]
     },
     "execution_count": 73,
     "metadata": {},
     "output_type": "execute_result"
    }
   ],
   "source": [
    "# deleting key-value pairs\n",
    "\n",
    "del about[\"class\"]\n",
    "\n",
    "about"
   ]
  },
  {
   "cell_type": "markdown",
   "metadata": {},
   "source": [
    "DICTIONARY METHODS"
   ]
  },
  {
   "cell_type": "code",
   "execution_count": 74,
   "metadata": {},
   "outputs": [
    {
     "data": {
      "text/plain": [
       "{'name': 'Arun', 'age': 18, 'college': 'BPIT'}"
      ]
     },
     "execution_count": 74,
     "metadata": {},
     "output_type": "execute_result"
    }
   ],
   "source": [
    "about "
   ]
  },
  {
   "cell_type": "code",
   "execution_count": 75,
   "metadata": {},
   "outputs": [
    {
     "name": "stdout",
     "output_type": "stream",
     "text": [
      "dict_keys(['name', 'age', 'college'])\n",
      "dict_values(['Arun', 18, 'BPIT'])\n",
      "dict_items([('name', 'Arun'), ('age', 18), ('college', 'BPIT')])\n"
     ]
    }
   ],
   "source": [
    "print(about.keys())     # return list of all keys\n",
    "\n",
    "print(about.values())   # return list of all values\n",
    "\n",
    "print(about.items())    # return list of all key-value pairs in tuple"
   ]
  },
  {
   "cell_type": "code",
   "execution_count": 76,
   "metadata": {},
   "outputs": [
    {
     "name": "stdout",
     "output_type": "stream",
     "text": [
      "{'name': 'Arun', 'age': 18, 'college': 'BPIT'}\n",
      "{'name': 'Arun', 'age': 18, 'college': 'BPIT'}\n",
      "{'name': 'batman', 'age': 18, 'college': 'BPIT'}\n",
      "{'name': 'batman', 'age': 18, 'college': 'BPIT'}\n"
     ]
    }
   ],
   "source": [
    "# creating direct copy\n",
    "about_copy = about  \n",
    "print(about_copy)\n",
    "print(about)\n",
    "\n",
    "about[\"name\"] = \"batman\"\n",
    "print(about_copy)\n",
    "print(about)\n",
    "\n",
    "# notice the problem in this ?"
   ]
  },
  {
   "cell_type": "code",
   "execution_count": 77,
   "metadata": {},
   "outputs": [
    {
     "name": "stdout",
     "output_type": "stream",
     "text": [
      "{'name': 'batman', 'age': 18, 'college': 'BPIT'}\n",
      "{'name': 'batman', 'age': 18, 'college': 'BPIT'}\n",
      "{'name': 'batman', 'age': 18, 'college': 'BPIT'}\n",
      "{'name': 'allu arjun', 'age': 18, 'college': 'BPIT'}\n"
     ]
    }
   ],
   "source": [
    "# creating shallow copy\n",
    "\n",
    "about_copy = about.copy()\n",
    "print(about_copy)\n",
    "print(about)\n",
    "\n",
    "about[\"name\"] = \"allu arjun\"\n",
    "print(about_copy)\n",
    "print(about)"
   ]
  },
  {
   "cell_type": "markdown",
   "metadata": {},
   "source": [
    "ITERATING OVER DICTIONARY"
   ]
  },
  {
   "cell_type": "code",
   "execution_count": 78,
   "metadata": {},
   "outputs": [
    {
     "data": {
      "text/plain": [
       "{'name': 'allu arjun', 'age': 18, 'college': 'BPIT'}"
      ]
     },
     "execution_count": 78,
     "metadata": {},
     "output_type": "execute_result"
    }
   ],
   "source": [
    "about"
   ]
  },
  {
   "cell_type": "code",
   "execution_count": 79,
   "metadata": {},
   "outputs": [
    {
     "name": "stdout",
     "output_type": "stream",
     "text": [
      "name\n",
      "age\n",
      "college\n"
     ]
    }
   ],
   "source": [
    "# iterating over keys\n",
    "\n",
    "for key in about.keys():\n",
    "    print(key)"
   ]
  },
  {
   "cell_type": "code",
   "execution_count": 80,
   "metadata": {},
   "outputs": [
    {
     "name": "stdout",
     "output_type": "stream",
     "text": [
      "allu arjun\n",
      "18\n",
      "BPIT\n"
     ]
    }
   ],
   "source": [
    "# iterating over values\n",
    "\n",
    "for value in about.values():\n",
    "    print(value)"
   ]
  },
  {
   "cell_type": "code",
   "execution_count": 81,
   "metadata": {},
   "outputs": [
    {
     "name": "stdout",
     "output_type": "stream",
     "text": [
      "('name', 'allu arjun')\n",
      "('age', 18)\n",
      "('college', 'BPIT')\n",
      "\n",
      "name : allu arjun\n",
      "age : 18\n",
      "college : BPIT\n"
     ]
    }
   ],
   "source": [
    "# iterating over key-value pairs (items)\n",
    "\n",
    "for item in about.items():\n",
    "    print(item)\n",
    "\n",
    "print()\n",
    "\n",
    "for key,value in about.items():    # a better representation\n",
    "    print(f\"{key} : {value}\")"
   ]
  },
  {
   "cell_type": "markdown",
   "metadata": {},
   "source": [
    "#### Nested dictionary"
   ]
  },
  {
   "cell_type": "code",
   "execution_count": 82,
   "metadata": {},
   "outputs": [
    {
     "data": {
      "text/plain": [
       "{'student1': {'name': 'Negi', 'age': '17', 'fingers': 10},\n",
       " 'student2': {'name': 'Nigga', 'age': '18', 'fingers': 20}}"
      ]
     },
     "execution_count": 82,
     "metadata": {},
     "output_type": "execute_result"
    }
   ],
   "source": [
    "information = {\n",
    "    \"student1\":{\"name\":\"Negi\" , \"age\":\"17\" , \"fingers\":10},\n",
    "    \"student2\":{\"name\":\"Nigga\" , \"age\":\"18\" , \"fingers\":20}\n",
    "\n",
    "}\n",
    "\n",
    "information"
   ]
  },
  {
   "cell_type": "code",
   "execution_count": 83,
   "metadata": {},
   "outputs": [
    {
     "name": "stdout",
     "output_type": "stream",
     "text": [
      "{'name': 'Negi', 'age': '17', 'fingers': 10}\n",
      "Negi\n",
      "17\n",
      "10\n"
     ]
    }
   ],
   "source": [
    "# Accessing elements\n",
    "\n",
    "print(information[\"student1\"])\n",
    "print(information[\"student1\"][\"name\"])\n",
    "print(information[\"student1\"][\"age\"])\n",
    "print(information[\"student1\"][\"fingers\"])"
   ]
  },
  {
   "cell_type": "code",
   "execution_count": 87,
   "metadata": {},
   "outputs": [
    {
     "name": "stdout",
     "output_type": "stream",
     "text": [
      "student1\n",
      "student2\n",
      "\n",
      "{'name': 'Negi', 'age': '17', 'fingers': 10}\n",
      "{'name': 'Nigga', 'age': '18', 'fingers': 20}\n",
      "\n",
      "student1 {'name': 'Negi', 'age': '17', 'fingers': 10}\n",
      "student2 {'name': 'Nigga', 'age': '18', 'fingers': 20}\n",
      "\n"
     ]
    }
   ],
   "source": [
    "# iterating over nested dictionary\n",
    "\n",
    "for student in information.keys():\n",
    "    print(student)\n",
    "\n",
    "print()\n",
    "\n",
    "for info in information.values():\n",
    "    print(info)\n",
    "\n",
    "print()\n",
    "\n",
    "for student,info in information.items():\n",
    "    print(student,info)"
   ]
  },
  {
   "cell_type": "code",
   "execution_count": 104,
   "metadata": {},
   "outputs": [
    {
     "name": "stdout",
     "output_type": "stream",
     "text": [
      "student1 : {'name': 'Negi', 'age': '17', 'fingers': 10}\n",
      "Negi\n",
      "17\n",
      "10\n",
      "student2 : {'name': 'Nigga', 'age': '18', 'fingers': 20}\n",
      "Nigga\n",
      "18\n",
      "20\n"
     ]
    }
   ],
   "source": [
    "for student,info in information.items():\n",
    "    print(f\"{student} : {info}\")\n",
    "    for ques,ans in info.items():\n",
    "        print(ans)"
   ]
  },
  {
   "cell_type": "markdown",
   "metadata": {},
   "source": [
    "DICTIONARY COMPREHENSION\n",
    "\n",
    "syntax : \n",
    "\n",
    "\n",
    "________name = {key:value iteration conditon}"
   ]
  },
  {
   "cell_type": "code",
   "execution_count": 1,
   "metadata": {},
   "outputs": [
    {
     "name": "stdout",
     "output_type": "stream",
     "text": [
      "{0: 0, 2: 4, 4: 16, 6: 36, 8: 64}\n"
     ]
    }
   ],
   "source": [
    "# example \n",
    "dict = {}\n",
    "\n",
    "for i in range(10):\n",
    "    if i%2==0:\n",
    "        dict[i]=i**2\n",
    "\n",
    "print(dict)"
   ]
  },
  {
   "cell_type": "code",
   "execution_count": 2,
   "metadata": {},
   "outputs": [
    {
     "name": "stdout",
     "output_type": "stream",
     "text": [
      "{0: 0, 2: 4, 4: 16, 6: 36, 8: 64}\n"
     ]
    }
   ],
   "source": [
    "# example with dict comprehensioin\n",
    "\n",
    "dict = {i:i**2 for i in range(10) if i%2==0}\n",
    "\n",
    "print(dict)"
   ]
  },
  {
   "cell_type": "markdown",
   "metadata": {},
   "source": [
    "PRACTICAL EXAMPLES"
   ]
  },
  {
   "cell_type": "code",
   "execution_count": 5,
   "metadata": {},
   "outputs": [
    {
     "data": {
      "text/plain": [
       "{1: 1, 2: 3, 3: 2, 4: 4}"
      ]
     },
     "execution_count": 5,
     "metadata": {},
     "output_type": "execute_result"
    }
   ],
   "source": [
    "# to find frequency of numbers in list\n",
    "\n",
    "lis = [1,2,2,2,3,3,4,4,4,4]\n",
    "frequency = {}\n",
    "\n",
    "for i in lis :\n",
    "    if i in frequency:\n",
    "        frequency[i] = frequency[i]+1\n",
    "    else:\n",
    "        frequency[i]=1\n",
    "\n",
    "frequency\n"
   ]
  },
  {
   "cell_type": "markdown",
   "metadata": {},
   "source": [
    "MERGING DICTIONARIES"
   ]
  },
  {
   "cell_type": "code",
   "execution_count": 7,
   "metadata": {},
   "outputs": [
    {
     "data": {
      "text/plain": [
       "{'pigeon': 'pee', 'dog': 'bhow', 'cat': 'meow', 'kutta': 'bhow'}"
      ]
     },
     "execution_count": 7,
     "metadata": {},
     "output_type": "execute_result"
    }
   ],
   "source": [
    "DICT_1 = {\"pigeon\":\"pee\",\"dog\":\"bhow\"}\n",
    "DICT_2 = {\"cat\":\"meow\",\"kutta\":\"bhow\"}\n",
    "\n",
    "merged_dict = {**DICT_1,**DICT_2}\n",
    "merged_dict"
   ]
  },
  {
   "cell_type": "markdown",
   "metadata": {},
   "source": [
    "CONCATENATION"
   ]
  },
  {
   "cell_type": "code",
   "execution_count": 1,
   "metadata": {},
   "outputs": [
    {
     "name": "stdout",
     "output_type": "stream",
     "text": [
      "{1: 1, 2: 4, 3: 9, 4: 16, 5: 25, 6: 36, 7: 49, 8: 64, 9: 81, 10: 100}\n"
     ]
    }
   ],
   "source": [
    "d1 = {i: i**2 for i in range(1, 6)}\n",
    "d2 = {i: i**2 for i in range(6, 11)}\n",
    "d1.update(d2)\n",
    "print(d1)"
   ]
  },
  {
   "cell_type": "markdown",
   "metadata": {},
   "source": [
    "DEFAULT DICTIONARY "
   ]
  },
  {
   "cell_type": "code",
   "execution_count": 9,
   "metadata": {},
   "outputs": [
    {
     "name": "stdout",
     "output_type": "stream",
     "text": [
      "<class 'collections.defaultdict'>\n"
     ]
    }
   ],
   "source": [
    "from collections import defaultdict\n",
    "\n",
    "print(defaultdict)\n",
    "\n"
   ]
  },
  {
   "cell_type": "code",
   "execution_count": null,
   "metadata": {},
   "outputs": [],
   "source": []
  }
 ],
 "metadata": {
  "kernelspec": {
   "display_name": "Python 3",
   "language": "python",
   "name": "python3"
  },
  "language_info": {
   "codemirror_mode": {
    "name": "ipython",
    "version": 3
   },
   "file_extension": ".py",
   "mimetype": "text/x-python",
   "name": "python",
   "nbconvert_exporter": "python",
   "pygments_lexer": "ipython3",
   "version": "3.12.0"
  }
 },
 "nbformat": 4,
 "nbformat_minor": 2
}
