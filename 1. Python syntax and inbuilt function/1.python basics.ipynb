{
 "cells": [
  {
   "cell_type": "markdown",
   "metadata": {},
   "source": [
    "# "
   ]
  },
  {
   "cell_type": "markdown",
   "metadata": {},
   "source": [
    "# HEADING (biggest possible)\n",
    "## HEADING (smaller)\n",
    "\n",
    "__bold__\n",
    "\n",
    "_italic_\n",
    "\n",
    "___italic bold___\n",
    "\n",
    "        Highlighted\n",
    "\n",
    "- NOTE .1\n",
    "- NOTE .2\n",
    "\n",
    "**Table**\n",
    "\n",
    "|**hey** | **YO** |\n",
    "---------|--------- \n",
    "|lmao    | yo     |"
   ]
  },
  {
   "cell_type": "markdown",
   "metadata": {},
   "source": [
    "Syntax : correct arrangement of words so computer can understand the task\n",
    "\n",
    "Semantics : interpretation of given code. its what code is supposed to actually do when it runs"
   ]
  },
  {
   "cell_type": "code",
   "execution_count": 1,
   "metadata": {},
   "outputs": [
    {
     "data": {
      "text/plain": [
       "' \\nThis is\\nMulti line comment\\nbut this only works in .py file not in .ipynb file(jupyter file)\\n'"
      ]
     },
     "execution_count": 1,
     "metadata": {},
     "output_type": "execute_result"
    }
   ],
   "source": [
    "# single line comment\n",
    "\n",
    "''' \n",
    "This is\n",
    "Multi line comment\n",
    "but this only works in .py file not in .ipynb file(jupyter file)\n",
    "'''"
   ]
  },
  {
   "cell_type": "markdown",
   "metadata": {},
   "source": [
    "#### Identation\n",
    "\n",
    "it is used to define the structure of the code. Unlike many other programming languages that use braces {} to delimit blocks of code, Python uses indentation to determine the grouping of statements. This means that all the statements within a block must be indented at the same level.\n"
   ]
  },
  {
   "cell_type": "raw",
   "metadata": {
    "vscode": {
     "languageId": "raw"
    }
   },
   "source": [
    "example:\n",
    "\n",
    "age=32\n",
    "if age>30:\n",
    "    print(age)   #this 4 spaces(or tab) is called intedentation\n"
   ]
  },
  {
   "cell_type": "code",
   "execution_count": 2,
   "metadata": {},
   "outputs": [
    {
     "name": "stdout",
     "output_type": "stream",
     "text": [
      "Hellow wolrd\n"
     ]
    }
   ],
   "source": [
    "print(\"Hellow wolrd\")"
   ]
  },
  {
   "cell_type": "code",
   "execution_count": 3,
   "metadata": {},
   "outputs": [
    {
     "name": "stdout",
     "output_type": "stream",
     "text": [
      "28\n"
     ]
    }
   ],
   "source": [
    "# Line continuation\n",
    "\n",
    "a = 1+2+3+4+5\\\n",
    "+6+7              #with this backslash we can write code in multiple lines\n",
    "\n",
    "print(a)"
   ]
  },
  {
   "cell_type": "code",
   "execution_count": 4,
   "metadata": {},
   "outputs": [
    {
     "name": "stdout",
     "output_type": "stream",
     "text": [
      "3\n"
     ]
    }
   ],
   "source": [
    "# Multistatements on single line\n",
    "\n",
    "one = 1 ; two = 2 ; three = one+two\n",
    "\n",
    "print(three)"
   ]
  },
  {
   "cell_type": "code",
   "execution_count": 5,
   "metadata": {},
   "outputs": [
    {
     "name": "stdout",
     "output_type": "stream",
     "text": [
      "age: 17   height: 5.11   name: Arun\n"
     ]
    }
   ],
   "source": [
    "# print function\n",
    "age = 17\n",
    "height = 5.11\n",
    "name = \"Arun\"\n",
    "\n",
    "print(\"age:\",age,\" \",\"height:\",height,\" \",\"name:\",name)   # \",\"(comma) gets a default space btween variables"
   ]
  },
  {
   "cell_type": "code",
   "execution_count": 6,
   "metadata": {},
   "outputs": [],
   "source": [
    "# NAMING CONVENTIONS\n",
    "## Variable names should be descriptive\n",
    "## They must start with a letter or an '_' and contains letter,numbers and underscores\n",
    "## variables names are case sensitive\n",
    "\n",
    "#valid variable names\n",
    "\n",
    "first_name=\"Arun\"\n",
    "last_name=\"Hatakekeke\"\n",
    "\n",
    "# Invalid variable names\n",
    "\n",
    "#2age=30\n",
    "#first-name=\"Krish\"\n",
    "#@name=\"Krish\""
   ]
  },
  {
   "cell_type": "code",
   "execution_count": 7,
   "metadata": {},
   "outputs": [
    {
     "name": "stdout",
     "output_type": "stream",
     "text": [
      "<class 'int'>\n",
      "<class 'float'>\n",
      "<class 'str'>\n",
      "<class 'bool'>\n"
     ]
    }
   ],
   "source": [
    "# UNDERSTANDING VARIABLE TYPES\n",
    "## Python is DYNAMICALLY TYPED,mean the type of a variable is determined at runtime (not at the moment of writing code)\n",
    "\n",
    "print(type(10))\n",
    "print(type(10.0))\n",
    "print(type(\"lmao\"))\n",
    "print(type(True))\n",
    "\n",
    "# these are basic data types (there are more ex: array,dataframes etc)"
   ]
  },
  {
   "cell_type": "code",
   "execution_count": 8,
   "metadata": {},
   "outputs": [
    {
     "name": "stdout",
     "output_type": "stream",
     "text": [
      "2\n",
      "1\n"
     ]
    }
   ],
   "source": [
    "# Swapping variables\n",
    "x = 1\n",
    "y = 2\n",
    "x, y = y, x\n",
    "print(x)  # Output: 2\n",
    "print(y)  # Output: 1"
   ]
  },
  {
   "cell_type": "code",
   "execution_count": 9,
   "metadata": {},
   "outputs": [
    {
     "name": "stdout",
     "output_type": "stream",
     "text": [
      "<class 'str'>\n",
      "<class 'float'>\n",
      "<class 'int'>\n",
      "False <class 'bool'>\n",
      "True\n"
     ]
    }
   ],
   "source": [
    "# TYPE CONVERSIONS\n",
    "age = 17\n",
    "height = 5.11\n",
    "name = \"Arun\"\n",
    "\n",
    "str_age = str(age)       #converts any datatype into string\n",
    "float_age = float(age)   #converts integer/string(if only number is present in string) datatype into float\n",
    "\n",
    "int_height = int(height) #converts float/string(same as above) into greatest integer less than or equal to given value\n",
    "\n",
    "\n",
    "print(type(str_age))\n",
    "print(type(float_age))\n",
    "print(type(int_height))\n",
    "\n",
    "is_true = bool()        # when nothing given it prints False\n",
    "print(is_true,type(is_true))\n",
    "\n",
    "is_true = \"false\"\n",
    "print(bool(is_true))   # when given something (anything) prints True"
   ]
  },
  {
   "cell_type": "code",
   "execution_count": 10,
   "metadata": {},
   "outputs": [
    {
     "name": "stdout",
     "output_type": "stream",
     "text": [
      "10 <class 'int'>\n",
      "10 <class 'str'>\n",
      "10.0 <class 'float'>\n",
      "False <class 'bool'>\n"
     ]
    }
   ],
   "source": [
    "var = 10\n",
    "print(var,type(var))\n",
    "\n",
    "var = \"10\"\n",
    "print(var,type(var))\n",
    "\n",
    "var = 10.0\n",
    "print(var,type(var))\n",
    "\n",
    "var = False\n",
    "print(var,type(var))\n",
    "# python reads code dynamically from top to botto, hence we can assign a variable different values in same code cell\n"
   ]
  },
  {
   "cell_type": "raw",
   "metadata": {
    "vscode": {
     "languageId": "raw"
    }
   },
   "source": [
    "# INPUT FUNCTION\n",
    "\n",
    "inp = input(\"what's your age? \")\n",
    "print(inp,type(inp))                # input always take values as string \n",
    "\n",
    "inp = int(input(\"what's your age? \" ))\n",
    "print(inp,type(inp))"
   ]
  },
  {
   "cell_type": "markdown",
   "metadata": {},
   "source": [
    "#### DataTypes\n",
    "1. Definition:\n",
    "Data types are a classification of data which tell the compiler or interpreter how the programmer intends to use the data.\n",
    "They determine the type of operations that can be performed on the data, the values that the data can take, and the amount of memory needed to store the data.\n",
    "\n",
    "\n",
    "- Basic Data Types: \n",
    "Integers \n",
    "\n",
    "Floats   \n",
    "\n",
    "Strings\n",
    "\n",
    "Booleans\n",
    "- Advanced Data Types:\n",
    "\n",
    "Lists\n",
    "\n",
    "Tuples\n",
    "\n",
    "Sets\n",
    "\n",
    "Dictionaries\n",
    "\n"
   ]
  },
  {
   "cell_type": "code",
   "execution_count": 11,
   "metadata": {},
   "outputs": [
    {
     "name": "stdout",
     "output_type": "stream",
     "text": [
      "m\n",
      "yeh alob niem\n"
     ]
    }
   ],
   "source": [
    "# String slicing \n",
    "\n",
    "string = \"mein bola hey\"\n",
    "print(string[0])    #see list slicing its same as that\n",
    "print(string[::-1])"
   ]
  },
  {
   "cell_type": "markdown",
   "metadata": {},
   "source": [
    "### OPTERATORS IN PYTHON"
   ]
  },
  {
   "cell_type": "code",
   "execution_count": 3,
   "metadata": {},
   "outputs": [
    {
     "name": "stdout",
     "output_type": "stream",
     "text": [
      "35\n",
      "5\n",
      "1.3333333333333333\n",
      "1\n",
      "300\n",
      "32768000000000000000\n",
      "5\n"
     ]
    }
   ],
   "source": [
    "# Arithmatic opterators\n",
    "a = 20\n",
    "b = 15\n",
    "\n",
    "print(a+b)   #addition\n",
    "print(a-b)   # subtraction\n",
    "print(a/b)   #divison\n",
    "print(a//b)  #floor division  (returns quotient of a divided by b)\n",
    "print(a*b)   #multiplication\n",
    "print(a**b)  # a to the power b (exponential funciton)\n",
    "print(a%b)   # remainder when a is divided by b (modulus operater)\n"
   ]
  },
  {
   "cell_type": "code",
   "execution_count": 6,
   "metadata": {},
   "outputs": [
    {
     "data": {
      "text/plain": [
       "True"
      ]
     },
     "execution_count": 6,
     "metadata": {},
     "output_type": "execute_result"
    }
   ],
   "source": [
    "a == (a//b)*b + a%b"
   ]
  },
  {
   "cell_type": "code",
   "execution_count": 13,
   "metadata": {},
   "outputs": [
    {
     "name": "stdout",
     "output_type": "stream",
     "text": [
      "False\n",
      "True\n",
      "True\n",
      "False\n",
      "False\n",
      "True\n",
      "False\n",
      "True\n"
     ]
    }
   ],
   "source": [
    "# Comparison operators : these compares the values according to operators give and gives True/False\n",
    "\n",
    "a = 10\n",
    "b = 15\n",
    "c = 10.0\n",
    "\n",
    "print(a==b)     # == : is equal to\n",
    "print(a==c)   \n",
    "\n",
    "print(a!=b)    # != : is not equal to \n",
    "print(a!=c)\n",
    "\n",
    "print(a>b)     # > : greater than\n",
    "\n",
    "print(a<b)     # < : less than\n",
    "\n",
    "print(a>=b)    # >= :greater than or equal to\n",
    "\n",
    "print(a<=b)    # <= : less than or equal to\n"
   ]
  },
  {
   "cell_type": "code",
   "execution_count": 14,
   "metadata": {},
   "outputs": [
    {
     "name": "stdout",
     "output_type": "stream",
     "text": [
      "True\n",
      "False\n",
      "False\n",
      "\n",
      "True\n",
      "True\n",
      "False\n",
      "\n",
      "False\n",
      "True\n"
     ]
    }
   ],
   "source": [
    "# Logical operators : same as logic gates (and,or,not)\n",
    "\n",
    "    #and = if LHS and RHS are both true --- True, otherwise False\n",
    "    #or  = if LHS and RHS are both false--- False, otherwise True\n",
    "    #not = if True --- False, if False --- True\n",
    "\n",
    "print(10==10 and 12 >= 10)  # both true\n",
    "print(10==10 and 12<10)     # one false \n",
    "print(10!=10 and 12<10)     # both false\n",
    "\n",
    "print()\n",
    "\n",
    "print(10==10 or 12 >= 10)  # both true\n",
    "print(10==10 or 12<10)     # one false \n",
    "print(10!=10 or 12<10)     # both false\n",
    "\n",
    "print()\n",
    "\n",
    "print(not 10==10)\n",
    "print(not 10!=10)"
   ]
  },
  {
   "cell_type": "code",
   "execution_count": 5,
   "metadata": {},
   "outputs": [
    {
     "name": "stdout",
     "output_type": "stream",
     "text": [
      "False\n",
      "True\n"
     ]
    }
   ],
   "source": [
    "x = True\n",
    "y = False\n",
    "\n",
    "# Using the new symbols\n",
    "result1 = x & y  # Equivalent to x and y\n",
    "result2 = x | y  # Equivalent to x or y\n",
    "# \"not\" remains the same\n",
    "\n",
    "print(result1)  # False\n",
    "print(result2)  # True\n"
   ]
  },
  {
   "cell_type": "code",
   "execution_count": 6,
   "metadata": {},
   "outputs": [
    {
     "name": "stdout",
     "output_type": "stream",
     "text": [
      "0b1010\n",
      "-0b1011\n"
     ]
    }
   ],
   "source": [
    "# Bitwise \"not\" = ~\n",
    "x = 10\n",
    "result3 = ~x\n",
    "\n",
    "print(bin(x))\n",
    "print(bin(result3))\n"
   ]
  }
 ],
 "metadata": {
  "kernelspec": {
   "display_name": "env",
   "language": "python",
   "name": "python3"
  },
  "language_info": {
   "codemirror_mode": {
    "name": "ipython",
    "version": 3
   },
   "file_extension": ".py",
   "mimetype": "text/x-python",
   "name": "python",
   "nbconvert_exporter": "python",
   "pygments_lexer": "ipython3",
   "version": "3.13.1"
  }
 },
 "nbformat": 4,
 "nbformat_minor": 2
}
