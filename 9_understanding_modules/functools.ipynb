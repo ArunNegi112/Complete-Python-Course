{
 "cells": [
  {
   "cell_type": "code",
   "execution_count": 25,
   "metadata": {},
   "outputs": [],
   "source": [
    "from functools import partial,partialmethod,lru_cache"
   ]
  },
  {
   "cell_type": "markdown",
   "metadata": {},
   "source": [
    "## _Functools_  \n",
    "-is a module to help with Higher-order-functions \n",
    " \n",
    "__higher order function__ :  \n",
    "Takes functions as arguments, or  \n",
    "Returns a function as its result.  \n",
    "\n",
    "\n",
    "Functools help to use higher-order-function or extend them without rewriting the entire code"
   ]
  },
  {
   "cell_type": "markdown",
   "metadata": {},
   "source": [
    "__Two classes__\n",
    "1. Partial\n",
    "2. Partialmethod"
   ]
  },
  {
   "cell_type": "markdown",
   "metadata": {},
   "source": [
    "### Partial class\n",
    "With the help of partial class, we can pre-define some arguments of a function"
   ]
  },
  {
   "cell_type": "code",
   "execution_count": 26,
   "metadata": {},
   "outputs": [
    {
     "name": "stdout",
     "output_type": "stream",
     "text": [
      "16\n"
     ]
    }
   ],
   "source": [
    "def square(a,b):\n",
    "    '''returns \"a\" raised to power \"b\"'''\n",
    "    return a**b \n",
    "\n",
    "pow2 = partial(square,b=2)    # This equivalent to square(x,2)\n",
    "# We created an object of partial class, with the help of which we predefined the \"b\" argument of the square function\n",
    "\n",
    "print(pow2(4))                # This equivalent to square(4,2)"
   ]
  },
  {
   "cell_type": "markdown",
   "metadata": {},
   "source": [
    "#### _lru_cache_\n",
    "A decorator used for memoization (see that advance_function assignment in assignments)"
   ]
  },
  {
   "cell_type": "code",
   "execution_count": 27,
   "metadata": {},
   "outputs": [
    {
     "name": "stdout",
     "output_type": "stream",
     "text": [
      "9227465\n",
      "1.6484038829803467\n"
     ]
    }
   ],
   "source": [
    "# Without memoization\n",
    "from time import time\n",
    "def fib(n):\n",
    "    return n if (n==0 or n==1) else fib(n-1)+fib(n-2)\n",
    "\n",
    "t = time()\n",
    "print(fib(35))\n",
    "print(time()-t)"
   ]
  },
  {
   "cell_type": "code",
   "execution_count": 28,
   "metadata": {},
   "outputs": [
    {
     "name": "stdout",
     "output_type": "stream",
     "text": [
      "354224848179261915075\n",
      "0.00017690658569335938\n"
     ]
    }
   ],
   "source": [
    "# With memoization (lru_cache)\n",
    "@lru_cache(maxsize=None)\n",
    "def fib(n):\n",
    "    return n if (n==0 or n==1) else fib(n-1)+fib(n-2)\n",
    "\n",
    "t = time()\n",
    "print(fib(100))\n",
    "print(time()-t)"
   ]
  }
 ],
 "metadata": {
  "kernelspec": {
   "display_name": "env",
   "language": "python",
   "name": "python3"
  },
  "language_info": {
   "codemirror_mode": {
    "name": "ipython",
    "version": 3
   },
   "file_extension": ".py",
   "mimetype": "text/x-python",
   "name": "python",
   "nbconvert_exporter": "python",
   "pygments_lexer": "ipython3",
   "version": "3.13.1"
  }
 },
 "nbformat": 4,
 "nbformat_minor": 2
}
