{
 "cells": [
  {
   "cell_type": "markdown",
   "id": "020181bb",
   "metadata": {},
   "source": [
    "unlike pandas it is multi-threaded.  \n",
    "Use lazy execution method with JIT optimization\n"
   ]
  },
  {
   "cell_type": "markdown",
   "id": "25a6b9b0",
   "metadata": {},
   "source": [
    "We can work with pandas then just import fireducks as pd"
   ]
  },
  {
   "cell_type": "markdown",
   "id": "8848a5b3",
   "metadata": {},
   "source": []
  }
 ],
 "metadata": {
  "kernelspec": {
   "display_name": "env",
   "language": "python",
   "name": "python3"
  },
  "language_info": {
   "codemirror_mode": {
    "name": "ipython",
    "version": 3
   },
   "file_extension": ".py",
   "mimetype": "text/x-python",
   "name": "python",
   "nbconvert_exporter": "python",
   "pygments_lexer": "ipython3",
   "version": "3.13.1"
  }
 },
 "nbformat": 4,
 "nbformat_minor": 5
}
