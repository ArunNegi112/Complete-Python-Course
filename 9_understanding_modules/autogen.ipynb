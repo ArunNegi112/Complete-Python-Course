{
 "cells": [
  {
   "cell_type": "code",
   "execution_count": 5,
   "id": "e5778f3c",
   "metadata": {},
   "outputs": [
    {
     "data": {
      "text/plain": [
       "[0, 5, 10, 15, 20]"
      ]
     },
     "execution_count": 5,
     "metadata": {},
     "output_type": "execute_result"
    }
   ],
   "source": [
    "a = [i for i in range(0,21,5)]\n",
    "a"
   ]
  },
  {
   "cell_type": "code",
   "execution_count": null,
   "id": "efd4d534",
   "metadata": {},
   "outputs": [
    {
     "data": {
      "text/plain": [
       "75.0"
      ]
     },
     "execution_count": 1,
     "metadata": {},
     "output_type": "execute_result"
    }
   ],
   "source": []
  },
  {
   "cell_type": "markdown",
   "id": "ff0cc116",
   "metadata": {},
   "source": [
    "graph LR\n",
    "    subgraph Non-Fusion\n",
    "      SS[Solid-State]\n",
    "    end\n",
    "    subgraph Intermediate\n",
    "      SL[Solid–Liquid]\n",
    "    end\n",
    "    subgraph Fusion\n",
    "      LS[Liquid-State]\n",
    "    end\n",
    "\n",
    "    SS --> SL --> LS\n"
   ]
  }
 ],
 "metadata": {
  "kernelspec": {
   "display_name": "env",
   "language": "python",
   "name": "python3"
  },
  "language_info": {
   "codemirror_mode": {
    "name": "ipython",
    "version": 3
   },
   "file_extension": ".py",
   "mimetype": "text/x-python",
   "name": "python",
   "nbconvert_exporter": "python",
   "pygments_lexer": "ipython3",
   "version": "3.13.1"
  }
 },
 "nbformat": 4,
 "nbformat_minor": 5
}
