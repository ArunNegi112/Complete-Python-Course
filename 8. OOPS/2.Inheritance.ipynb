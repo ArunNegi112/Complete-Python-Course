{
 "cells": [
  {
   "cell_type": "markdown",
   "metadata": {},
   "source": [
    "## Inheritance \n",
    "\n",
    "Inheritance is a concept in (OOP) that allows a _\"class to inherit attributes and methods from another class._\" "
   ]
  },
  {
   "cell_type": "code",
   "execution_count": 2,
   "metadata": {},
   "outputs": [
    {
     "name": "stdout",
     "output_type": "stream",
     "text": [
      "4\n",
      "4\n",
      "petrol\n"
     ]
    }
   ],
   "source": [
    "#Creating a parent class\n",
    "\n",
    "class cars:\n",
    "    def __init__(self,windows,doors,engine):\n",
    "        self.windows = int(windows)\n",
    "        self.doors = int(doors)\n",
    "        self.engine = str(engine)\n",
    "\n",
    "    def feul(self):\n",
    "        return self.engine\n",
    "\n",
    "car1 = cars(4,4,\"petrol\")\n",
    "\n",
    "print(car1.windows)\n",
    "print(car1.doors)\n",
    "print(car1.engine)\n"
   ]
  },
  {
   "cell_type": "code",
   "execution_count": 3,
   "metadata": {},
   "outputs": [
    {
     "name": "stdout",
     "output_type": "stream",
     "text": [
      "4\n",
      "4\n",
      "electric\n",
      "True\n",
      "Selfdriving car\n"
     ]
    }
   ],
   "source": [
    "### Single inheritance : using supper.__init__(attributes)\n",
    "\n",
    "class Tesla(cars):\n",
    "    def __init__(self,windows,doors,engine,selfdrive):\n",
    "        super().__init__(windows,doors,engine)        # To get attributes of parental class in inherited class\n",
    "        self.selfdrive = selfdrive          \n",
    "\n",
    "    def drive(self):\n",
    "        if self.selfdrive==True:\n",
    "            return \"Selfdriving car\"\n",
    "        else :\n",
    "            return \"human required\"\n",
    "\n",
    "car2 = Tesla(4,4,'electric',True)\n",
    "\n",
    "print(car2.windows)\n",
    "print(car2.doors)\n",
    "print(car2.engine)\n",
    "print(car2.selfdrive)\n",
    "print(car2.drive())\n"
   ]
  },
  {
   "cell_type": "code",
   "execution_count": 4,
   "metadata": {},
   "outputs": [
    {
     "name": "stdout",
     "output_type": "stream",
     "text": [
      "4\n",
      "4\n",
      "electric\n",
      "True\n",
      "Selfdriving car\n"
     ]
    }
   ],
   "source": [
    "### Single inheritance : using classname__init__(self,attributes)\n",
    "\n",
    "class Tesla(cars):\n",
    "    def __init__(self,windows,doors,engine,selfdrive):\n",
    "        cars.__init__(self,windows,doors,engine)        # To get attributes of parental class in inherited class\n",
    "        self.selfdrive = selfdrive          \n",
    "\n",
    "    def drive(self):\n",
    "        if self.selfdrive==True:\n",
    "            return \"Selfdriving car\"\n",
    "        else :\n",
    "            return \"human required\"\n",
    "\n",
    "car2 = Tesla(4,4,'electric',True)\n",
    "\n",
    "print(car2.windows)\n",
    "print(car2.doors)\n",
    "print(car2.engine)\n",
    "print(car2.selfdrive)\n",
    "print(car2.drive())\n"
   ]
  },
  {
   "cell_type": "code",
   "execution_count": 5,
   "metadata": {},
   "outputs": [
    {
     "name": "stdout",
     "output_type": "stream",
     "text": [
      "lighting\n",
      "1000\n",
      "1\n",
      "2\n",
      "\n",
      "True\n"
     ]
    }
   ],
   "source": [
    "### Multiple inheritance \n",
    "\n",
    "##Base class 1\n",
    "class pokemon:\n",
    "    def __init__(self,type,aura,level):\n",
    "        self.type = type\n",
    "        self.aura = aura\n",
    "        self.level = level\n",
    "    def level_up(self):\n",
    "        self.level += 1\n",
    "        return self.level\n",
    "\n",
    "pikachu = pokemon('lighting',1000,1) \n",
    "print(pikachu.type)\n",
    "print(pikachu.aura)\n",
    "print(pikachu.level)\n",
    "print(pikachu.level_up())\n",
    "\n",
    "print()\n",
    "\n",
    "##Base class 2\n",
    "class fire_pokemon:\n",
    "    def __init__(self,is_angry):\n",
    "        self.is_angry = is_angry\n",
    "    \n",
    "charmander = fire_pokemon(True)\n",
    "print(charmander.is_angry)\n"
   ]
  },
  {
   "cell_type": "code",
   "execution_count": 6,
   "metadata": {},
   "outputs": [
    {
     "name": "stdout",
     "output_type": "stream",
     "text": [
      "fire\n",
      "1000\n",
      "1\n",
      "2\n"
     ]
    }
   ],
   "source": [
    "### Multiple inheritance \n",
    "\n",
    "class charlizaard(fire_pokemon,pokemon):\n",
    "    def __init__(self,type,aura,level,is_angry,is_smallest):\n",
    "        pokemon.__init__(self,type,aura,level)\n",
    "        fire_pokemon(is_angry)\n",
    "        self.is_smallest = is_smallest\n",
    "\n",
    "boopy = charlizaard('fire',1000,1,True,True)\n",
    "\n",
    "print(boopy.type)\n",
    "print(boopy.aura)\n",
    "print(boopy.level)\n",
    "print(boopy.level_up())\n",
    "\n",
    "\n"
   ]
  },
  {
   "cell_type": "code",
   "execution_count": 7,
   "metadata": {},
   "outputs": [
    {
     "name": "stdout",
     "output_type": "stream",
     "text": [
      "The name is Negi, age 17, employee id 1234569\n"
     ]
    }
   ],
   "source": [
    "# __str__ method in oops classes, \n",
    "\n",
    "class Person():\n",
    "    def __init__(self,name,age):\n",
    "        self.name = name\n",
    "        self.age = int(age)\n",
    "\n",
    "\n",
    "class Employee(Person):\n",
    "    def __init__(self, name, age,employee_id):\n",
    "        super().__init__(name, age)\n",
    "        self.employee_id = employee_id\n",
    "\n",
    "    def __str__(self):\n",
    "        return f\"The name is {self.name}, age {self.age}, employee id {self.employee_id}\"\n",
    "\n",
    "Negi = Employee('Negi',17,1234569)\n",
    "\n",
    "\n",
    "print(Negi)  # without using __str__ function this would be impossible to do "
   ]
  },
  {
   "cell_type": "code",
   "execution_count": 8,
   "metadata": {},
   "outputs": [
    {
     "name": "stdout",
     "output_type": "stream",
     "text": [
      "27\n"
     ]
    }
   ],
   "source": [
    "'''How to add a function in class'''\n",
    "\n",
    "# Define a function\n",
    "def old_Age(self):\n",
    "    return self.age + 10\n",
    "\n",
    "# Add it in class\n",
    "Person.old_age = old_Age\n",
    "\n",
    "print(Negi.old_age())"
   ]
  },
  {
   "cell_type": "code",
   "execution_count": 10,
   "metadata": {},
   "outputs": [
    {
     "name": "stdout",
     "output_type": "stream",
     "text": [
      "[12, 4, 5, 6]\n"
     ]
    }
   ],
   "source": [
    "X = int(input())  # number of shoes\n",
    "sizes = list(map(int, input().split()))\n",
    "\n",
    "print(sizes)"
   ]
  }
 ],
 "metadata": {
  "kernelspec": {
   "display_name": "Python 3",
   "language": "python",
   "name": "python3"
  },
  "language_info": {
   "codemirror_mode": {
    "name": "ipython",
    "version": 3
   },
   "file_extension": ".py",
   "mimetype": "text/x-python",
   "name": "python",
   "nbconvert_exporter": "python",
   "pygments_lexer": "ipython3",
   "version": "3.12.0"
  }
 },
 "nbformat": 4,
 "nbformat_minor": 2
}
