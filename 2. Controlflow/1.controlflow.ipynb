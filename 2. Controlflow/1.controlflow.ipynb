{
 "cells": [
  {
   "cell_type": "markdown",
   "metadata": {},
   "source": [
    "# Conditonal statements\n",
    "- if\n",
    "- else\n",
    "- elif"
   ]
  },
  {
   "cell_type": "markdown",
   "metadata": {},
   "source": [
    "\"if\" statement: if condition given to \"if statement\" is true, the interpreter will look in that statement's code block\n",
    "otherwise itll move towards \"elif statement\" or \"else statement\"\n",
    "                        \n"
   ]
  },
  {
   "cell_type": "raw",
   "metadata": {
    "vscode": {
     "languageId": "raw"
    }
   },
   "source": [
    "age = int(input(\"whats your age?: \"))\n",
    "\n",
    "print(\"age:\",age)\n",
    "if age<13 :\n",
    "    print(\"Kiddo\")\n",
    "\n",
    "elif age<18:\n",
    "    print(\"annoying kiddo\")\n",
    "\n",
    "else :\n",
    "    print(\"supreme kiddo\")\n",
    "\n",
    "\n",
    "# note : python is dynamically typed (the controlflow is interpreted from top to bottom)\n",
    "# hence even when age is less than 13, it prints \"kiddo\" not \"annoying kiddo\"\n",
    "# see next cell\n"
   ]
  },
  {
   "cell_type": "raw",
   "metadata": {
    "vscode": {
     "languageId": "raw"
    }
   },
   "source": [
    "age = int(input(\"whats your age?: \"))\n",
    "\n",
    "print(\"age:\",age)\n",
    "if age<18:\n",
    "    print(\"annoying kiddo\")\n",
    "\n",
    "elif age<13 :\n",
    "    print(\"Kiddo\")\n",
    "\n",
    "else :\n",
    "    print(\"supreme kiddo\")\n",
    "\n",
    "# now when i input age<13 or <18 it prints \"annoying kiddo\""
   ]
  },
  {
   "cell_type": "markdown",
   "metadata": {},
   "source": [
    "#### Nested conditonal statements"
   ]
  },
  {
   "cell_type": "raw",
   "metadata": {
    "vscode": {
     "languageId": "raw"
    }
   },
   "source": [
    "num = int(input(\"Enter the number: \"))\n",
    "\n",
    "print(\"number\",num)\n",
    "if num>0 :\n",
    "    print(\"given number is positive\")\n",
    "\n",
    "    if num%2==0:\n",
    "        print(\"its even\")\n",
    "        if num%6==0:\n",
    "            print(\"its also a multiple of 6\")\n",
    "            if num%5==0:\n",
    "                print(\"ad also 10\")\n",
    "        elif num%5==0:\n",
    "            print(\"its also a multiple of 10\")\n",
    "    else:\n",
    "        print(\"its odd\")\n",
    "\n",
    "elif num==0:\n",
    "    print(\"given number is neither negative nor positive\")\n",
    "\n",
    "else :\n",
    "    print(\"given number is negative\")\n",
    "\n",
    "\n",
    "# Understand this code by giving these values (2,3,4,18,30,100,0,-23)"
   ]
  },
  {
   "cell_type": "raw",
   "metadata": {
    "vscode": {
     "languageId": "raw"
    }
   },
   "source": [
    "## TASK 1 !!!!!!!!\n",
    "# Determine if a year is a leap year using nested condition statement\n",
    "\n",
    "year = int(input(\"Enter year\"))\n",
    "\n",
    "\n",
    "if year%100==0:\n",
    "    if year%400==0:\n",
    "        print(year,\"is leap year\")\n",
    "    else:\n",
    "        print(year,\"is not a leap year\")\n",
    "\n",
    "elif year%4!=0:\n",
    "    print(year,\"is not leap year\")\n",
    "\n",
    "elif year%4==0:\n",
    "    print(year,\"is leap year\")"
   ]
  },
  {
   "cell_type": "raw",
   "metadata": {
    "vscode": {
     "languageId": "raw"
    }
   },
   "source": [
    "## TASK 2 !!!!!!!!\n",
    "# Calculator\n",
    "\n",
    "num1 = float(input(\"Enter first number\"))\n",
    "operator = input(\"select an operator : +,-,*,/,//,%,**\")\n",
    "num2 = float(input(\"Enter second number\"))\n",
    "\n",
    "\n",
    "\n",
    "if operator == '+':\n",
    "    print(num1,operator,num2,\"=\",num1+num2)\n",
    "\n",
    "elif operator == '-':\n",
    "    print(num1,operator,num2,\"=\",num1-num2)\n",
    "\n",
    "elif operator == '*':\n",
    "    print(num1,operator,num2,\"=\",num1*num2)\n",
    "\n",
    "elif operator == '/':\n",
    "    print(num1,operator,num2,\"=\",num1/num2)\n",
    "\n",
    "elif operator == '//':\n",
    "    print(num1,operator,num2,\"=\",num1//num2)\n",
    "\n",
    "elif operator == '%':\n",
    "    print(num1,operator,num2,\"=\",num1%num2)\n",
    "\n",
    "elif operator == '**':\n",
    "    print(num1,operator,num2,\"=\",num1**num2)\n",
    "\n",
    "else :\n",
    "    print(\"invalid operation\",\"opterator\",operator,\"is not defined\")"
   ]
  },
  {
   "cell_type": "markdown",
   "metadata": {},
   "source": [
    "#### Loops (for,while)\n",
    "\n",
    "these are used to iterate over a sequence of numbers "
   ]
  },
  {
   "cell_type": "code",
   "execution_count": 1,
   "metadata": {},
   "outputs": [
    {
     "name": "stdout",
     "output_type": "stream",
     "text": [
      "0 1 2 3 4 5 6 7 8 9 "
     ]
    }
   ],
   "source": [
    "# For loop\n",
    "\n",
    "for i in range(10):     \n",
    "    print(i,end=\" \")          # if we dont use end= \" \" , it'll print in vertical"
   ]
  },
  {
   "cell_type": "code",
   "execution_count": 2,
   "metadata": {},
   "outputs": [
    {
     "name": "stdout",
     "output_type": "stream",
     "text": [
      "0 1 2 3 4 5 6 7 8 9 10 "
     ]
    }
   ],
   "source": [
    "# While loop : keeps running until given statement is True\n",
    "\n",
    "count = 0\n",
    "\n",
    "while count<=10:\n",
    "    print(count, end = \" \")\n",
    "    count += 1     # count += 1 ----> count = count + 1, if this is not given then loop will keep printing count till infinity"
   ]
  },
  {
   "cell_type": "markdown",
   "metadata": {},
   "source": [
    "#### Loop control statements"
   ]
  },
  {
   "cell_type": "code",
   "execution_count": 3,
   "metadata": {},
   "outputs": [
    {
     "name": "stdout",
     "output_type": "stream",
     "text": [
      "0 1 2 3 4 5 6 7 "
     ]
    }
   ],
   "source": [
    "# break : it breaks the loop when given condition matches (loop doesnt get excuted further)\n",
    "\n",
    "for i in range(10):\n",
    "    if i == 8 :\n",
    "        break\n",
    "    print(i,end=\" \")             # will execute loop till 7"
   ]
  },
  {
   "cell_type": "code",
   "execution_count": 4,
   "metadata": {},
   "outputs": [
    {
     "name": "stdout",
     "output_type": "stream",
     "text": [
      "1 3 5 7 9 11 13 15 17 19 "
     ]
    }
   ],
   "source": [
    "# continue : skips the iteration when condition matched\n",
    "\n",
    "for i in range(20):\n",
    "    if i%2==0 :\n",
    "        continue\n",
    "    print(i,end=\" \")     # only print those elements in range(20) which obeys \"i%2 != 0\"\n",
    "    "
   ]
  },
  {
   "cell_type": "code",
   "execution_count": 1,
   "metadata": {},
   "outputs": [
    {
     "name": "stdout",
     "output_type": "stream",
     "text": [
      "0 1 2 3 4 5 6 7 8 9 "
     ]
    }
   ],
   "source": [
    "# pass : do nothing (litrelly absolutely nothing)\n",
    "\n",
    "for i in range(10):\n",
    "    if i>2:\n",
    "        pass\n",
    "    print(i,end=\" \")"
   ]
  },
  {
   "cell_type": "code",
   "execution_count": 6,
   "metadata": {},
   "outputs": [
    {
     "name": "stdout",
     "output_type": "stream",
     "text": [
      "(0, 0) (0, 1) (0, 2) (1, 0) (1, 1) (1, 2) (2, 0) (2, 1) (2, 2) (3, 0) (3, 1) (3, 2) "
     ]
    }
   ],
   "source": [
    "# Nested loops \n",
    "\n",
    "for i in range(4):\n",
    "    for j in range(3):\n",
    "        print((i,j),end=\" \")   \n",
    "\n",
    "# first, upar wala loop ek baar chalega then andar wala loop complete chalega\n",
    "# fir, upar wala loop ek baar chalega then andar wala loop complete chalega\n",
    "# like 0,0 then 0,1 then 0,2 then 0,3\n",
    "# then 1,0 then 1,1 then 1,2 ............."
   ]
  },
  {
   "cell_type": "markdown",
   "metadata": {},
   "source": [
    "##### examples"
   ]
  },
  {
   "cell_type": "raw",
   "metadata": {
    "vscode": {
     "languageId": "raw"
    }
   },
   "source": [
    "# calculate sum of first N natural numbers  (using while loop)\n",
    " \n",
    "i = 1\n",
    "N = int(input(\"enter natural number N: \"))\n",
    "sum = 0\n",
    "\n",
    "if N <= 0 :\n",
    "    print(f\"The given number {N} is not natural\")\n",
    "elif N>0:\n",
    "    while i <=N:\n",
    "         sum = sum + i\n",
    "         i = i+1\n",
    "        \n",
    "    print(f\"sum of first {N} numbers is {sum}\")"
   ]
  },
  {
   "cell_type": "raw",
   "metadata": {
    "vscode": {
     "languageId": "raw"
    }
   },
   "source": [
    "# calculate sum of first N natural numbers  (using for loop)\n",
    "\n",
    "sum = 0\n",
    "N = int(input(\"Enter the Number: \"))\n",
    "\n",
    "for i in range(1,N+1):\n",
    "    sum = sum+i\n",
    "print(f\"sum of first {N} is : {sum}\")"
   ]
  },
  {
   "cell_type": "code",
   "execution_count": 38,
   "metadata": {},
   "outputs": [],
   "source": [
    "# print all prime numbers between 1 to 100 \n",
    "#Prime numbers are defined as numbers greater than 1 that have no divisors other than 1 and themselves. \n",
    "\n",
    "\n",
    "for num in range(1,101):\n",
    "    if num>2 :\n",
    "        for i in range(2,101):\n",
    "            if num%i==0:\n",
    "                break\n",
    "        else:\n",
    "            print(num)\n",
    "\n",
    "'''\n",
    "i didnt understand this shit \n",
    "imma do it later sometime\n",
    "'''"
   ]
  },
  {
   "cell_type": "code",
   "execution_count": null,
   "metadata": {},
   "outputs": [],
   "source": [
    "# Example : calculate factorial using while loop \n",
    "num = int(input(\"Enter the number : \"))\n",
    "factorial = 1\n",
    "i = 1\n",
    "while i<=num:\n",
    "    factorial = factorial*i\n",
    "    i += 1\n",
    "print(factorial)"
   ]
  },
  {
   "cell_type": "code",
   "execution_count": 1,
   "metadata": {},
   "outputs": [
    {
     "name": "stdout",
     "output_type": "stream",
     "text": [
      "0\n",
      "1\n",
      "2\n",
      "4\n",
      "8\n",
      "0\n",
      "1\n",
      "1\n",
      "2\n",
      "3\n"
     ]
    },
    {
     "data": {
      "text/plain": [
       "'Because above we are not assigning a=b and b= a+b simulatneously and below \\n    we assigning them simultaneously'"
      ]
     },
     "execution_count": 1,
     "metadata": {},
     "output_type": "execute_result"
    }
   ],
   "source": [
    "# Example : Fibonacci series \n",
    "\n",
    "#This doesnt work\n",
    "a=0\n",
    "b=1\n",
    "n = int(input(\"Enter the number : \"))\n",
    "count = 0\n",
    "while count<n:\n",
    "    print(a)\n",
    "    a = b          \n",
    "    b = a+b \n",
    "    count += 1\n",
    "\n",
    "#This works \n",
    "n = int(input(\"Enter the number of Fibonacci numbers to print: \"))\n",
    "a, b = 0, 1\n",
    "count = 0\n",
    "while count < n:\n",
    "    print(a)\n",
    "    a, b = b, a + b\n",
    "    count += 1\n",
    "\n",
    "\n",
    "\n",
    "\"\"\"Because above we are not assigning a=b and b= a+b simulatneously and below \n",
    "    we assigning them simultaneously\"\"\""
   ]
  },
  {
   "cell_type": "code",
   "execution_count": null,
   "metadata": {},
   "outputs": [],
   "source": []
  }
 ],
 "metadata": {
  "kernelspec": {
   "display_name": "Python 3",
   "language": "python",
   "name": "python3"
  },
  "language_info": {
   "codemirror_mode": {
    "name": "ipython",
    "version": 3
   },
   "file_extension": ".py",
   "mimetype": "text/x-python",
   "name": "python",
   "nbconvert_exporter": "python",
   "pygments_lexer": "ipython3",
   "version": "3.12.0"
  }
 },
 "nbformat": 4,
 "nbformat_minor": 2
}
