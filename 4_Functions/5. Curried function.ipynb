{
 "cells": [
  {
   "cell_type": "markdown",
   "metadata": {},
   "source": [
    "## Curried function \n",
    "A curried function is a function that doesn't take all of its arguments at once but instead takes them one at a time, returning a new function each time an argument is provided. The final function, after receiving all necessary arguments, returns the result. "
   ]
  },
  {
   "cell_type": "code",
   "execution_count": 2,
   "metadata": {},
   "outputs": [
    {
     "data": {
      "text/plain": [
       "24"
      ]
     },
     "execution_count": 2,
     "metadata": {},
     "output_type": "execute_result"
    }
   ],
   "source": [
    "# Example\n",
    "# Define a curried function that takes three arguments, one at a time, and returns their product. \n",
    "\n",
    "def mult1(a):\n",
    "    def mult2(b):\n",
    "        def mult3(c):\n",
    "            return a*b*c\n",
    "        return mult3\n",
    "    return mult2\n",
    "\n",
    "mult1(2)(3)(4)     \n",
    "\n",
    "# when we gave (1) as input it returned mult2() as output\n",
    "# then we gave (2) as input in mult2, it gave mult3() as output\n",
    "# then we gave (3) as input in mult3 it returned the final multiplication"
   ]
  },
  {
   "cell_type": "code",
   "execution_count": 1,
   "metadata": {},
   "outputs": [
    {
     "name": "stdout",
     "output_type": "stream",
     "text": [
      "30\n"
     ]
    }
   ],
   "source": [
    "# another way to use\n",
    "def mult1(a):\n",
    "    def mult2(b):\n",
    "        def mult3(c):\n",
    "            return a*b*c\n",
    "        return mult3\n",
    "    return mult2\n",
    "\n",
    "multiply_w_2 = mult1(2)\n",
    "print(multiply_w_2(3)(5))"
   ]
  },
  {
   "cell_type": "code",
   "execution_count": null,
   "metadata": {},
   "outputs": [],
   "source": []
  }
 ],
 "metadata": {
  "kernelspec": {
   "display_name": "venv",
   "language": "python",
   "name": "python3"
  },
  "language_info": {
   "codemirror_mode": {
    "name": "ipython",
    "version": 3
   },
   "file_extension": ".py",
   "mimetype": "text/x-python",
   "name": "python",
   "nbconvert_exporter": "python",
   "pygments_lexer": "ipython3",
   "version": "3.12.0"
  }
 },
 "nbformat": 4,
 "nbformat_minor": 2
}
