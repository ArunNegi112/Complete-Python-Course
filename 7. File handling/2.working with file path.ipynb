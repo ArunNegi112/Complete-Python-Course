{
 "cells": [
  {
   "cell_type": "markdown",
   "metadata": {},
   "source": [
    "## Working With File Paths\n",
    "When working with files in Python, handling file paths correctly is crucial to ensure your code works across different operating systems and environments. Python provides several modules and functions for working with file paths effectively.\n",
    "(we mainly gonna use os)"
   ]
  },
  {
   "cell_type": "code",
   "execution_count": 1,
   "metadata": {},
   "outputs": [],
   "source": [
    "import os"
   ]
  },
  {
   "cell_type": "code",
   "execution_count": 2,
   "metadata": {},
   "outputs": [
    {
     "data": {
      "text/plain": [
       "'c:\\\\Users\\\\ashis\\\\Documents\\\\ML by KN\\\\7. File handling'"
      ]
     },
     "execution_count": 2,
     "metadata": {},
     "output_type": "execute_result"
    }
   ],
   "source": [
    "# To see path of currently working directory (cwd)\n",
    "\n",
    "os.getcwd()"
   ]
  },
  {
   "cell_type": "code",
   "execution_count": 4,
   "metadata": {},
   "outputs": [
    {
     "data": {
      "text/plain": [
       "['1. file operations.ipynb',\n",
       " '2.working with file path.ipynb',\n",
       " 'destination.txt',\n",
       " 'example.bin',\n",
       " 'example.txt',\n",
       " 'example2.txt',\n",
       " 'New directory',\n",
       " 'source.txt']"
      ]
     },
     "execution_count": 4,
     "metadata": {},
     "output_type": "execute_result"
    }
   ],
   "source": [
    "# To get the list of files inside cwd\n",
    "\n",
    "os.listdir()\n"
   ]
  },
  {
   "cell_type": "code",
   "execution_count": 5,
   "metadata": {},
   "outputs": [
    {
     "name": "stdout",
     "output_type": "stream",
     "text": [
      "folder\\file.txt\n"
     ]
    }
   ],
   "source": [
    "# How to join paths \n",
    "\n",
    "dir_name=\"folder\"\n",
    "file_name=\"file.txt\"\n",
    "full_path=os.path.join(dir_name,file_name)    # inside goes \n",
    "print(full_path)"
   ]
  },
  {
   "cell_type": "code",
   "execution_count": 14,
   "metadata": {},
   "outputs": [
    {
     "data": {
      "text/plain": [
       "True"
      ]
     },
     "execution_count": 14,
     "metadata": {},
     "output_type": "execute_result"
    }
   ],
   "source": [
    "# To know if a Path (file or folder (directory)) exists or not \n",
    "\n",
    "os.path.exists('example.txt')"
   ]
  },
  {
   "cell_type": "code",
   "execution_count": 43,
   "metadata": {},
   "outputs": [
    {
     "name": "stdout",
     "output_type": "stream",
     "text": [
      "True\n",
      "False\n",
      "True\n",
      "True\n"
     ]
    }
   ],
   "source": [
    "# To know if a Path is file or directory \n",
    "\n",
    "print(os.path.isfile('example.txt'))\n",
    "\n",
    "print(os.path.isdir('example.txt'))\n",
    "\n",
    "print(os.path.isdir('c:\\\\Users\\\\ashis\\\\Documents\\\\ML by KN\\\\7. File handling'))   # this dir path is taken with help of .getcwd\n",
    "\n",
    "print(os.path.isdir('c:\\\\Users\\\\ashis\\\\Documents\\\\ML by KN\\\\4. Functions'))"
   ]
  },
  {
   "cell_type": "markdown",
   "metadata": {},
   "source": [
    "___Relative Paths:___\n",
    "\n",
    "Use relative paths for simplicity when working with files within the same directory structure.\n",
    "\n",
    "example - something like '/home/user/projects/file.txt'\n",
    "\n",
    "\n",
    "\n",
    "___Absolute Paths:___\n",
    "\n",
    "Use absolute paths when you need to specify the exact location of a file or directory.\n",
    "\n",
    "Useful when files are located in different parts of the filesystem, ensuring the path is unambiguous.\n",
    "\n",
    "example - something like 'c:\\\\Users\\\\ashis\\\\Documents\\\\ML by KN\\\\7. File handling'"
   ]
  },
  {
   "cell_type": "code",
   "execution_count": 50,
   "metadata": {},
   "outputs": [
    {
     "data": {
      "text/plain": [
       "'c:\\\\Users\\\\ashis\\\\Documents\\\\ML by KN\\\\7. File handling\\\\2.working with file path.ipynb'"
      ]
     },
     "execution_count": 50,
     "metadata": {},
     "output_type": "execute_result"
    }
   ],
   "source": [
    "# To get absolute path \n",
    "\n",
    "os.path.abspath('2.working with file path.ipynb')    # inside im giving relative path and output getting absolute path"
   ]
  },
  {
   "cell_type": "code",
   "execution_count": null,
   "metadata": {},
   "outputs": [],
   "source": []
  }
 ],
 "metadata": {
  "kernelspec": {
   "display_name": "Python 3",
   "language": "python",
   "name": "python3"
  },
  "language_info": {
   "codemirror_mode": {
    "name": "ipython",
    "version": 3
   },
   "file_extension": ".py",
   "mimetype": "text/x-python",
   "name": "python",
   "nbconvert_exporter": "python",
   "pygments_lexer": "ipython3",
   "version": "3.12.0"
  }
 },
 "nbformat": 4,
 "nbformat_minor": 2
}
