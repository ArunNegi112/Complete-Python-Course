{
 "cells": [
  {
   "cell_type": "markdown",
   "metadata": {},
   "source": [
    "### What Are Exceptions\n",
    "Exceptions are events that disrupt the normal flow of a program. They occur when an error is encountered during program execution.       \n",
    "\n",
    "__Common exceptions include:__\n",
    "- ZeroDivisionError: Dividing by zero.                                      \n",
    "- FileNotFoundError: File not found.                                 \n",
    "- ValueError: Invalid value.                         \n",
    "- TypeError: Invalid type.                         "
   ]
  },
  {
   "cell_type": "markdown",
   "metadata": {},
   "source": [
    "__Key Differences in Errors and Exceptions__\n",
    "\n",
    "_Detection Time:_\n",
    "\n",
    "Syntax Errors: Detected before the program runs.                          \n",
    "Runtime Errors: Detected during the execution of the program.                            \n",
    "Exceptions: A subset of runtime errors that can be caught and handled.                        \n",
    "\n",
    "_Handling:_\n",
    "\n",
    "Syntax Errors: Must be fixed in the code before it runs.                          \n",
    "Runtime Errors: Often result in the program terminating unless caught.                                    \n",
    "Exceptions: Can be caught and handled to prevent the program from terminating unexpectedly.                           "
   ]
  },
  {
   "cell_type": "raw",
   "metadata": {
    "vscode": {
     "languageId": "raw"
    }
   },
   "source": [
    "#### Exception : try,except block \n",
    "\n",
    "syntax -                 \n",
    "try :\n",
    "    code which can generate error\n",
    "except:\n",
    "    what to show if error comes\n",
    "\n",
    "\n",
    "(Try block is where we write possibly-wrong-code and Except blocks catches it)\n"
   ]
  },
  {
   "cell_type": "code",
   "execution_count": 7,
   "metadata": {},
   "outputs": [
    {
     "ename": "NameError",
     "evalue": "name 'b' is not defined",
     "output_type": "error",
     "traceback": [
      "\u001b[1;31m---------------------------------------------------------------------------\u001b[0m",
      "\u001b[1;31mNameError\u001b[0m                                 Traceback (most recent call last)",
      "Cell \u001b[1;32mIn[7], line 3\u001b[0m\n\u001b[0;32m      1\u001b[0m \u001b[38;5;66;03m# Example \u001b[39;00m\n\u001b[1;32m----> 3\u001b[0m a\u001b[38;5;241m=\u001b[39m\u001b[43mb\u001b[49m\n",
      "\u001b[1;31mNameError\u001b[0m: name 'b' is not defined"
     ]
    }
   ],
   "source": [
    "# Example \n",
    "\n",
    "a=b"
   ]
  },
  {
   "cell_type": "code",
   "execution_count": 4,
   "metadata": {},
   "outputs": [
    {
     "name": "stdout",
     "output_type": "stream",
     "text": [
      "Hey the variable \"b\" is not defined yet\n"
     ]
    }
   ],
   "source": [
    "try:\n",
    "    a=b                # a=b will give NameError because b is not defined \n",
    "except:\n",
    "    print('Hey the variable \"b\" is not defined yet')\n"
   ]
  },
  {
   "cell_type": "code",
   "execution_count": 11,
   "metadata": {},
   "outputs": [
    {
     "name": "stdout",
     "output_type": "stream",
     "text": [
      "name 'b' is not defined\n"
     ]
    }
   ],
   "source": [
    "try :\n",
    "    \"\"\"This is to get the same thing as written when system shows error\"\"\"\n",
    "    a=b \n",
    "except NameError as the_error:\n",
    "    print(the_error)"
   ]
  },
  {
   "cell_type": "code",
   "execution_count": 14,
   "metadata": {},
   "outputs": [
    {
     "name": "stdout",
     "output_type": "stream",
     "text": [
      "division by zero\n",
      "Please enter the denomenator some other number than zero\n"
     ]
    }
   ],
   "source": [
    "# Example \n",
    "\n",
    "try :\n",
    "    10/0        # will give error cause we cant divide by zero\n",
    "except ZeroDivisionError as error:\n",
    "    print(error)\n",
    "    print('Please enter the denomenator some other number than zero')"
   ]
  },
  {
   "cell_type": "markdown",
   "metadata": {},
   "source": [
    "NOTE : all these exceptions (NameError, div error etc etc) are all derived from a Parent Class called ___Exception___"
   ]
  },
  {
   "cell_type": "code",
   "execution_count": 19,
   "metadata": {},
   "outputs": [
    {
     "ename": "NameError",
     "evalue": "name 'b' is not defined",
     "output_type": "error",
     "traceback": [
      "\u001b[1;31m---------------------------------------------------------------------------\u001b[0m",
      "\u001b[1;31mNameError\u001b[0m                                 Traceback (most recent call last)",
      "Cell \u001b[1;32mIn[19], line 5\u001b[0m\n\u001b[0;32m      3\u001b[0m \u001b[38;5;28;01mtry\u001b[39;00m :\n\u001b[0;32m      4\u001b[0m     \u001b[38;5;241m2\u001b[39m\u001b[38;5;241m/\u001b[39m\u001b[38;5;241m2\u001b[39m\n\u001b[1;32m----> 5\u001b[0m     a\u001b[38;5;241m=\u001b[39m\u001b[43mb\u001b[49m \n\u001b[0;32m      6\u001b[0m \u001b[38;5;28;01mexcept\u001b[39;00m \u001b[38;5;167;01mZeroDivisionError\u001b[39;00m \u001b[38;5;28;01mas\u001b[39;00m error:\n\u001b[0;32m      7\u001b[0m     \u001b[38;5;28mprint\u001b[39m(error)\n",
      "\u001b[1;31mNameError\u001b[0m: name 'b' is not defined"
     ]
    }
   ],
   "source": [
    "# Example \n",
    "\n",
    "try :\n",
    "    2/2\n",
    "    a=b \n",
    "except ZeroDivisionError as error:\n",
    "    print(error)\n",
    "\n",
    "## This is giving error because we only defind tried to raise exception when Zero error is present but\n",
    "## There is NameError too \n",
    "## So what do we do such that any number of errors can be handled ?"
   ]
  },
  {
   "cell_type": "code",
   "execution_count": 36,
   "metadata": {},
   "outputs": [
    {
     "name": "stdout",
     "output_type": "stream",
     "text": [
      "division by zero\n",
      "name 'b' is not defined\n"
     ]
    }
   ],
   "source": [
    "try :\n",
    "    2/0                 \n",
    "    a=b                  \n",
    "except Exception as error:\n",
    "    print(error)\n",
    "\n",
    "\n",
    "try :\n",
    "    2/3                \n",
    "    a=b                  \n",
    "except Exception as error:\n",
    "    print(error)"
   ]
  },
  {
   "cell_type": "code",
   "execution_count": 48,
   "metadata": {},
   "outputs": [
    {
     "name": "stdout",
     "output_type": "stream",
     "text": [
      "invalid literal for int() with base 10: 'hey'\n"
     ]
    },
    {
     "data": {
      "text/plain": [
       "\"Note : we should always use 'Exception' except at the last because its parent class and will take any error given\""
      ]
     },
     "execution_count": 48,
     "metadata": {},
     "output_type": "execute_result"
    }
   ],
   "source": [
    "### Using multiple except blocks\n",
    "\n",
    "try :\n",
    "    1/1\n",
    "    a=2\n",
    "    c=int(\"hey\")\n",
    "except ZeroDivisionError as err1:\n",
    "    print(err1)\n",
    "except NameError as err2:\n",
    "    print(err2)\n",
    "except Exception as err3:\n",
    "    print(err3)\n",
    "\n",
    "\n",
    "\n",
    "\"\"\"Note : we should always use 'Exception' except at the last because its parent class and will take any error given\"\"\""
   ]
  },
  {
   "cell_type": "code",
   "execution_count": 54,
   "metadata": {},
   "outputs": [
    {
     "name": "stdout",
     "output_type": "stream",
     "text": [
      "invalid literal for int() with base 10: 'kei'\n",
      "invalid literal for int() with base 10: 'kri'\n"
     ]
    }
   ],
   "source": [
    "# Practical example\n",
    "\n",
    "try :\n",
    "    num = int(input(\"Enter the number : \"))\n",
    "    result = 10/num\n",
    "except ValueError as err1:\n",
    "    print(err1)\n",
    "except ZeroDivisionError as err2:\n",
    "    print(err2)\n",
    "\n",
    "\n",
    "\"\"\"Same with Exception\"\"\"\n",
    "\n",
    "try :\n",
    "    num = int(input(\"Enter the number : \"))\n",
    "    result = 10/num\n",
    "except Exception as err:\n",
    "    print(err)\n"
   ]
  },
  {
   "cell_type": "code",
   "execution_count": 60,
   "metadata": {},
   "outputs": [
    {
     "name": "stdout",
     "output_type": "stream",
     "text": [
      "Error detected: division by zero\n"
     ]
    }
   ],
   "source": [
    "#### Else block : This is to get something if there are no exceptions in the try block\n",
    "\n",
    "try :\n",
    "    num = int(input(\"Enter the number : \"))\n",
    "    result = 10/num\n",
    "except Exception as err:\n",
    "    print(\"Error detected:\",err)\n",
    "else:\n",
    "    print(f\"The result is {result}\")"
   ]
  },
  {
   "cell_type": "code",
   "execution_count": 61,
   "metadata": {},
   "outputs": [
    {
     "name": "stdout",
     "output_type": "stream",
     "text": [
      "The result is 1.0\n",
      "Execution done\n"
     ]
    }
   ],
   "source": [
    "#### Finally block : Even if error comes up or not this block will always get executed \n",
    "\n",
    "try :\n",
    "    num = int(input(\"Enter the number : \"))\n",
    "    result = 10/num\n",
    "except Exception as err:\n",
    "    print(\"Error detected:\",err)\n",
    "else:\n",
    "    print(f\"The result is {result}\")\n",
    "finally:\n",
    "    print('Execution done')"
   ]
  },
  {
   "cell_type": "code",
   "execution_count": null,
   "metadata": {},
   "outputs": [],
   "source": []
  },
  {
   "cell_type": "code",
   "execution_count": 62,
   "metadata": {},
   "outputs": [
    {
     "name": "stdout",
     "output_type": "stream",
     "text": [
      "[Errno 2] No such file or directory: 'example.txt'\n"
     ]
    }
   ],
   "source": [
    "# Practical example : handling error of reading a file which is not present in cwd \n",
    "\n",
    "try :\n",
    "    file = open('example.txt','r') \n",
    "    content = file.read()\n",
    "    print(content)\n",
    "except FileNotFoundError as error:\n",
    "    print(error)"
   ]
  },
  {
   "cell_type": "code",
   "execution_count": 79,
   "metadata": {},
   "outputs": [
    {
     "name": "stdout",
     "output_type": "stream",
     "text": [
      "\"mein bola hey\"\n",
      "file is readed and closed\n"
     ]
    }
   ],
   "source": [
    "# if that file is present in cwd, we have to read and then close it\n",
    "import os\n",
    "try:\n",
    "    file = open('example1.txt','r')\n",
    "    content = file.read()\n",
    "    print(content)\n",
    "except FileNotFoundError as error:\n",
    "    print(error)\n",
    "finally:\n",
    "    if os.path.exists('example1.txt') and not file.closed:\n",
    "        file.close()\n",
    "        print('file is readed and closed')\n",
    "        "
   ]
  }
 ],
 "metadata": {
  "kernelspec": {
   "display_name": "Python 3",
   "language": "python",
   "name": "python3"
  },
  "language_info": {
   "codemirror_mode": {
    "name": "ipython",
    "version": 3
   },
   "file_extension": ".py",
   "mimetype": "text/x-python",
   "name": "python",
   "nbconvert_exporter": "python",
   "pygments_lexer": "ipython3",
   "version": "3.12.0"
  }
 },
 "nbformat": 4,
 "nbformat_minor": 2
}
