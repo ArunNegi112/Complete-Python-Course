{
 "cells": [
  {
   "cell_type": "markdown",
   "metadata": {},
   "source": [
    "## File Operation- Read And Write Files\n",
    "File handling is a crucial part of any programming language. Python provides built-in functions and methods to read from and write to files, both text and binary. This lesson will cover the basics of file handling, including reading and writing text files and binary files."
   ]
  },
  {
   "cell_type": "markdown",
   "metadata": {},
   "source": [
    "#### Text file"
   ]
  },
  {
   "cell_type": "code",
   "execution_count": 4,
   "metadata": {},
   "outputs": [
    {
     "data": {
      "text/plain": [
       "'made this cell to comment because it will give error if we try to make a file which already exists'"
      ]
     },
     "execution_count": 4,
     "metadata": {},
     "output_type": "execute_result"
    }
   ],
   "source": [
    "# Creating a file \n",
    "\n",
    "#with open('name.txt','w') as file :\n",
    "#    file.write(\"This file has been created\")\n",
    "\n",
    "\"\"\"made this cell to comment because it will give error if we try to make a file which already exists\"\"\""
   ]
  },
  {
   "cell_type": "code",
   "execution_count": 5,
   "metadata": {},
   "outputs": [
    {
     "data": {
      "text/plain": [
       "'made this cell to comment because it will give error if we try to make a directory which already exists'"
      ]
     },
     "execution_count": 5,
     "metadata": {},
     "output_type": "execute_result"
    }
   ],
   "source": [
    "# To create a new directory(inside cwd) (basically directory inside directory)\n",
    "\n",
    "# os.mkdir(\"New directory\")    # inside file handling directory \n",
    "\n",
    "\"\"\"made this cell to comment because it will give error if we try to make a directory which already exists\"\"\""
   ]
  },
  {
   "cell_type": "code",
   "execution_count": 6,
   "metadata": {},
   "outputs": [
    {
     "name": "stdout",
     "output_type": "stream",
     "text": [
      "\n"
     ]
    }
   ],
   "source": [
    "# How to read a whole file \n",
    "\n",
    "with open('example.txt','r') as file:      # first we open the file, 'r' : read mode (we opened if for reading), 'as file' mean we assgin the object as file\n",
    "    content = file.read()                  # with statement ensures that the file is properly closed after the block of code is executed, even if an error occurs.\n",
    "    print(content)                         # read() is the inbuilt function to read any file."
   ]
  },
  {
   "cell_type": "code",
   "execution_count": 1,
   "metadata": {},
   "outputs": [
    {
     "name": "stdout",
     "output_type": "stream",
     "text": [
      "This is new text wrttin through \".write\" function next line after this would be below this because i've used backslash+n key\n",
      "\n",
      "see\n",
      "\n",
      "This is the new line of text i wrote with append mode \n",
      "\n",
      "This is me writing multiple line\n",
      "\n",
      "Fist line\n",
      "\n",
      "Second line\n",
      "\n",
      "Third line\n",
      "\n",
      "\n",
      "This is new text wrttin through \".write\" function next line after this would be below this because i've used backslash+n key\n",
      "see\n",
      "This is the new line of text i wrote with append mode\n",
      "This is me writing multiple line\n",
      "Fist line\n",
      "Second line\n",
      "Third line\n"
     ]
    }
   ],
   "source": [
    "# How to read line-by-line \n",
    "\n",
    "with open('example.txt','r') as file :\n",
    "    for line in file :                  # This loop runs it line by line \n",
    "        print(line)\n",
    "\n",
    "print()\n",
    "\n",
    "with open('example.txt','r') as file : \n",
    "    for line in file:\n",
    "        print(line.strip())            # strip function removes the extra line character"
   ]
  },
  {
   "cell_type": "code",
   "execution_count": 8,
   "metadata": {},
   "outputs": [],
   "source": [
    "# writing inside a file (overwriting : deletes existing text inside file and write new things)\n",
    "\n",
    "with open('example.txt','w') as file :    # 'w' = write mode \n",
    "    file.write('This is new text wrttin through \".write\" function ')\n",
    "    file.write(\"next line after this would be below this because i've used backslash+n key\\n\")\n",
    "    file.write(\"see\")\n",
    "\n"
   ]
  },
  {
   "cell_type": "code",
   "execution_count": 9,
   "metadata": {},
   "outputs": [],
   "source": [
    "# editing existing text with some new lines (appending)\n",
    "\n",
    "with open('example.txt','a') as file :    #'a' = append mode \n",
    "    file.write(\"\\nThis is the new line of text i wrote with append mode \")"
   ]
  },
  {
   "cell_type": "code",
   "execution_count": 10,
   "metadata": {},
   "outputs": [],
   "source": [
    "# writing multiple line \n",
    "\n",
    "list_of_lines = [\"\\nThis is me writing multiple line\\n\"\"Fist line\\n\",\"Second line\\n\",\"Third line\\n\"]\n",
    "\n",
    "with open('example.txt','a') as file :\n",
    "    file.writelines(list_of_lines)"
   ]
  },
  {
   "cell_type": "code",
   "execution_count": 11,
   "metadata": {},
   "outputs": [
    {
     "name": "stdout",
     "output_type": "stream",
     "text": [
      "250\n",
      "[]\n",
      "['This is new text wrttin through \".write\" function next line after this would be below this because i\\'ve used backslash+n key\\n', 'see\\n', 'This is the new line of text i wrote with append mode \\n', 'This is me writing multiple line\\n', 'Fist line\\n', 'Second line\\n', 'Third line\\n']\n"
     ]
    }
   ],
   "source": [
    "# note : putting reader at starting after reading the file already\n",
    "\n",
    "with open('example.txt','r') as file :\n",
    "    content = file.read()\n",
    "    print(len(content))\n",
    "    \"\"\"The reader readed the file once now if try to make it read it again, it wont\"\"\"\n",
    "    print(file.readlines())   # this command wont give proper outcome until i put reader at start again\n",
    "    file.seek(0)              # this is the command used here to put reader at starting again\n",
    "    print(file.readlines())   # now we will get proper outcome"
   ]
  },
  {
   "cell_type": "markdown",
   "metadata": {},
   "source": [
    "#### Binary file\n",
    "\n",
    "Binary files are a type of computer file that store data in binary format, which means the data is represented in a way that is not human-readable directly but is suitable for computer processing. Unlike text files that store data as readable characters, binary files store data as a sequence of bytes. "
   ]
  },
  {
   "cell_type": "code",
   "execution_count": 12,
   "metadata": {},
   "outputs": [],
   "source": [
    "# Writing a binary file \n",
    "data1 = b'\\x00\\x01\\x02\\x03\\x04\\n'\n",
    "data2 = b'\\x48\\x65\\x6c\\x6c\\x6f\\x2c\\x20\\x57\\x6f\\x72\\x6c\\x64\\x21'    # this is binary code for \"Hellow world!\"\n",
    "with open('example.bin','wb') as file:    # 'wb' = write byte\n",
    "    file.write(data1)\n",
    "    file.write(data2)"
   ]
  },
  {
   "cell_type": "code",
   "execution_count": 13,
   "metadata": {},
   "outputs": [
    {
     "name": "stdout",
     "output_type": "stream",
     "text": [
      "b'\\x00\\x01\\x02\\x03\\x04\\nHello, World!'\n"
     ]
    }
   ],
   "source": [
    "# Reading binary file \n",
    "\n",
    "with open('example.bin','rb') as file :   # 'rb' = read byte\n",
    "    content = file.read()\n",
    "    print(content)"
   ]
  },
  {
   "cell_type": "markdown",
   "metadata": {},
   "source": [
    "METHODS AND FUNCTIONS (learnt throughout the course)"
   ]
  },
  {
   "cell_type": "code",
   "execution_count": 30,
   "metadata": {},
   "outputs": [
    {
     "name": "stdout",
     "output_type": "stream",
     "text": [
      "False\n"
     ]
    }
   ],
   "source": [
    "# Closing the file and checking if file is closed \n",
    "\n",
    "file = open('example.txt','r')     # Here i didnt used 'with' statement hence the file is not closed by-default\n",
    "content = file.read()\n",
    "\n",
    "print(file.closed)      # This is a boolean functions which tells if file is closed or not \n",
    "\n",
    "file.close()            # This will close the file"
   ]
  },
  {
   "cell_type": "markdown",
   "metadata": {},
   "source": [
    "PRACTICAL EXAMPLE "
   ]
  },
  {
   "cell_type": "code",
   "execution_count": null,
   "metadata": {},
   "outputs": [],
   "source": [
    "### Read the content from a source text fiile and write to a destination text file\n",
    "# Copying a text file\n",
    "\n",
    "with open('source.txt','r') as file :\n",
    "    source = file.read()\n",
    "\n",
    "with open('destination.txt','a') as file :\n",
    "    file.write(source)\n"
   ]
  },
  {
   "cell_type": "code",
   "execution_count": null,
   "metadata": {},
   "outputs": [
    {
     "name": "stdout",
     "output_type": "stream",
     "text": [
      "['This is new text wrttin through \".write\" function next line after this would be below this because i\\'ve used backslash+n key\\n', 'see\\n', 'This is the new line of text i wrote with append mode \\n', 'This is me writing multiple line\\n', 'Fist line\\n', 'Second line\\n', 'Third line\\n']\n",
      "Number of lines in given text file is 7\n",
      "\n",
      "num of words in 0th line is 21\n",
      "num of words in 1th line is 1\n",
      "num of words in 2th line is 12\n",
      "num of words in 3th line is 6\n",
      "num of words in 4th line is 2\n",
      "num of words in 5th line is 2\n",
      "num of words in 6th line is 2\n",
      "\n",
      "This is new text wrttin through \".write\" function next line after this would be below this because i've used backslash+n key\n",
      "see\n",
      "This is the new line of text i wrote with append mode \n",
      "This is me writing multiple line\n",
      "Fist line\n",
      "Second line\n",
      "Third line\n",
      "\n",
      "\n",
      "Total number of words in given text file is 46\n",
      "\n",
      "num of characters in 0th line is 125\n",
      "num of characters in 1th line is 4\n",
      "num of characters in 2th line is 55\n",
      "num of characters in 3th line is 33\n",
      "num of characters in 4th line is 10\n",
      "num of characters in 5th line is 12\n",
      "num of characters in 6th line is 11\n",
      "\n",
      "Total num of characters in text file is 250\n"
     ]
    }
   ],
   "source": [
    "### Read a text file and count the number of lines, words, and characters.\n",
    "# Counting lines, words, and characters in a text file\n",
    "\n",
    "\n",
    "# 1. num of lines\n",
    "with open('example.txt','r') as file :\n",
    "    lines = file.readlines()       # .readlines() give all lines in form of list \n",
    "    print(lines)\n",
    "    print(f\"Number of lines in given text file is {len(lines)}\")\n",
    "\n",
    "print()\n",
    "\n",
    "# 2. num of words (in each line)\n",
    "with open('example.txt','r') as file :\n",
    "    lines = file.readlines()\n",
    "    for statement in lines :\n",
    "        words = statement.split()\n",
    "        print(f\"num of words in {lines.index(statement)}th line is {len(words)}\")\n",
    "\n",
    "print()\n",
    "\n",
    "# 3. Total number of words \n",
    "with open('example.txt','r') as file :\n",
    "    content = file.read()\n",
    "    print(content)\n",
    "    print()\n",
    "    print(f\"Total number of words in given text file is {len(content.split())}\")\n",
    "        \n",
    "print()\n",
    "\n",
    "# 4. Num of characters in each line \n",
    "with open('example.txt','r') as file :\n",
    "    lines = file.readlines()\n",
    "    for statement in lines:\n",
    "        print(f\"num of characters in {lines.index(statement)}th line is {len(statement)}\")\n",
    "\n",
    "print()\n",
    "\n",
    "# 5. Total num of characters in text \n",
    "with open('example.txt','r') as file : \n",
    "    content = file.read()\n",
    "    print(f\"Total num of characters in text file is {len(content)}\")"
   ]
  },
  {
   "cell_type": "code",
   "execution_count": null,
   "metadata": {},
   "outputs": [
    {
     "name": "stdout",
     "output_type": "stream",
     "text": [
      "Lines: 7, Words: 46, Characters: 250\n"
     ]
    }
   ],
   "source": [
    "# the whole in short (copied code from krish naik course)\n",
    "\n",
    "def count_text_file(file_path):\n",
    "    with open(file_path, 'r') as file:\n",
    "        lines = file.readlines()\n",
    "        line_count = len(lines)\n",
    "        word_count = sum(len(line.split()) for line in lines)\n",
    "        char_count = sum(len(line) for line in lines)\n",
    "    return line_count, word_count, char_count\n",
    "\n",
    "file_path = 'example.txt'\n",
    "lines, words, characters = count_text_file(file_path)\n",
    "print(f'Lines: {lines}, Words: {words}, Characters: {characters}')"
   ]
  },
  {
   "cell_type": "code",
   "execution_count": null,
   "metadata": {},
   "outputs": [
    {
     "name": "stdout",
     "output_type": "stream",
     "text": [
      "Number of lines in given text file is 7\n",
      "Number of words in given text file is 46\n",
      "Number of characters in given text file is 250\n"
     ]
    }
   ],
   "source": [
    "# MY code in shorter way\n",
    "\n",
    "with open('example.txt','r') as file :\n",
    "    lines = file.readlines()      \n",
    "    print(f\"Number of lines in given text file is {len(lines)}\")  \n",
    "    file.seek(0)\n",
    "    print(f\"Number of words in given text file is {sum(len(line.split()) for line in lines)}\") \n",
    "    file.seek(0)  \n",
    "    content = file.read()\n",
    "    print(f\"Number of characters in given text file is {len(content)}\")\n",
    "    \n"
   ]
  },
  {
   "cell_type": "code",
   "execution_count": null,
   "metadata": {},
   "outputs": [
    {
     "name": "stdout",
     "output_type": "stream",
     "text": [
      "Hello world\n",
      "This is a new line \n",
      "\n"
     ]
    }
   ],
   "source": [
    "\"\"\"\n",
    "The w+ mode in Python is used to open a file for both reading and writing. If the file does not exist,\n",
    "it will be created. If the file exists, its content is truncated (i.e., the file is overwritten).\n",
    "\"\"\"\n",
    "\n",
    "### Writing and then reading a file\n",
    "\n",
    "with open('example2.txt','w+') as file:\n",
    "    file.write(\"Hello world\\n\")\n",
    "    file.write(\"This is a new line \\n\")\n",
    "\n",
    "    ## Move the file cursor to the beginning\n",
    "    file.seek(0)\n",
    "\n",
    "    ## Read the content of the file\n",
    "    content=file.read()\n",
    "    print(content)"
   ]
  }
 ],
 "metadata": {
  "kernelspec": {
   "display_name": "Python 3",
   "language": "python",
   "name": "python3"
  },
  "language_info": {
   "codemirror_mode": {
    "name": "ipython",
    "version": 3
   },
   "file_extension": ".py",
   "mimetype": "text/x-python",
   "name": "python",
   "nbconvert_exporter": "python",
   "pygments_lexer": "ipython3",
   "version": "3.11.7"
  }
 },
 "nbformat": 4,
 "nbformat_minor": 2
}
