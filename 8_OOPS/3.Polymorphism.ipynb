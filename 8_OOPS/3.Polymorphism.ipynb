{
 "cells": [
  {
   "cell_type": "markdown",
   "metadata": {},
   "source": [
    "### Polymorphism : \n",
    "(poly-morph = multiple forms)\n",
    "\n",
    "Polymorphism is a core concept in Object-Oriented Programming (OOP) that allows objects of different classes to be treated as objects of a common superclass. It provides a way to perform a single action in different forms. Polymorphism is typically achieved through method overriding and interfaces(abstract base class)"
   ]
  },
  {
   "cell_type": "markdown",
   "metadata": {},
   "source": [
    "~~~"
   ]
  },
  {
   "cell_type": "markdown",
   "metadata": {},
   "source": [
    "#### Method Overriding :\n",
    "\n",
    "this allows a child class to have specific implementation of a method that is already defined in the parent class"
   ]
  },
  {
   "cell_type": "code",
   "execution_count": 9,
   "metadata": {},
   "outputs": [
    {
     "name": "stdout",
     "output_type": "stream",
     "text": [
      "woof\n",
      "meow\n"
     ]
    }
   ],
   "source": [
    "\n",
    "# creating base class\n",
    "class dog:\n",
    "    def sound(self):\n",
    "        return \"woof\"\n",
    "    \n",
    "## method overiding : overriding this sound() method in cat class\n",
    "\n",
    "class cat(dog):\n",
    "    def sound(self):\n",
    "        return \"meow\"   # we redifined and used function of parent class inside derived class\n",
    "\n",
    "tomy = dog()\n",
    "yuri = cat()\n",
    "print(tomy.sound())\n",
    "print(yuri.sound())  \n",
    "    \n"
   ]
  },
  {
   "cell_type": "code",
   "execution_count": 24,
   "metadata": {},
   "outputs": [
    {
     "name": "stdout",
     "output_type": "stream",
     "text": [
      "8\n",
      "50.26548245743669\n",
      "8\n",
      "50.26548245743669\n"
     ]
    }
   ],
   "source": [
    "## Example \n",
    "\n",
    "# Base class\n",
    "class shape:\n",
    "    def area():\n",
    "        return \"Area of shape\"          # just a function(not even really of any use lmao)\n",
    "    \n",
    "\n",
    "# Derived class 1\n",
    "class rectangle(shape):\n",
    "    def __init__(self,length,breadth):\n",
    "        self.length = length\n",
    "        self.breadth = breadth\n",
    "    def area(self):                  # re-defining(modifying) that function again - method overriding\n",
    "      return self.length*self.breadth\n",
    "\n",
    "# Derived class 2  \n",
    "import math\n",
    "class circle(shape):\n",
    "    def __init__(self,radius):\n",
    "        self.radius = radius\n",
    "    def area(self):\n",
    "       \n",
    "        return math.pi*(self.radius**2)\n",
    "    \n",
    "# getting output \n",
    "rectangle = rectangle(2,4)\n",
    "circle = circle(4)\n",
    "print(rectangle.area())\n",
    "print(circle.area())\n",
    "\n",
    "# getting ouput by a FUNCTION THAT SHOWS POLYMORPHISM\n",
    "def get_area(shape):\n",
    "    return shape.area()\n",
    "\n",
    "print(get_area(rectangle))     # we can just define a function providing it a class and then put objects of\n",
    "print(get_area(circle))        # derived class inside it. \n",
    "# HENCE, we put object of derived class inside a parent class, which is exactly = polymorphism "
   ]
  },
  {
   "cell_type": "markdown",
   "metadata": {},
   "source": [
    "~~~"
   ]
  },
  {
   "cell_type": "markdown",
   "metadata": {},
   "source": [
    "#### Abstract base classes (ABCs):\n",
    "\n",
    "ABC is like an empty class, we define common methods inside this and use them on many objects of other derived  classes"
   ]
  },
  {
   "cell_type": "raw",
   "metadata": {
    "vscode": {
     "languageId": "raw"
    }
   },
   "source": [
    "### Syntax :\n",
    "\n",
    "from abc import ABC,abstractmethod\n",
    "\n",
    "class class_name(ABC):\n",
    "    @abstractmethod\n",
    "    def method_name():\n",
    "        return pass               # we return pass, because its supposed to be an empty class\n"
   ]
  },
  {
   "cell_type": "code",
   "execution_count": 26,
   "metadata": {},
   "outputs": [],
   "source": [
    "from abc import ABC,abstractmethod"
   ]
  },
  {
   "cell_type": "code",
   "execution_count": 32,
   "metadata": {},
   "outputs": [
    {
     "name": "stdout",
     "output_type": "stream",
     "text": [
      "6\n",
      "50.26548245743669\n"
     ]
    }
   ],
   "source": [
    "### Example \n",
    "\n",
    "## Creating ABC class\n",
    "class shapes(ABC):\n",
    "    @abstractmethod\n",
    "    def area():\n",
    "        pass\n",
    "\n",
    "## Derived class 1\n",
    "class rectangles(shapes):\n",
    "    def __init__(self,length,breadth):\n",
    "        self.length = length\n",
    "        self.breadth = breadth\n",
    "    def area(self):\n",
    "        return self.length*self.breadth\n",
    "    \n",
    "\n",
    "## Derived class 2\n",
    "import math\n",
    "class circles(shapes):\n",
    "    def __init__(self,radius):\n",
    "        self.radius = radius\n",
    "    def area(self):\n",
    "        return math.pi*(self.radius**2)\n",
    "    \n",
    "\n",
    "# Defining objects \n",
    "R1 = rectangles(2,3)\n",
    "C1 = circles(4)\n",
    "\n",
    "# Function that shows polymorphism\n",
    "def area_func(shapes):\n",
    "    return shapes.area()\n",
    "\n",
    "print(area_func(R1))\n",
    "print(area_func(C1))\n"
   ]
  },
  {
   "cell_type": "code",
   "execution_count": null,
   "metadata": {},
   "outputs": [],
   "source": []
  }
 ],
 "metadata": {
  "kernelspec": {
   "display_name": "Python 3",
   "language": "python",
   "name": "python3"
  },
  "language_info": {
   "codemirror_mode": {
    "name": "ipython",
    "version": 3
   },
   "file_extension": ".py",
   "mimetype": "text/x-python",
   "name": "python",
   "nbconvert_exporter": "python",
   "pygments_lexer": "ipython3",
   "version": "3.12.0"
  }
 },
 "nbformat": 4,
 "nbformat_minor": 2
}
