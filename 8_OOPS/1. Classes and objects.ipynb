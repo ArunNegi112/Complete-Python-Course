{
 "cells": [
  {
   "cell_type": "markdown",
   "metadata": {},
   "source": [
    "## OOPS (Object Oreinted Programming)\n",
    "\n",
    "Object-Oriented Programming (OOP) is a programming method that uses \"objects\" to design applications and computer programs. OOP allows for modeling real-world scenarios using classes and objects."
   ]
  },
  {
   "cell_type": "markdown",
   "metadata": {},
   "source": [
    "__Class__ : classes are blue-print for creating objects,attributes and methods.                     \n",
    "\n",
    "__object__: it is defined inside the class. an object is something we bound to class         \n",
    "it is also called \"instance of class\".\n",
    "\n",
    "__attribute__: Classes define the attributes (also known as fields or properties) that the objects created from the class will possess.                         \n",
    "Attributes can be - \n",
    "- instance attributes (unique to each object) \n",
    "- class attributes (shared across all instances of the class).\n",
    "\n",
    "__Method__:Classes define methods (functions associated with the class) that may be applied to objects.                 \n",
    "Methods can be -   \n",
    "- instance methods (which operate on individual instances)\n",
    "- class methods (which operate on the class itself)\n",
    "- static methods (which do not operate on class or instance data directly)."
   ]
  },
  {
   "cell_type": "code",
   "execution_count": 1,
   "metadata": {},
   "outputs": [
    {
     "name": "stdout",
     "output_type": "stream",
     "text": [
      "<class 'int'>\n",
      "(100, 1)\n",
      "1\n",
      "<built-in method as_integer_ratio of int object at 0x00007FFB827F5618>\n",
      "<property object at 0x0000011DEB58BF10>\n"
     ]
    }
   ],
   "source": [
    "# Example \n",
    "\n",
    "obj = 100\n",
    "print(type(obj)) \n",
    "## See it say <class 'int'> because int is a class for integer number and a=100 is object inside that class\n",
    "\n",
    "## When you write 'obj.' here it shows a list of functions(methods) and atrributes defined inside this int class\n",
    "\n",
    "print(obj.as_integer_ratio())  # this is an inbuilt function inside int class \n",
    "print(obj.denominator)         # this is an property of the object inside int class(basically a class atrribute)\n",
    "\n",
    "\n",
    "print(obj.as_integer_ratio)\n",
    "print(property(obj.denominator))"
   ]
  },
  {
   "cell_type": "code",
   "execution_count": 2,
   "metadata": {},
   "outputs": [
    {
     "data": {
      "text/plain": [
       "['__abs__',\n",
       " '__add__',\n",
       " '__and__',\n",
       " '__bool__',\n",
       " '__ceil__',\n",
       " '__class__',\n",
       " '__delattr__',\n",
       " '__dir__',\n",
       " '__divmod__',\n",
       " '__doc__',\n",
       " '__eq__',\n",
       " '__float__',\n",
       " '__floor__',\n",
       " '__floordiv__',\n",
       " '__format__',\n",
       " '__ge__',\n",
       " '__getattribute__',\n",
       " '__getnewargs__',\n",
       " '__getstate__',\n",
       " '__gt__',\n",
       " '__hash__',\n",
       " '__index__',\n",
       " '__init__',\n",
       " '__init_subclass__',\n",
       " '__int__',\n",
       " '__invert__',\n",
       " '__le__',\n",
       " '__lshift__',\n",
       " '__lt__',\n",
       " '__mod__',\n",
       " '__mul__',\n",
       " '__ne__',\n",
       " '__neg__',\n",
       " '__new__',\n",
       " '__or__',\n",
       " '__pos__',\n",
       " '__pow__',\n",
       " '__radd__',\n",
       " '__rand__',\n",
       " '__rdivmod__',\n",
       " '__reduce__',\n",
       " '__reduce_ex__',\n",
       " '__repr__',\n",
       " '__rfloordiv__',\n",
       " '__rlshift__',\n",
       " '__rmod__',\n",
       " '__rmul__',\n",
       " '__ror__',\n",
       " '__round__',\n",
       " '__rpow__',\n",
       " '__rrshift__',\n",
       " '__rshift__',\n",
       " '__rsub__',\n",
       " '__rtruediv__',\n",
       " '__rxor__',\n",
       " '__setattr__',\n",
       " '__sizeof__',\n",
       " '__str__',\n",
       " '__sub__',\n",
       " '__subclasshook__',\n",
       " '__truediv__',\n",
       " '__trunc__',\n",
       " '__xor__',\n",
       " 'as_integer_ratio',\n",
       " 'bit_count',\n",
       " 'bit_length',\n",
       " 'conjugate',\n",
       " 'denominator',\n",
       " 'from_bytes',\n",
       " 'imag',\n",
       " 'is_integer',\n",
       " 'numerator',\n",
       " 'real',\n",
       " 'to_bytes']"
      ]
     },
     "execution_count": 2,
     "metadata": {},
     "output_type": "execute_result"
    }
   ],
   "source": [
    "## To get list of inbuilt methods and attributes inside a class \n",
    "\n",
    "dir(obj)"
   ]
  },
  {
   "cell_type": "code",
   "execution_count": 3,
   "metadata": {},
   "outputs": [
    {
     "name": "stdout",
     "output_type": "stream",
     "text": [
      "<class '__main__.car'>\n",
      "<__main__.car object at 0x0000011DEB5522A0>\n"
     ]
    }
   ],
   "source": [
    "### Defining a class and object\n",
    "\n",
    "class car :\n",
    "    pass \n",
    "bmw = car()     # This is how i assign variable 'bmw' as object inside the class 'car'\n",
    "\n",
    "\n",
    "print(car)\n",
    "print(bmw)"
   ]
  },
  {
   "cell_type": "code",
   "execution_count": 17,
   "metadata": {},
   "outputs": [
    {
     "name": "stdout",
     "output_type": "stream",
     "text": [
      "<__main__.car object at 0x0000011DEB5C4470>\n",
      "1990\n",
      "200000.0\n",
      "<__main__.car object at 0x0000011DEB5DD940>\n",
      "2000\n",
      "300.0\n"
     ]
    }
   ],
   "source": [
    "### Defining instance variable\n",
    "\n",
    "## Method 1\n",
    "class car :\n",
    "    #constructor\n",
    "    def __init__(self,year,cost,day) :    # self parameter is must,by this we be able to access varialbles inside class\n",
    "        \"\"\"\n",
    "        __init__ is a method in python (also called constructor function)by which we create attributes \n",
    "        inside the class.\n",
    "        these attributes will automatically be initialized when object(instance) is created\n",
    "        \"\"\"\n",
    "        self.day = int(day)\n",
    "        self.year = int(year)\n",
    "        self.cost = float(cost)\n",
    "\n",
    "# bmw = car()   #This will give error, unlike int,float etc classes car need two parameters (we have defined above)\n",
    "bmw=car(1990,200000,1)\n",
    "print(bmw)\n",
    "print(bmw.year) \n",
    "print(bmw.cost)\n",
    "\n",
    "\n",
    "porshe= car(2000,300,1)\n",
    "print(porshe)\n",
    "print(porshe.year)\n",
    "print(porshe.cost)"
   ]
  },
  {
   "cell_type": "code",
   "execution_count": 19,
   "metadata": {},
   "outputs": [
    {
     "name": "stdout",
     "output_type": "stream",
     "text": [
      "windows in bmw is 4, its showing because we gave this attribute mannualy\n",
      "'car' object has no attribute 'windows'\n"
     ]
    }
   ],
   "source": [
    "## Method 2 \n",
    "\n",
    "class car:\n",
    "    pass\n",
    "\n",
    "bmw=car()\n",
    "bmw.windows = 4    # here i created a instance variable 'windows' but it only limited to bmw\n",
    "# if i call this attribute\n",
    "print(f\"windows in bmw is {bmw.windows}, its showing because we gave this attribute mannualy\")\n",
    "\n",
    "\n",
    "porshe=car()\n",
    "try :                       # (used exception handling so we wont get error)\n",
    "    print(porshe.windows)\n",
    "except Exception as error:\n",
    "    print(error)           # says - 'car' object has no attribute 'windows'"
   ]
  },
  {
   "cell_type": "code",
   "execution_count": 25,
   "metadata": {},
   "outputs": [
    {
     "name": "stdout",
     "output_type": "stream",
     "text": [
      "{'windows': 4}\n",
      "['__class__', '__delattr__', '__dict__', '__dir__', '__doc__', '__eq__', '__format__', '__ge__', '__getattribute__', '__getstate__', '__gt__', '__hash__', '__init__', '__init_subclass__', '__le__', '__lt__', '__module__', '__ne__', '__new__', '__reduce__', '__reduce_ex__', '__repr__', '__setattr__', '__sizeof__', '__str__', '__subclasshook__', '__weakref__', 'windows']\n"
     ]
    }
   ],
   "source": [
    "'''how to see all attributes '''\n",
    "\n",
    "# to check only defined-by-us attributes defined to object\n",
    "print(bmw.__dict__)\n",
    "\n",
    "# To check all the attributes (inbuilt + instance)\n",
    "print(dir(bmw))"
   ]
  },
  {
   "cell_type": "code",
   "execution_count": 6,
   "metadata": {},
   "outputs": [
    {
     "name": "stdout",
     "output_type": "stream",
     "text": [
      "<__main__.car object at 0x0000011DEB578080>\n",
      "bmw\n",
      "150.0\n",
      "The rate after 20% discount of bmw is 120.0\n",
      "The rate after given %age discount is 120.0\n"
     ]
    }
   ],
   "source": [
    "### Defining instance methods \n",
    "\n",
    "class car:\n",
    "    \"\"\"constructor\"\"\"\n",
    "    def __init__(self,name,price):\n",
    "        self.name = str(name)\n",
    "        self.price = float(price)\n",
    "\n",
    "\n",
    "    \"\"\"methods\"\"\"\n",
    "    def discount20(self):\n",
    "        discounted_price = (80/100)*self.price\n",
    "        return discounted_price\n",
    "    \n",
    "    def discount(self,percentage):\n",
    "        discounted_rate = (100-int(percentage))*self.price/100\n",
    "        return discounted_rate\n",
    "\n",
    "car1 = car('bmw',150)\n",
    "\n",
    "print(car1)\n",
    "print(e)\n",
    "print(car1.price)\n",
    "\n",
    "print(f'The rate after 20% discount of {car1.name} is {car1.discount20()}')\n",
    "print(f'The rate after given %age discount is {car1.discount(20)}')car1.nam"
   ]
  },
  {
   "cell_type": "code",
   "execution_count": 27,
   "metadata": {},
   "outputs": [
    {
     "name": "stdout",
     "output_type": "stream",
     "text": [
      "Account holder name: Arun Negi\n",
      "Account number: 123456789\n",
      "Account balance: 1000.0\n",
      "\n",
      "\n",
      "Account holder name: Arun Negi\n",
      "Account number: 123456789\n",
      "Account balance: 1000.0\n",
      "\n",
      "\n",
      "The current balance is 1000.0\n",
      "The amount you deposit is 10\n",
      "The current balance is 1010.0\n",
      "The amount withdrawn is 40\n",
      "The current balance is 970.0\n"
     ]
    }
   ],
   "source": [
    "'''\n",
    "private attributes : attributes that cannot directly be changed\n",
    "It helps to encapsulate the data, ensuring that it is not directly modified from outside the class in an unintended way.\n",
    "'''\n",
    "\n",
    "class BankAccount():\n",
    "    def __init__(self,acc_holder,account_number,balance):\n",
    "        self.__acc_holder = acc_holder\n",
    "        self.__account_number = int(account_number)\n",
    "        self.__balance  = float(balance)\n",
    "\n",
    "    def deposit(self,deposit):\n",
    "        self.__balance += deposit\n",
    "\n",
    "        return f\"The amount you deposit is {deposit}\"\n",
    "    \n",
    "    def withdraw(self,withdraw):\n",
    "        self.__balance -= withdraw\n",
    "        return f\"The amount withdrawn is {withdraw}\"\n",
    "    \n",
    "    def balance(self):\n",
    "        return f\"The current balance is {self.__balance}\"\n",
    "    \n",
    "    def get_acc_holder(self):\n",
    "        return self.__acc_holder\n",
    "    \n",
    "    def get_account_number(self):\n",
    "        return self.__account_number\n",
    "    \n",
    "    def get_balance(self):\n",
    "        return self.__balance\n",
    "        \n",
    "Arun = BankAccount(\"Arun Negi\",123456789,1000)\n",
    "\n",
    "'''Note : This method is not recommended by encapsulation principle because it breaks the concept of encapsulating'''\n",
    "# Using name mangling to access private attributes\n",
    "print(f\"Account holder name: {Arun._BankAccount__acc_holder}\")\n",
    "print(f\"Account number: {Arun._BankAccount__account_number}\")\n",
    "print(f\"Account balance: {Arun._BankAccount__balance}\")\n",
    "\n",
    "print(\"\\n\")\n",
    "'''Better way is to define getter and setter methods inside the class'''\n",
    "\n",
    "print(f\"Account holder name: {Arun.get_acc_holder()}\")\n",
    "print(f\"Account number: {Arun.get_account_number()}\")\n",
    "print(f\"Account balance: {Arun.get_balance()}\")\n",
    "print(\"\\n\")\n",
    "\n",
    "print(Arun.balance())\n",
    "\n",
    "print(Arun.deposit(10))\n",
    "\n",
    "print(Arun.balance())\n",
    "\n",
    "print(Arun.withdraw(40))\n",
    "\n",
    "print(Arun.balance())\n"
   ]
  },
  {
   "cell_type": "code",
   "execution_count": 7,
   "metadata": {},
   "outputs": [
    {
     "name": "stdout",
     "output_type": "stream",
     "text": [
      "name of bank b1 is HDFC, and current amount is 0.0.\n",
      "after deposit of 100, current amount is 100.0\n",
      "after withdrow of 50, current amount is 50.0\n"
     ]
    }
   ],
   "source": [
    "## Example \n",
    "# Modelling a bank account (current amount,withraw,deposit\n",
    "\n",
    "class bank():\n",
    "\n",
    "    def __init__(self,name,amount=0):\n",
    "        self.name=str(name)\n",
    "        self.amount=float(amount)\n",
    "    \n",
    "    def deposit(self,deposit_amount):\n",
    "        self.amount += deposit_amount\n",
    "        return self.amount \n",
    "    \n",
    "    def withdraw(self,withdraw):\n",
    "        self.amount -= withdraw\n",
    "        return self.amount\n",
    "    \n",
    "b1 = bank('HDFC')    # if amount parametr is not given it'll by default be zero\n",
    "\n",
    "print(f'name of bank b1 is {b1.name}, and current amount is {b1.amount}.')\n",
    "print(f'after deposit of 100, current amount is {b1.deposit(100)}')\n",
    "print(f'after withdrow of 50, current amount is {b1.withdraw(50)}')\n"
   ]
  },
  {
   "cell_type": "markdown",
   "metadata": {},
   "source": [
    "#### Composition"
   ]
  },
  {
   "cell_type": "code",
   "execution_count": 29,
   "metadata": {},
   "outputs": [
    {
     "name": "stdout",
     "output_type": "stream",
     "text": [
      "Name Arun\n",
      "stree of me 6d\n",
      "place mahipalpur\n"
     ]
    }
   ],
   "source": [
    "# composition of classes \n",
    "\n",
    "class Address():\n",
    "    def __init__(self,street,city,zipcode):\n",
    "        self.street = street\n",
    "        self.city = str(city)\n",
    "        self.zipcode = int(zipcode)\n",
    "\n",
    "class Person():\n",
    "    def __init__(self,name,address):   \n",
    "        self.name = name \n",
    "        self.address = address\n",
    "\n",
    "\n",
    "address_id = Address('6d','mahipalpur',110037)\n",
    "me = Person('Arun',address_id)                 # here i gave address_id on attribute address, hence when i write me.address it'll go on address_id and i can use its attribute then hehehehe\n",
    "\n",
    "\n",
    "print(f\"Name {me.name}\")\n",
    "print(f\"stree of me {me.address.street}\")\n",
    "print(f\"place {me.address.city}\")"
   ]
  },
  {
   "cell_type": "markdown",
   "metadata": {},
   "source": [
    "`@classmethods`\n",
    "\n",
    "this is a class-method that means its applied to class attributes and not the object or instance attributes, "
   ]
  },
  {
   "cell_type": "code",
   "execution_count": 3,
   "metadata": {},
   "outputs": [
    {
     "name": "stdout",
     "output_type": "stream",
     "text": [
      "3\n"
     ]
    }
   ],
   "source": [
    "# Create a class named `Counter` with a class variable `count`. Each time an object is created, increment the count. Add a method to get the current count. Create multiple objects and print the count.\n",
    "\n",
    "class Counter():\n",
    "    count = 0\n",
    "\n",
    "    def __init__(self): #everytime we make an object __init__ is called by default\n",
    "        Counter.count += 1\n",
    "\n",
    "    @classmethod\n",
    "    def increments(cls):   # writing 'cls' is must\n",
    "        return Counter.count\n",
    "\n",
    "\n",
    "hey1 = Counter()\n",
    "hey2 = Counter()\n",
    "hey3 = Counter()\n",
    "\n",
    "print(Counter.increments())"
   ]
  },
  {
   "cell_type": "markdown",
   "metadata": {},
   "source": [
    "`static operation (static method)`\n",
    "\n",
    "we dont need to define any objects to use these methods,\n",
    "they dont require any attributes, neither modify them"
   ]
  },
  {
   "cell_type": "code",
   "execution_count": 4,
   "metadata": {},
   "outputs": [
    {
     "name": "stdout",
     "output_type": "stream",
     "text": [
      "3.1622776601683795\n",
      "4.0\n"
     ]
    }
   ],
   "source": [
    "import math\n",
    "class MathOperations():\n",
    "\n",
    "    @staticmethod\n",
    "    def squreroot(x):\n",
    "        return math.sqrt(x)\n",
    "    \n",
    "print(MathOperations.squreroot(10))\n",
    "print(MathOperations.squreroot(16))"
   ]
  },
  {
   "cell_type": "code",
   "execution_count": null,
   "metadata": {},
   "outputs": [],
   "source": []
  }
 ],
 "metadata": {
  "kernelspec": {
   "display_name": "Python 3",
   "language": "python",
   "name": "python3"
  },
  "language_info": {
   "codemirror_mode": {
    "name": "ipython",
    "version": 3
   },
   "file_extension": ".py",
   "mimetype": "text/x-python",
   "name": "python",
   "nbconvert_exporter": "python",
   "pygments_lexer": "ipython3",
   "version": "3.12.0"
  }
 },
 "nbformat": 4,
 "nbformat_minor": 2
}
