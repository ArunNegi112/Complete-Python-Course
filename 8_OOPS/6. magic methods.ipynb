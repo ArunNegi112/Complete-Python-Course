{
 "cells": [
  {
   "cell_type": "markdown",
   "metadata": {},
   "source": [
    "### Magic methods \n",
    "\n",
    "- Also known as dunder methods (double underscore methods),\n",
    "- These methods enable you to define the behavior of objects for built-in operations, such as arithmetic operations, comparisons, and more"
   ]
  },
  {
   "cell_type": "markdown",
   "metadata": {},
   "source": [
    "these are declared using `__func__` this kinda double underscores in front and back"
   ]
  },
  {
   "cell_type": "markdown",
   "metadata": {},
   "source": [
    "#### examples\n",
    "\n",
    "`__init__`: Initializes a new instance of a class.\n",
    "\n",
    "`__str__`: Returns a string representation of an object.\n",
    "\n",
    "`__repr__`: Returns an official string representation of an object.\n",
    "\n",
    "`__len__`: Returns the length of an object.\n",
    "\n",
    "`__getitem__`: Gets an item from a container.\n",
    "\n",
    "`__setitem__`: Sets an item in a container."
   ]
  },
  {
   "cell_type": "code",
   "execution_count": 1,
   "metadata": {},
   "outputs": [
    {
     "name": "stdout",
     "output_type": "stream",
     "text": [
      "['__class__', '__delattr__', '__dict__', '__dir__', '__doc__', '__eq__', '__format__', '__ge__', '__getattribute__', '__getstate__', '__gt__', '__hash__', '__init__', '__init_subclass__', '__le__', '__lt__', '__module__', '__ne__', '__new__', '__reduce__', '__reduce_ex__', '__repr__', '__setattr__', '__sizeof__', '__str__', '__subclasshook__', '__weakref__']\n",
      "{'name': 'Arun', 'age': 19}\n"
     ]
    }
   ],
   "source": [
    "class Person():\n",
    "    def __init__(self,name,age):\n",
    "        self.name = name\n",
    "        self.age = age\n",
    "\n",
    "print(dir(Person))\n",
    "\n",
    "'''These are all magic methods'''\n",
    "\n",
    "person = Person('Arun',19)\n",
    "print(person.__dict__)"
   ]
  },
  {
   "cell_type": "markdown",
   "metadata": {},
   "source": [
    "note:\n",
    "`__dict__` : Contains only the object's instance-specific attributes (not methods or special attributes unless explicitly defined)\n",
    "`dir()` : It lists all attributes and methods accessible for an object (including inherited ones)."
   ]
  },
  {
   "cell_type": "markdown",
   "metadata": {},
   "source": [
    "#### Overriding magic methods"
   ]
  },
  {
   "cell_type": "code",
   "execution_count": null,
   "metadata": {},
   "outputs": [
    {
     "data": {
      "text/plain": [
       "'The name is Arun and age is 19'"
      ]
     },
     "execution_count": 8,
     "metadata": {},
     "output_type": "execute_result"
    }
   ],
   "source": [
    "def __str__(self):\n",
    "    return f\"The name is {self.name} and age is {self.age}\"\n",
    "\n",
    "Person.__str__ = __str__\n",
    "\n",
    "\n",
    "person.__str__()   # If we define magic method outside of class, this is how we call it"
   ]
  },
  {
   "cell_type": "code",
   "execution_count": null,
   "metadata": {},
   "outputs": [
    {
     "name": "stdout",
     "output_type": "stream",
     "text": [
      "The name is Arun and age is 10\n"
     ]
    }
   ],
   "source": [
    "# If we override magic method inside the class\n",
    "\n",
    "class Person():\n",
    "    def __init__(self,name,age):\n",
    "        self.name = name\n",
    "        self.age = age\n",
    "    \n",
    "    def __str__(self):\n",
    "        return f\"The name is {self.name} and age is {self.age}\"\n",
    "    \n",
    "person = Person('Arun',10)\n",
    "print(person)      \n",
    "# This is how it can be called"
   ]
  }
 ],
 "metadata": {
  "kernelspec": {
   "display_name": "Python 3",
   "language": "python",
   "name": "python3"
  },
  "language_info": {
   "codemirror_mode": {
    "name": "ipython",
    "version": 3
   },
   "file_extension": ".py",
   "mimetype": "text/x-python",
   "name": "python",
   "nbconvert_exporter": "python",
   "pygments_lexer": "ipython3",
   "version": "3.12.0"
  }
 },
 "nbformat": 4,
 "nbformat_minor": 2
}
