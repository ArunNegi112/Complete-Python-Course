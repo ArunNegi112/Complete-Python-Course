{
 "cells": [
  {
   "cell_type": "markdown",
   "metadata": {
    "vscode": {
     "languageId": "plaintext"
    }
   },
   "source": [
    "## Abstraction \n",
    "- A concept of oops, where we define a class (abstract base class using ABC class from abc module)\n",
    "- Here, in that class we make blueprint of methods (by using `@abstractmethod` decorater) that are not be implemented on objects directly of that class, \n",
    "- For implementation of those methods we define derived (subclass) classes\n",
    "\n",
    "\n",
    "here implementation details of methods are hidden in the base class and only the structure (or blueprint) is provided. The actual implementation is handled in the derived class."
   ]
  },
  {
   "cell_type": "code",
   "execution_count": 20,
   "metadata": {},
   "outputs": [
    {
     "name": "stdout",
     "output_type": "stream",
     "text": [
      "Bark\n"
     ]
    }
   ],
   "source": [
    "from abc import ABC, abstractmethod\n",
    "\n",
    "class animal(ABC):\n",
    "    @abstractmethod\n",
    "    def sound(self):\n",
    "        pass\n",
    "\n",
    "class dog(animal):\n",
    "    def sound(self):\n",
    "        return \"Bark\"\n",
    "    \n",
    "\n",
    "bhuru = dog()\n",
    "print(bhuru.sound())\n",
    "\n"
   ]
  },
  {
   "cell_type": "markdown",
   "metadata": {},
   "source": [
    "but note : if we write make an object, let bhalu = animal(), this will give error. Because abstract base classes like animal() cannot be directly instantiated, because they are considered 'incomplete'\n",
    "\n",
    "(instantiated = we cannot make its instance (object))"
   ]
  },
  {
   "cell_type": "markdown",
   "metadata": {},
   "source": []
  }
 ],
 "metadata": {
  "kernelspec": {
   "display_name": "Python 3",
   "language": "python",
   "name": "python3"
  },
  "language_info": {
   "codemirror_mode": {
    "name": "ipython",
    "version": 3
   },
   "file_extension": ".py",
   "mimetype": "text/x-python",
   "name": "python",
   "nbconvert_exporter": "python",
   "pygments_lexer": "ipython3",
   "version": "3.11.7"
  }
 },
 "nbformat": 4,
 "nbformat_minor": 2
}
