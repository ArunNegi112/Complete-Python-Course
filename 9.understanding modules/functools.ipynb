{
 "cells": [
  {
   "cell_type": "code",
   "execution_count": 1,
   "metadata": {},
   "outputs": [],
   "source": [
    "from functools import partial,partialmethod"
   ]
  },
  {
   "cell_type": "markdown",
   "metadata": {},
   "source": [
    "## _Functools_  \n",
    "-is a module to help with Higher-order-functions \n",
    " \n",
    "__higher order function__ :  \n",
    "Takes functions as arguments, or  \n",
    "Returns a function as its result.  \n",
    "\n",
    "\n",
    "Functools help to use higher-order-function or extend them without rewriting the entire code"
   ]
  },
  {
   "cell_type": "markdown",
   "metadata": {},
   "source": [
    "__Two classes__\n",
    "1. Partial\n",
    "2. Partialmethod"
   ]
  },
  {
   "cell_type": "markdown",
   "metadata": {},
   "source": [
    "### Partial class\n",
    "With the help of partial class, we can pre-define some arguments of a function"
   ]
  },
  {
   "cell_type": "code",
   "execution_count": 3,
   "metadata": {},
   "outputs": [
    {
     "name": "stdout",
     "output_type": "stream",
     "text": [
      "16\n"
     ]
    }
   ],
   "source": [
    "def square(a,b):\n",
    "    '''returns \"a\" raised to power \"b\"'''\n",
    "    return a**b \n",
    "\n",
    "pow2 = partial(square,b=2)    # This equivalent to square(x,2)\n",
    "# We created an object of partial class, with the help of which we predefined the \"b\" argument of the square function\n",
    "\n",
    "print(pow2(4))                # This equivalent to square(4,2)"
   ]
  }
 ],
 "metadata": {
  "kernelspec": {
   "display_name": "env",
   "language": "python",
   "name": "python3"
  },
  "language_info": {
   "codemirror_mode": {
    "name": "ipython",
    "version": 3
   },
   "file_extension": ".py",
   "mimetype": "text/x-python",
   "name": "python",
   "nbconvert_exporter": "python",
   "pygments_lexer": "ipython3",
   "version": "3.13.1"
  }
 },
 "nbformat": 4,
 "nbformat_minor": 2
}
