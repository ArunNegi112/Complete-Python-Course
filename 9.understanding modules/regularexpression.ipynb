{
 "cells": [
  {
   "cell_type": "markdown",
   "metadata": {},
   "source": [
    "The `re` module in Python stands for regular expressions, a powerful tool for searching, matching, and manipulating text using patterns."
   ]
  },
  {
   "cell_type": "code",
   "execution_count": 1,
   "metadata": {},
   "outputs": [],
   "source": [
    "import re"
   ]
  },
  {
   "cell_type": "code",
   "execution_count": 2,
   "metadata": {},
   "outputs": [
    {
     "name": "stdout",
     "output_type": "stream",
     "text": [
      "True\n",
      "20\n"
     ]
    }
   ],
   "source": [
    "string =\"Hey Hey Hey...Lovvverrrrr\"\n",
    "if \"rr\" in string:\n",
    "    print(True)\n",
    "    print(string.index(\"rr\",))\n",
    "else :\n",
    "    print(False)\n",
    "\n",
    "# But what if things are complicated"
   ]
  },
  {
   "cell_type": "code",
   "execution_count": 3,
   "metadata": {},
   "outputs": [
    {
     "name": "stdout",
     "output_type": "stream",
     "text": [
      "<re.Match object; span=(31, 41), match='Foundation'>\n"
     ]
    }
   ],
   "source": [
    "text = '''\n",
    "Build Strong math \"foundation Foundation\" with linear algebra,stats,probability,differential calculus for mastering data science\n",
    "Master Calculus: Understand derivatives and integrals, and Doundation apply them in optimizing machine learning algorithms and data analysis tasks.\n",
    "Learn Linear Algebra: Grasp vectors, matrices, and eigenvalues, essential Zoundationfor building and understanding advanced data science models.\n",
    "Understand Probability: Dive into probability theory, crucial for making informed predictions and working with uncertainty in data.\n",
    "'''\n",
    "\n",
    "# r\"___\" : raw string, i.e no escape sequence gonna work on it, ex \"/n\" we be seen as \"/n\" and not as \"new line\"\n",
    "pattern = r\"[A-Z]oundation\"  # says : starting from A to Z-oundation  \n",
    "# This is called 'pattern' we create this and search for things in text\n",
    "matche = re.search(pattern=pattern,string=text)   # .search() finds us the first occurance of whatever we need\n",
    "print(matche)"
   ]
  },
  {
   "cell_type": "markdown",
   "metadata": {},
   "source": [
    "To see the pattern and get work done  \n",
    "go to `https://regexr.com/`"
   ]
  },
  {
   "cell_type": "code",
   "execution_count": 4,
   "metadata": {},
   "outputs": [
    {
     "name": "stdout",
     "output_type": "stream",
     "text": [
      "<re.Match object; span=(31, 41), match='Foundation'>\n",
      "Word : Foundation, Start : 31, End : 41, Span : (31, 41)\n",
      "<re.Match object; span=(189, 199), match='Doundation'>\n",
      "Word : Doundation, Start : 189, End : 199, Span : (189, 199)\n",
      "<re.Match object; span=(352, 362), match='Zoundation'>\n",
      "Word : Zoundation, Start : 352, End : 362, Span : (352, 362)\n"
     ]
    }
   ],
   "source": [
    "# Gettting all occurances\n",
    "matches = re.finditer(pattern=pattern,string=text)\n",
    "for match in matches :\n",
    "    print(match)\n",
    "    print(f\"Word : {match.group()}, Start : {match.start()}, End : {match.end()}, Span : {match.span()}\")"
   ]
  },
  {
   "cell_type": "code",
   "execution_count": 5,
   "metadata": {},
   "outputs": [
    {
     "name": "stdout",
     "output_type": "stream",
     "text": [
      "Build 1\n",
      "Strong 7\n",
      "Foundation 31\n",
      "Master 130\n",
      "Calculus 137\n",
      "Understand 147\n",
      "Doundation 189\n",
      "Learn 278\n",
      "Linear 284\n",
      "Algebra 291\n",
      "Grasp 300\n",
      "Zoundationfor 352\n",
      "Understand 423\n",
      "Probability 434\n",
      "Dive 447\n"
     ]
    }
   ],
   "source": [
    "## Example \n",
    "# Getting all words starting from capital\n",
    "pattern = r\"[A-Z]\\w+\"\n",
    "matches = re.finditer(pattern=pattern,string=text)\n",
    "for match in matches:\n",
    "    print(match.group(), match.start())"
   ]
  },
  {
   "cell_type": "code",
   "execution_count": 9,
   "metadata": {},
   "outputs": [
    {
     "name": "stdout",
     "output_type": "stream",
     "text": [
      "(0, 2)\n",
      "(1, 3)\n",
      "(4, 6)\n"
     ]
    }
   ],
   "source": [
    "# Lookahead assertion (to get overlapping patterns)\n",
    "pattern = \"aa\"\n",
    "text = \"aaabaa\"\n",
    "matches = re.finditer(pattern=rf\"(?={pattern})\",string=text)\n",
    "\n",
    "'''\n",
    " re\"(?= {pattern})\" : `lookahead` : this stops the cursor at the starting point of text if pattern is found\n",
    "'''\n",
    "\n",
    "# for match in matches:\n",
    "#     print(match.span())   # see that because now \"starting and ending\" both points are same (cursor is stopped at starting), this is wrong\n",
    "\n",
    "\n",
    "# Note : \"Match\" object is an iterator\n",
    "\n",
    "for match in matches :\n",
    "    print(f\"{(match.start(), match.start()+len(pattern))}\")"
   ]
  },
  {
   "cell_type": "code",
   "execution_count": 10,
   "metadata": {},
   "outputs": [
    {
     "name": "stdout",
     "output_type": "stream",
     "text": [
      "(0, 1)\n",
      "(3, 4)\n",
      "(4, 5)\n",
      "(5, 6)\n"
     ]
    }
   ],
   "source": [
    "# You are given a string S.\n",
    "# Your task is to find the indices of the start and end of string K in S. \n",
    "S = input()\n",
    "k = input()\n",
    "matches = list(re.finditer(pattern=rf\"(?={k})\",string=S))\n",
    "if matches:\n",
    "    for match in matches:\n",
    "        print(f\"{(match.start(),match.start()+len(k)-1)}\")\n",
    "else:\n",
    "    print((-1,-1))"
   ]
  }
 ],
 "metadata": {
  "kernelspec": {
   "display_name": "myenv",
   "language": "python",
   "name": "python3"
  },
  "language_info": {
   "codemirror_mode": {
    "name": "ipython",
    "version": 3
   },
   "file_extension": ".py",
   "mimetype": "text/x-python",
   "name": "python",
   "nbconvert_exporter": "python",
   "pygments_lexer": "ipython3",
   "version": "3.12.7"
  }
 },
 "nbformat": 4,
 "nbformat_minor": 2
}
