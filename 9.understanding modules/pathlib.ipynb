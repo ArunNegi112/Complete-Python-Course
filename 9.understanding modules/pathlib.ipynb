{
 "cells": [
  {
   "cell_type": "markdown",
   "metadata": {},
   "source": [
    "## __Pathlib__\n",
    "`pathlib` is a Python module for working with file paths and files. Unlike the os module, which treats paths as strings, pathlib represents them as Path objects which more readable and easy to understand"
   ]
  },
  {
   "cell_type": "code",
   "execution_count": 11,
   "metadata": {},
   "outputs": [],
   "source": [
    "import os\n",
    "from pathlib import Path"
   ]
  },
  {
   "cell_type": "code",
   "execution_count": 12,
   "metadata": {},
   "outputs": [
    {
     "name": "stdout",
     "output_type": "stream",
     "text": [
      "c:\\Users\\Arun\\Documents\\Documents\\Complete-Python-Course\\9.understanding modules\n",
      "['datetime module.ipynb', 'functools.ipynb', 'pathlib.ipynb', 'random.ipynb', 'regularexpression.ipynb', 'requests.py', 'school.jpg', 'test_pathlib']\n",
      "\n",
      "\n",
      "c:\\Users\\Arun\\Documents\\Documents\\Complete-Python-Course\\9.understanding modules\n",
      "[WindowsPath('datetime module.ipynb'), WindowsPath('functools.ipynb'), WindowsPath('pathlib.ipynb'), WindowsPath('random.ipynb'), WindowsPath('regularexpression.ipynb'), WindowsPath('requests.py'), WindowsPath('school.jpg'), WindowsPath('test_pathlib')]\n"
     ]
    }
   ],
   "source": [
    "## Getting cwd and files inside it\n",
    "\n",
    "# Using os\n",
    "print(os.getcwd())\n",
    "print(os.listdir())\n",
    "\n",
    "print(\"\\n\")\n",
    "\n",
    "# Using Path\n",
    "print(Path.cwd())\n",
    "print([file for file in Path().iterdir()])"
   ]
  },
  {
   "cell_type": "code",
   "execution_count": 13,
   "metadata": {},
   "outputs": [
    {
     "name": "stdout",
     "output_type": "stream",
     "text": [
      ".understanding modules\n",
      ".ipynb\n",
      "9\n",
      "pathlib\n",
      "ipynb\n"
     ]
    }
   ],
   "source": [
    "## Getting extension and stem of file\n",
    "# stem=name of file\n",
    "my_dir = Path(\"9.understanding modules\")                   # IF Nothing is given it'll take cwd\n",
    "my_file = Path('pathlib.ipynb')\n",
    "\n",
    "\n",
    "# Using Path\n",
    "print(my_dir.suffix)     # I just messed up with directory names\n",
    "print(my_file.suffix)    # .ipynb extension (i.e suffix)\n",
    "\n",
    "print(my_dir.stem)\n",
    "print(my_file.stem)      \n",
    "\n",
    "# Using os\n",
    "my_file = os.path.relpath(\"datetime module.ipynb\")\n",
    "print(my_file.split(\".\")[1])\n"
   ]
  },
  {
   "cell_type": "code",
   "execution_count": 14,
   "metadata": {},
   "outputs": [
    {
     "name": "stdout",
     "output_type": "stream",
     "text": [
      "test_pathlib\\new_file_pathlib.txt\n",
      "test_pathlib\\new_file_pathlib2.txt\n"
     ]
    }
   ],
   "source": [
    "## Joining paths\n",
    "\n",
    "# Method 1 (traditional)\n",
    "my_dir = Path('test_pathlib')\n",
    "new_file = my_dir.joinpath(\"new_file_pathlib.txt\")\n",
    "print(new_file)\n",
    "\n",
    "# Method 2 (Cool one)\n",
    "new_file2 = my_dir / 'new_file_pathlib2.txt'\n",
    "print(new_file2)"
   ]
  },
  {
   "cell_type": "code",
   "execution_count": 15,
   "metadata": {},
   "outputs": [
    {
     "name": "stdout",
     "output_type": "stream",
     "text": [
      "True\n",
      "True\n",
      "False\n"
     ]
    }
   ],
   "source": [
    "## Checking if paths exists or not\n",
    "\n",
    "print(my_dir.exists())\n",
    "print(new_file.exists())\n",
    "print(new_file2.exists())"
   ]
  },
  {
   "cell_type": "code",
   "execution_count": 16,
   "metadata": {},
   "outputs": [],
   "source": [
    "# Creating file\n",
    "new_file.touch(exist_ok=True)"
   ]
  },
  {
   "cell_type": "code",
   "execution_count": 17,
   "metadata": {},
   "outputs": [
    {
     "name": "stdout",
     "output_type": "stream",
     "text": [
      ".\n",
      "test_pathlib\n",
      ".\n"
     ]
    }
   ],
   "source": [
    "## Getting relative path of parent directory\n",
    "print(my_dir.parent)    \n",
    "print(new_file.parent)\n",
    "print(new_file.parent.parent)"
   ]
  },
  {
   "cell_type": "markdown",
   "metadata": {},
   "source": [
    "\".\" = The parent directory is cwd"
   ]
  },
  {
   "cell_type": "code",
   "execution_count": 18,
   "metadata": {},
   "outputs": [
    {
     "name": "stdout",
     "output_type": "stream",
     "text": [
      "c:\\Users\\Arun\\Documents\\Documents\\Complete-Python-Course\\9.understanding modules\n",
      "c:\\Users\\Arun\\Documents\\Documents\\Complete-Python-Course\\9.understanding modules\\test_pathlib\n",
      "C:\\Users\\Arun\\Documents\\Documents\\Complete-Python-Course\\9.understanding modules\\test_pathlib\n",
      "c:\\Users\\Arun\\Documents\\Documents\\Complete-Python-Course\\9.understanding modules\\..\n",
      "C:\\Users\\Arun\\Documents\\Documents\\Complete-Python-Course\n"
     ]
    }
   ],
   "source": [
    "## Getting abs path\n",
    "\n",
    "# Method 1 \n",
    "print(my_dir.parent.absolute())\n",
    "print(my_dir.absolute())\n",
    "\n",
    "\n",
    "# Method 2 (preferred)\n",
    "print(my_dir.resolve())\n",
    "\n",
    "#Whats the diff? .resolve not only provide abs path but provide abs path after resolving the command\n",
    "print(Path(\"..\").absolute())\n",
    "print(Path(\"..\").resolve())\n",
    "#Generally \"..\" means we want to go to parent directory, .resolve() understands it!\n",
    "\n",
    "\n",
    "#Always use 'resolve' \n"
   ]
  },
  {
   "cell_type": "code",
   "execution_count": null,
   "metadata": {},
   "outputs": [],
   "source": []
  }
 ],
 "metadata": {
  "kernelspec": {
   "display_name": "env",
   "language": "python",
   "name": "python3"
  },
  "language_info": {
   "codemirror_mode": {
    "name": "ipython",
    "version": 3
   },
   "file_extension": ".py",
   "mimetype": "text/x-python",
   "name": "python",
   "nbconvert_exporter": "python",
   "pygments_lexer": "ipython3",
   "version": "3.13.1"
  }
 },
 "nbformat": 4,
 "nbformat_minor": 2
}
