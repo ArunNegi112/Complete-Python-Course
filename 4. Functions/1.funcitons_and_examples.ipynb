{
 "cells": [
  {
   "cell_type": "markdown",
   "metadata": {},
   "source": [
    "## Function :\n",
    "\n",
    "A block of code that do certain tasks. \n",
    "\n",
    "It is used if we want to do same task again and again in code. \n",
    "\n",
    "It increases the readability of code and makes it smaller."
   ]
  },
  {
   "cell_type": "code",
   "execution_count": 1,
   "metadata": {},
   "outputs": [],
   "source": [
    "## SYNTAX\n",
    "\n",
    "def function_name(parameters):\n",
    "    \"\"\"docstring (comment about function)\"\"\"\n",
    "    #function body\n",
    "    return expression\n"
   ]
  },
  {
   "cell_type": "code",
   "execution_count": 2,
   "metadata": {},
   "outputs": [
    {
     "name": "stdout",
     "output_type": "stream",
     "text": [
      "given num: 5 is odd\n"
     ]
    }
   ],
   "source": [
    "## WHY WE NEED FUNCTION? - understand by example\n",
    "\n",
    "num = 5\n",
    "\n",
    "if num%2==0:\n",
    "    print(\"given num:\",num,\"is even\")\n",
    "else:\n",
    "    print(\"given num:\",num,\"is odd\")\n",
    "\n",
    "# if we need this same condition and return values many time in code, we'll have to write it again and again\n",
    "# but if we define that even_or_odd function we can call it any time"
   ]
  },
  {
   "cell_type": "code",
   "execution_count": 3,
   "metadata": {},
   "outputs": [
    {
     "name": "stdout",
     "output_type": "stream",
     "text": [
      "given num: 5 is odd\n"
     ]
    }
   ],
   "source": [
    "def even_or_odd(num):\n",
    "    \"\"\"it tells if function is even or odd\"\"\"\n",
    "    if num%2==0:\n",
    "        print(\"given num:\",num,\"is even\")\n",
    "    else:\n",
    "        print(\"given num:\",num,\"is odd\")\n",
    "\n",
    "# calling a funciton\n",
    "\n",
    "even_or_odd(5)"
   ]
  },
  {
   "cell_type": "code",
   "execution_count": 4,
   "metadata": {},
   "outputs": [
    {
     "data": {
      "text/plain": [
       "5"
      ]
     },
     "execution_count": 4,
     "metadata": {},
     "output_type": "execute_result"
    }
   ],
   "source": [
    "# function with multiple parameters \n",
    "\n",
    "def add(a,b):\n",
    "    return a+b\n",
    "\n",
    "add(2,3)"
   ]
  },
  {
   "cell_type": "code",
   "execution_count": 5,
   "metadata": {},
   "outputs": [
    {
     "name": "stdout",
     "output_type": "stream",
     "text": [
      "Hellow Arun welcome to the utopia\n",
      "Hellow Guest welcome to the utopia\n",
      "Hellow Arun welcome to the utopia\n"
     ]
    }
   ],
   "source": [
    "# fuction with default parameter(something which is used as input when no input is given while calling the function)\n",
    "\n",
    "def greeting(name):                      #this is without default parameter, if i dont write \"arun\", there'll be error\n",
    "    return f\"Hellow {name} welcome to the utopia\"\n",
    "\n",
    "print(greeting(\"Arun\"))    \n",
    "\n",
    "def greetings(name=\"Guest\"):            #this is with a default parameter\n",
    "    return f\"Hellow {name} welcome to the utopia\"\n",
    "\n",
    "print(greetings())\n",
    "print(greetings(\"Arun\"))"
   ]
  },
  {
   "cell_type": "code",
   "execution_count": 6,
   "metadata": {},
   "outputs": [
    {
     "name": "stdout",
     "output_type": "stream",
     "text": [
      "10\n",
      "78\n",
      "Your name is arun\n",
      "Your age is 17\n",
      "Your subject is physics\n"
     ]
    }
   ],
   "source": [
    "# Positional arguments - most common way to assign arguments, just write them comma separated\n",
    "def numbers(num1,num2,num3,num4):\n",
    "    return num1+num2+num3+num4\n",
    "print(numbers(1,2,3,4))\n",
    "\n",
    "\n",
    "# Variable length arguments(*args)- having many many arguments(parameters) inside a funciton : \n",
    "\n",
    "def numbers(*args):            # just use \"*\" + any_name, thats how we can give any number of arguments\n",
    "    return sum(args)\n",
    "print(numbers(1,2,3,4,5,6,6,7,44))\n",
    "\n",
    "\n",
    "# Keyword agruments (**kwargs) - here all the parameters are in key(input)-value(output) pairs\n",
    "\n",
    "def information(**kwargs):\n",
    "    for key,value in kwargs.items():\n",
    "        print(f\"Your {key} is {value}\")\n",
    "    \n",
    "information(name=\"arun\",age=17,subject= \"physics\")"
   ]
  },
  {
   "cell_type": "code",
   "execution_count": 7,
   "metadata": {},
   "outputs": [
    {
     "name": "stdout",
     "output_type": "stream",
     "text": [
      "positional argument =  2\n",
      "variable len argument = 3\n",
      "variable len argument = 4\n",
      "variable len argument = 5\n",
      "variable len argument = 6\n",
      "variable len argument = arun\n",
      "keyword argument = name : arun\n",
      "keyword argument = kaam : khana\n"
     ]
    }
   ],
   "source": [
    "# Positional, variable length and keyword arguments together\n",
    "\n",
    "def function(num1,*args,**kwargs):\n",
    "    print(\"positional argument = \", num1)\n",
    "    for i in args:\n",
    "        print(f\"variable len argument = {i}\")\n",
    "    for key,value in kwargs.items():\n",
    "        print(f\"keyword argument = {key} : {value}\")\n",
    "    \n",
    "\n",
    "\n",
    "# calling this function : we have to give inputs in same sequence as given in funciton(___)\n",
    "\n",
    "function(2,3,4,5,6,\"arun\",name=\"arun\",kaam=\"khana\")"
   ]
  },
  {
   "cell_type": "code",
   "execution_count": 1,
   "metadata": {},
   "outputs": [
    {
     "name": "stdout",
     "output_type": "stream",
     "text": [
      "[5, 10, 15, 20, 25]\n"
     ]
    }
   ],
   "source": [
    "# callback function - The function that is used as argument in another function is called callback function\n",
    "# higher order fuction - The funtion that inherits the callback function\n",
    "\n",
    "lis = [1,2,3,4,5]\n",
    "\n",
    "def callback(n):\n",
    "    return n*5\n",
    "\n",
    "def multiply_2(digits,callback):\n",
    "    final_lis = [callback(i) for i in digits]\n",
    "    return final_lis\n",
    "\n",
    "\n",
    "print(multiply_2(lis,callback))\n"
   ]
  },
  {
   "cell_type": "markdown",
   "metadata": {},
   "source": [
    "### Examples"
   ]
  },
  {
   "cell_type": "markdown",
   "metadata": {},
   "source": [
    "Example 1 : TEMPERATURE CONVERSION \n"
   ]
  },
  {
   "cell_type": "code",
   "execution_count": 8,
   "metadata": {},
   "outputs": [
    {
     "name": "stdout",
     "output_type": "stream",
     "text": [
      "102 in degree farenhite is 38.888888888888886 celcius\n"
     ]
    }
   ],
   "source": [
    "# TEMPERATURE CONVERSION (farehite to degree)\n",
    "\n",
    "def Temp_con(farenhite):\n",
    "    print(f\"{farenhite} in degree farenhite is\",((farenhite-32)*5)/9,\"celcius\")\n",
    "\n",
    "Temp_con(102)"
   ]
  },
  {
   "cell_type": "code",
   "execution_count": 9,
   "metadata": {},
   "outputs": [
    {
     "name": "stdout",
     "output_type": "stream",
     "text": [
      "38.888888888888886C in F is 102.0\n"
     ]
    }
   ],
   "source": [
    "# TEMPERATURE CONVERSION (to any unit):\n",
    "\n",
    "def temp_con(temp,unit1,unit2): \n",
    "    \"\"\"to change temp from unit1 to unit2\"\"\"                \n",
    "    if unit1==\"C\" and unit2 == \"F\":\n",
    "        converted_temp = (9*temp/5)+32\n",
    "        print(f\"{temp}{unit1} in {unit2} is {converted_temp}\")\n",
    "    elif unit1 ==  \"F\" and unit2 == \"C\":\n",
    "        converted_temp = (temp-32)*5/9\n",
    "        print(f\"{temp}{unit1} in {unit2} is {converted_temp}\")\n",
    "\n",
    "    # now same can be did to all othr units (i aint doing that shit)\n",
    "\n",
    "temp_con(38.888888888888886,\"C\",\"F\")"
   ]
  },
  {
   "cell_type": "markdown",
   "metadata": {},
   "source": [
    "Example 2: check how many letters in a string are capital or small"
   ]
  },
  {
   "cell_type": "code",
   "execution_count": 10,
   "metadata": {},
   "outputs": [
    {
     "name": "stdout",
     "output_type": "stream",
     "text": [
      "0\n",
      "1\n",
      "4\n",
      "11\n",
      "10\n",
      "7\n",
      "2\n",
      "0\n",
      "9\n"
     ]
    }
   ],
   "source": [
    "# check how many letter in a string are uppercase\n",
    "def capital_letter_check(upper_string):\n",
    "    count=0\n",
    "    for s in upper_string:\n",
    "        if s.isupper()==True:\n",
    "            count += 1\n",
    "    return count\n",
    "\n",
    "print(capital_letter_check(\"hellow world\"))  \n",
    "print(capital_letter_check(\"Hellow world\"))  \n",
    "print(capital_letter_check(\"heLLOw World\"))  \n",
    "\n",
    "# check how many letter in a string are lowercase\n",
    "def small_letter_check(lower_string):\n",
    "    count=0\n",
    "    for s in lower_string:\n",
    "        if s.islower()==True:\n",
    "            count += 1\n",
    "    return count\n",
    "\n",
    "print(small_letter_check(\"hellow world\"))  \n",
    "print(small_letter_check(\"Hellow world\"))  \n",
    "print(small_letter_check(\"heLLOw World\"))  \n",
    "\n",
    "\n",
    "\n",
    "# check how many digit is there in string \n",
    "def num_checker(number):\n",
    "    count=0\n",
    "    for n in number:\n",
    "        if n.isdigit()==True:\n",
    "            count+=1\n",
    "    return count\n",
    "print(num_checker(\"hellow world 11\"))  \n",
    "print(num_checker(\"Hellow world\"))  \n",
    "print(num_checker(\"heLLOw World407575635\")) \n",
    "\n",
    "\n",
    "# note : any() function can be used to return True/False to check uppercase/lowercase/digit in string \n",
    "# DO THAT WAY TOO !!!!!!!!!!!!!!!\n"
   ]
  },
  {
   "cell_type": "markdown",
   "metadata": {},
   "source": [
    "Example 3: Password Strength Checker "
   ]
  },
  {
   "cell_type": "code",
   "execution_count": 11,
   "metadata": {},
   "outputs": [
    {
     "name": "stdout",
     "output_type": "stream",
     "text": [
      "\"Strong Password\"\n"
     ]
    }
   ],
   "source": [
    "def pass_strength(word) : \n",
    "    if len(word)<8 :\n",
    "        return f\"given password '{word}' must have atleast 8 letters\"\n",
    "    if num_checker(word)==0:\n",
    "        return f\"given password '{word}' must include a number\"\n",
    "    if word.isalnum() == False :\n",
    "        return f\"given password '{word}' must include only alpha-numeric values and no space \" \n",
    "    if capital_letter_check(word)==0:\n",
    "        return f\"given password '{word}' must include atleat one uppercase letter\"\n",
    "    if small_letter_check(word)==0:\n",
    "        return f\"given password '{word}' must include atleast one lowercase letter\"\n",
    "    else:\n",
    "        return '\"Strong Password\"'\n",
    "    \n",
    "\n",
    "print(pass_strength(\"Aabcdefghi123\"))\n",
    "\n",
    "\n",
    "\n",
    "# note those functions that are in example 2 and used in 3 can also be created inside this single block of code\n",
    "# thats like a nested function "
   ]
  },
  {
   "cell_type": "code",
   "execution_count": 12,
   "metadata": {},
   "outputs": [
    {
     "name": "stdout",
     "output_type": "stream",
     "text": [
      "False\n",
      "True\n"
     ]
    }
   ],
   "source": [
    "# THIS IS HOW KRISH NAIK MADE IT\n",
    "\n",
    "def is_strong_password(password):\n",
    "    \"\"\"This function checks if the password is strong or not\"\"\"\n",
    "    if len(password)<8:\n",
    "        return False\n",
    "    if not any(char.isdigit() for char in password):\n",
    "        return False\n",
    "    if not any(char.islower() for char in password):\n",
    "        return False\n",
    "    if not any(char.isupper() for char in password):\n",
    "        return False\n",
    "    if not any(char in '!@#$%^&*()_+' for char in password):\n",
    "        return False\n",
    "    return True\n",
    "\n",
    "## calling the function\n",
    "print(is_strong_password(\"WeakPwd\"))\n",
    "print(is_strong_password(\"Str0ngPwd!\"))\n",
    "    "
   ]
  },
  {
   "cell_type": "markdown",
   "metadata": {},
   "source": [
    "Example 4 : Calculate total price of shopping cart"
   ]
  },
  {
   "cell_type": "code",
   "execution_count": 13,
   "metadata": {},
   "outputs": [
    {
     "name": "stdout",
     "output_type": "stream",
     "text": [
      "aloo:4\n",
      "baigan:54\n",
      "gajar:14\n",
      "And the total price is 72\n"
     ]
    }
   ],
   "source": [
    "# simple addition\n",
    "\n",
    "def item_and_price(**kwarg):\n",
    "    for key,value in kwarg.items():\n",
    "        print(f\"{key}:{value}\")\n",
    "    print(f\"And the total price is {sum(kwarg.values())}\")\n",
    "    \n",
    "\n",
    "item_and_price(aloo=4,baigan=54,gajar=14)\n",
    "        "
   ]
  },
  {
   "cell_type": "code",
   "execution_count": 14,
   "metadata": {},
   "outputs": [
    {
     "name": "stdout",
     "output_type": "stream",
     "text": [
      "We have a apple of price 10 and quantity 2\n",
      "We have a banana of price 20 and quantity 3\n",
      "We have a orange of price 30 and quantity 4\n"
     ]
    },
    {
     "data": {
      "text/plain": [
       "'And the total sum of cart is 200'"
      ]
     },
     "execution_count": 14,
     "metadata": {},
     "output_type": "execute_result"
    }
   ],
   "source": [
    "# multiplying cost with quantity\n",
    "\n",
    "def cost_calculator(info):\n",
    "    total_sum = 0\n",
    "    for i in info:\n",
    "        print(f\"We have a {i[\"item\"]} of price {i[\"price\"]} and quantity {i[\"quantity\"]}\")\n",
    "        total_sum += i[\"price\"]*i[\"quantity\"]\n",
    "    return f\"And the total sum of cart is {total_sum}\"\n",
    "\n",
    "\n",
    "cart = [\n",
    "    {\"item\":\"apple\" , \"price\": 10, \"quantity\":2},\n",
    "    {\"item\":\"banana\" , \"price\": 20 , \"quantity\":3},\n",
    "    {\"item\":\"orange\" , \"price\": 30, \"quantity\":4}\n",
    "]\n",
    "\n",
    "cost_calculator(cart)"
   ]
  },
  {
   "cell_type": "markdown",
   "metadata": {},
   "source": [
    "Example 5 : checking if a string is palindrome (ex: abba,abccba,airria)"
   ]
  },
  {
   "cell_type": "code",
   "execution_count": 40,
   "metadata": {},
   "outputs": [
    {
     "name": "stdout",
     "output_type": "stream",
     "text": [
      "False\n",
      "True\n"
     ]
    }
   ],
   "source": [
    "def is_palindrome(word):\n",
    "    word = word.lower().replace(\" \",\"\")\n",
    "    if word[::-1]==word[::1]:\n",
    "        return True\n",
    "    else :\n",
    "        return False\n",
    "\n",
    "print(is_palindrome(\"mein bola hey\"))\n",
    "print(is_palindrome(\"mein bola hey yeh alob niem\"))"
   ]
  },
  {
   "cell_type": "markdown",
   "metadata": {},
   "source": [
    "Example 5: Calculate the factorials of a number using recursion\n",
    "\n",
    "__Recursion__ : its calling a function inside that function (maybe once or maybe again and again)"
   ]
  },
  {
   "cell_type": "code",
   "execution_count": 54,
   "metadata": {},
   "outputs": [
    {
     "name": "stdout",
     "output_type": "stream",
     "text": [
      "factorial of -5 is not possible\n",
      "1\n",
      "120\n"
     ]
    }
   ],
   "source": [
    "def factorial(x):\n",
    "    if x<0:\n",
    "        return f\"factorial of {x} is not possible\"\n",
    "    elif x==0:\n",
    "        return 1\n",
    "    else:\n",
    "        return x*factorial(x-1)\n",
    "\n",
    "print(factorial(-5))\n",
    "print(factorial(0))\n",
    "print(factorial(5))"
   ]
  },
  {
   "cell_type": "code",
   "execution_count": 1,
   "metadata": {},
   "outputs": [
    {
     "name": "stdout",
     "output_type": "stream",
     "text": [
      "0 1 1 2 3 5 8 13 21 34 55 89 144 233 377 610 987 1597 2584 4181 6765 10946 17711 28657 46368 75025 121393 196418 317811 514229 832040 1346269 2178309 3524578 5702887 9227465 14930352 24157817 39088169 63245986 102334155 165580141 267914296 433494437 701408733 1134903170 1836311903 2971215073 4807526976 7778742049 12586269025 20365011074 32951280099 53316291173 86267571272 139583862445 225851433717 365435296162 591286729879 956722026041 1548008755920 2504730781961 4052739537881 6557470319842 10610209857723 17167680177565 27777890035288 44945570212853 72723460248141 117669030460994 190392490709135 308061521170129 498454011879264 806515533049393 1304969544928657 2111485077978050 3416454622906707 5527939700884757 8944394323791464 14472334024676221 23416728348467685 37889062373143906 61305790721611591 99194853094755497 160500643816367088 259695496911122585 420196140727489673 679891637638612258 1100087778366101931 1779979416004714189 2880067194370816120 4660046610375530309 7540113804746346429 12200160415121876738 19740274219868223167 31940434634990099905 51680708854858323072 83621143489848422977 135301852344706746049 218922995834555169026 "
     ]
    }
   ],
   "source": [
    "# Fibonacci with memoization \n",
    "nth_value = {}\n",
    "\n",
    "def fib(n):\n",
    "    if n in nth_value:\n",
    "        return nth_value[n]\n",
    "    elif n<0:\n",
    "        return None\n",
    "    elif n<2:\n",
    "        value = n\n",
    "    else:\n",
    "        value = fib(n-1)+fib(n-2)\n",
    "    nth_value[n] = value    \n",
    "    \n",
    "\n",
    "    return value\n",
    "\n",
    "for i in range(100):\n",
    "    print(fib(i), end = \" \")\n"
   ]
  },
  {
   "cell_type": "code",
   "execution_count": null,
   "metadata": {},
   "outputs": [],
   "source": [
    "# Using next()\n",
    "\n",
    "# Define a function that generates an infinite sequence of Fibonacci numbers. Test by printing the first 10 numbers in the sequence.\n",
    "\n",
    "def fib():\n",
    "    a,b = 0,1\n",
    "    while True:\n",
    "        yield a\n",
    "        a,b = b,a+b\n",
    "    \n",
    "fibonacci = fib()\n",
    "for i in range(11):\n",
    "    print(next(fibonacci))\n"
   ]
  },
  {
   "cell_type": "markdown",
   "metadata": {},
   "source": [
    "# Last example is with use of regular expression which will be taught later so \n",
    "DO IT !!!!!!!!!!!!!!!!!!"
   ]
  },
  {
   "cell_type": "markdown",
   "metadata": {},
   "source": []
  }
 ],
 "metadata": {
  "kernelspec": {
   "display_name": "Python 3",
   "language": "python",
   "name": "python3"
  },
  "language_info": {
   "codemirror_mode": {
    "name": "ipython",
    "version": 3
   },
   "file_extension": ".py",
   "mimetype": "text/x-python",
   "name": "python",
   "nbconvert_exporter": "python",
   "pygments_lexer": "ipython3",
   "version": "3.12.0"
  }
 },
 "nbformat": 4,
 "nbformat_minor": 2
}
