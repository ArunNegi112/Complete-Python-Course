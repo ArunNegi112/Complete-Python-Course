{
 "cells": [
  {
   "cell_type": "markdown",
   "metadata": {},
   "source": [
    "## Map function\n",
    "\n",
    "The map() function applies a given function to all items in an input list (or any other iterable) and returns a map object (an iterator). This is particularly useful for transforming data in a list comprehensively."
   ]
  },
  {
   "cell_type": "raw",
   "metadata": {
    "vscode": {
     "languageId": "raw"
    }
   },
   "source": [
    "syntax : \n",
    "\n",
    "map(function,iterable)"
   ]
  },
  {
   "cell_type": "code",
   "execution_count": 1,
   "metadata": {},
   "outputs": [
    {
     "name": "stdout",
     "output_type": "stream",
     "text": [
      "4\n",
      "<map object at 0x0000023C0DDB8F40>\n",
      "[1, 4, 9, 16, 25]\n",
      "[1, 4, 9, 16, 25]\n"
     ]
    }
   ],
   "source": [
    "# simple method\n",
    "def square(x):\n",
    "    return x*x\n",
    "\n",
    "print(square(2)) # but i want this same function to be appllied to all items in a list \n",
    "numbers = [1,2,3,4,5]\n",
    "\n",
    "# using map function\n",
    "print(map(square,numbers))   \n",
    "print(list(map(square,numbers)))    # but to print the output we gotta convert it into a datatype\n",
    "\n",
    "# using map and lambda function\n",
    "\n",
    "print(list(map(lambda x:x*x,numbers)))\n"
   ]
  },
  {
   "cell_type": "code",
   "execution_count": 33,
   "metadata": {},
   "outputs": [
    {
     "data": {
      "text/plain": [
       "[1, 4, 9, 16, 25]"
      ]
     },
     "execution_count": 33,
     "metadata": {},
     "output_type": "execute_result"
    }
   ],
   "source": [
    "# Maping multiple iterables\n",
    "\n",
    "number1 = [1,2,3,4,5]\n",
    "number2 = [1,2,3,4,5]\n",
    "\n",
    "list(map(lambda x,y:x*y,number1,number2))    \n",
    "\n",
    "# if there are 2 vairables there have to be 2 iterables to take value from"
   ]
  },
  {
   "cell_type": "code",
   "execution_count": 34,
   "metadata": {},
   "outputs": [
    {
     "data": {
      "text/plain": [
       "['1', '2', '3', '4', '5']"
      ]
     },
     "execution_count": 34,
     "metadata": {},
     "output_type": "execute_result"
    }
   ],
   "source": [
    "# using map for typecasting \n",
    "\n",
    "nums = {1,2,3,4,5}\n",
    "list(map(str,nums))   #converting int to str"
   ]
  },
  {
   "cell_type": "code",
   "execution_count": 37,
   "metadata": {},
   "outputs": [
    {
     "data": {
      "text/plain": [
       "['Krish', 'Jack']"
      ]
     },
     "execution_count": 37,
     "metadata": {},
     "output_type": "execute_result"
    }
   ],
   "source": [
    "def get_name(person):\n",
    "    return person['name']\n",
    "\n",
    "people=[\n",
    "    {'name':'Krish','age':32},\n",
    "    {'name':'Jack','age':33}\n",
    "]\n",
    "list(map(get_name,people))\n"
   ]
  },
  {
   "cell_type": "code",
   "execution_count": 5,
   "metadata": {},
   "outputs": [
    {
     "name": "stdout",
     "output_type": "stream",
     "text": [
      "[10, 20]\n",
      "10 20 30\n"
     ]
    }
   ],
   "source": [
    "# Taking input through map function \n",
    "a = list(map(int,input().split(\",\")))\n",
    "\n",
    "print(a)\n",
    "\n",
    "# Taking multiple input together\n",
    "a,b,c = map(int,input(\"Enter 3 vlaues\").split(\",\"))\n",
    "print(a,b,c)"
   ]
  }
 ],
 "metadata": {
  "kernelspec": {
   "display_name": "Python 3",
   "language": "python",
   "name": "python3"
  },
  "language_info": {
   "codemirror_mode": {
    "name": "ipython",
    "version": 3
   },
   "file_extension": ".py",
   "mimetype": "text/x-python",
   "name": "python",
   "nbconvert_exporter": "python",
   "pygments_lexer": "ipython3",
   "version": "3.11.7"
  }
 },
 "nbformat": 4,
 "nbformat_minor": 2
}
