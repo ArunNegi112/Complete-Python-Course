{
 "cells": [
  {
   "cell_type": "markdown",
   "metadata": {},
   "source": [
    "### Multiple loggers\n",
    "\n",
    "We create multiple loggers for different part of code"
   ]
  },
  {
   "cell_type": "code",
   "execution_count": 1,
   "metadata": {},
   "outputs": [],
   "source": [
    "import logging\n",
    "\n",
    "#configure logger\n",
    "logging.basicConfig(\n",
    "    level = logging.DEBUG,\n",
    "    format = '%(asctime)s - %(name)s - %(levelname)s - %(message)s',\n",
    "    datefmt = '%d-%m-%Y and %H:%M:%S'\n",
    ")\n",
    "\n",
    "\n",
    "# create logger for module1\n",
    "logger1 = logging.getLogger('module1')     # assign logger1 to module1\n",
    "logger1.setLevel(logging.DEBUG)            # we can also set level of logger \n",
    "\n",
    "\n",
    "# setup logger for module2\n",
    "logger2 = logging.getLogger('module2')\n",
    "logger2.setLevel(logging.WARNING)"
   ]
  },
  {
   "cell_type": "code",
   "execution_count": 4,
   "metadata": {},
   "outputs": [
    {
     "name": "stderr",
     "output_type": "stream",
     "text": [
      "16-01-2025 and 01:25:55 - module1 - DEBUG - This is debug message\n",
      "16-01-2025 and 01:25:55 - module1 - WARNING - This is warning message\n",
      "16-01-2025 and 01:25:55 - module2 - WARNING - This is warning message\n"
     ]
    }
   ],
   "source": [
    "# log message with different loggers\n",
    "\n",
    "logger1.debug(\"This is debug message\")\n",
    "logger1.warning(\"This is warning message\")\n",
    "\n",
    "logger2.debug(\"This is debug message\")       # notice that, this wont get executed\n",
    "logger2.warning(\"This is warning message\")"
   ]
  }
 ],
 "metadata": {
  "kernelspec": {
   "display_name": "Python 3",
   "language": "python",
   "name": "python3"
  },
  "language_info": {
   "codemirror_mode": {
    "name": "ipython",
    "version": 3
   },
   "file_extension": ".py",
   "mimetype": "text/x-python",
   "name": "python",
   "nbconvert_exporter": "python",
   "pygments_lexer": "ipython3",
   "version": "3.12.0"
  }
 },
 "nbformat": 4,
 "nbformat_minor": 2
}
