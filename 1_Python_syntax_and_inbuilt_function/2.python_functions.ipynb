{
 "cells": [
  {
   "cell_type": "markdown",
   "metadata": {},
   "source": [
    "## All basic function in python"
   ]
  },
  {
   "cell_type": "code",
   "execution_count": 1,
   "metadata": {},
   "outputs": [
    {
     "name": "stdout",
     "output_type": "stream",
     "text": [
      "0 1 2 3 4 \n",
      "0 1 2 3 4 \n",
      "5,7,9,11,13,15,"
     ]
    }
   ],
   "source": [
    "# range(start,stop,step) : if not given, start=0 ; step=1      (its can only generate integers)\n",
    "\n",
    "a = range(5)\n",
    "b = range(0,5,1)\n",
    "c = range(5,17,2)\n",
    "\n",
    "for i in a : \n",
    "    print(i,end=\" \")\n",
    "\n",
    "print( )\n",
    "\n",
    "for i in b :\n",
    "    print(i,end=\" \")\n",
    "\n",
    "print( )\n",
    "for i in c :\n",
    "    print(i,end=\",\")"
   ]
  },
  {
   "cell_type": "code",
   "execution_count": 2,
   "metadata": {},
   "outputs": [
    {
     "name": "stdout",
     "output_type": "stream",
     "text": [
      "i=20 and j=10\n"
     ]
    }
   ],
   "source": [
    "# f-statement : formatted string statement \n",
    "\n",
    "i = 20\n",
    "j = 10\n",
    "\n",
    "print(f\"i={i} and j={j}\")     \n",
    "\n",
    "# this let us put variable inside the string given to print statement using those curly braces{}"
   ]
  },
  {
   "cell_type": "code",
   "execution_count": 3,
   "metadata": {},
   "outputs": [
    {
     "data": {
      "text/plain": [
       "6"
      ]
     },
     "execution_count": 3,
     "metadata": {},
     "output_type": "execute_result"
    }
   ],
   "source": [
    "# len() function   : tell the lenght (no. of elements in list,set,etc or size (no. of characters) etc )\n",
    "\n",
    "a = \"hellow\"\n",
    "len(a)"
   ]
  },
  {
   "cell_type": "code",
   "execution_count": 4,
   "metadata": {},
   "outputs": [
    {
     "data": {
      "text/plain": [
       "['hey', 'what', 'you', 'doing']"
      ]
     },
     "execution_count": 4,
     "metadata": {},
     "output_type": "execute_result"
    }
   ],
   "source": [
    "# split() : split the words in a line of string \n",
    "\n",
    "example = \"hey what you doing\"\n",
    "example.split()"
   ]
  },
  {
   "cell_type": "code",
   "execution_count": 5,
   "metadata": {},
   "outputs": [
    {
     "data": {
      "text/plain": [
       "True"
      ]
     },
     "execution_count": 5,
     "metadata": {},
     "output_type": "execute_result"
    }
   ],
   "source": [
    "# isupper() : checks if all letters are upper case in string \n",
    "\n",
    "example = \"YOO BOI 22\"\n",
    "example.isupper()"
   ]
  },
  {
   "cell_type": "code",
   "execution_count": 6,
   "metadata": {},
   "outputs": [
    {
     "data": {
      "text/plain": [
       "True"
      ]
     },
     "execution_count": 6,
     "metadata": {},
     "output_type": "execute_result"
    }
   ],
   "source": [
    "# islower() : checks if all letters are lower case\n",
    "\n",
    "example = \"hey hey hey 35\"\n",
    "example.islower()"
   ]
  },
  {
   "cell_type": "code",
   "execution_count": 7,
   "metadata": {},
   "outputs": [
    {
     "name": "stdout",
     "output_type": "stream",
     "text": [
      "False\n"
     ]
    }
   ],
   "source": [
    "# isalpha() : checks if all letters are alphabet \n",
    "\n",
    "example = \"hey Hey \"\n",
    "print(example.isalpha())"
   ]
  },
  {
   "cell_type": "code",
   "execution_count": 8,
   "metadata": {},
   "outputs": [
    {
     "name": "stdout",
     "output_type": "stream",
     "text": [
      "True\n",
      "False\n"
     ]
    }
   ],
   "source": [
    "# isalnum() : checks if all letters are alphabet or number (even if there is space itll give false)\n",
    "\n",
    "example = \"heyHey34\"\n",
    "print(example.isalnum())\n",
    "\n",
    "example = \"hey Hey 23\"\n",
    "print(example.isalnum())"
   ]
  },
  {
   "cell_type": "code",
   "execution_count": 9,
   "metadata": {},
   "outputs": [
    {
     "data": {
      "text/plain": [
       "False"
      ]
     },
     "execution_count": 9,
     "metadata": {},
     "output_type": "execute_result"
    }
   ],
   "source": [
    "# .isdigit() : checks if all letters in string is digit (num)\n",
    "example.isdigit()"
   ]
  },
  {
   "cell_type": "code",
   "execution_count": 10,
   "metadata": {},
   "outputs": [
    {
     "data": {
      "text/plain": [
       "'mein bola hey'"
      ]
     },
     "execution_count": 10,
     "metadata": {},
     "output_type": "execute_result"
    }
   ],
   "source": [
    "# .lower()  : change all letters in string to lowercase\n",
    "ex = \"mein Bola HEy\"\n",
    "ex.lower()"
   ]
  },
  {
   "cell_type": "code",
   "execution_count": 11,
   "metadata": {},
   "outputs": [
    {
     "data": {
      "text/plain": [
       "'MEIN BOLA HEY'"
      ]
     },
     "execution_count": 11,
     "metadata": {},
     "output_type": "execute_result"
    }
   ],
   "source": [
    "# .upper() : change all letters in string to uppercase\n",
    "ex = \"mein Bola HEy\"\n",
    "ex.upper()"
   ]
  },
  {
   "cell_type": "code",
   "execution_count": 12,
   "metadata": {},
   "outputs": [
    {
     "data": {
      "text/plain": [
       "'Mein Mein mein Bola HEy'"
      ]
     },
     "execution_count": 12,
     "metadata": {},
     "output_type": "execute_result"
    }
   ],
   "source": [
    "# .replace(\"old\",\"new\",how many) : replaces certain things in string to different thing\n",
    "\n",
    "ex = \"mein mein mein Bola HEy\"\n",
    "ex.replace(\"m\",\"M\",2)"
   ]
  },
  {
   "cell_type": "code",
   "execution_count": 1,
   "metadata": {},
   "outputs": [
    {
     "name": "stdout",
     "output_type": "stream",
     "text": [
      "['mein,', 'bola', ',hey']\n",
      "mein bola hey "
     ]
    },
    {
     "data": {
      "text/plain": [
       "'mein bola hey'"
      ]
     },
     "execution_count": 1,
     "metadata": {},
     "output_type": "execute_result"
    }
   ],
   "source": [
    "# .strip() : removes given characters from start and end (if not given removes spaces)\n",
    "\n",
    "ex = \"mein, bola ,hey\"\n",
    "print(ex.split(\" \"))    # but in that list we dont want \",\"\n",
    "\n",
    "for i in ex.split(\" \"):\n",
    "    print(i.strip(\",\"),end=\" \")\n",
    "\n",
    "ex.replace(\",\",\"\")    # same can be done with this too though"
   ]
  },
  {
   "cell_type": "code",
   "execution_count": 4,
   "metadata": {},
   "outputs": [
    {
     "name": "stdout",
     "output_type": "stream",
     "text": [
      "hellow\n",
      "h.e.l.l.o.w\n"
     ]
    }
   ],
   "source": [
    "# joining string \n",
    "\n",
    "hellow = ['h','e','l','l','o','w']\n",
    "joint_hellow = \"\".join(hellow)\n",
    "print(joint_hellow)\n",
    "\n",
    "joint_hellow = \".\".join(hellow)\n",
    "print(joint_hellow)"
   ]
  },
  {
   "cell_type": "code",
   "execution_count": 2,
   "metadata": {},
   "outputs": [
    {
     "name": "stdout",
     "output_type": "stream",
     "text": [
      "{1: 1, 2: 4, 3: 9, 0: 0}\n"
     ]
    }
   ],
   "source": [
    "# isinstance(object,class): returns true or false according to if object belongs to that class\n",
    "\n",
    "dic = {i:i**2 for i in [1,2,3,0,3.4,5.6,\"yo\"] if isinstance(i,int)}\n",
    "print(dic)"
   ]
  },
  {
   "cell_type": "code",
   "execution_count": 2,
   "metadata": {},
   "outputs": [
    {
     "name": "stdout",
     "output_type": "stream",
     "text": [
      "index: 0, value: 1\n",
      "index: 1, value: 2\n",
      "index: 2, value: 3\n",
      "index: 3, value: 4\n",
      "index: 4, value: 5\n",
      "index: 5, value: 6\n"
     ]
    }
   ],
   "source": [
    "## Enumerate(iterable,start_index) : A function that returns a tuple of index, value for each item\n",
    "lst = [1,2,3,4,5,6]\n",
    "for index,value in enumerate(iterable=lst,start=0):\n",
    "    print(f\"index: {index}, value: {value}\")"
   ]
  },
  {
   "cell_type": "code",
   "execution_count": null,
   "metadata": {},
   "outputs": [
    {
     "name": "stdout",
     "output_type": "stream",
     "text": [
      "List : [('Arun', 18, 'student'), ('Ritesh', 30, 'gud investor'), ('Aman', 40, 'lun investor')]\n",
      "Arun is 18 yo student\n",
      "Ritesh is 30 yo gud investor\n",
      "Aman is 40 yo lun investor\n",
      "('Arun', 'Ritesh', 'Aman') (18, 30, 40) ('student', 'gud investor', 'lun investor')\n"
     ]
    }
   ],
   "source": [
    "## zip() : maps corresponding elements of two or more iterables \n",
    "name = ['Arun','Ritesh','Aman']\n",
    "age = [18,30,40]\n",
    "work = ['student','gud investor','lun investor']\n",
    "\n",
    "zipped_list = list(zip(name,age,work))             # Note that zipped 'zip(name,age,work' object is an iterator object\n",
    "print('List :',zipped_list)\n",
    "\n",
    "\n",
    "# Iterating over Zip object\n",
    "def iterate():\n",
    "    for name,age,work in zipped_list:\n",
    "        print(f\"{name} is {age} yo {work}\")\n",
    "\n",
    "iterate()\n",
    "\n",
    "\n",
    "# unzipping\n",
    "name,age,work = zip(*zipped_list)     # zip(*)\n",
    "print(name,age,work)"
   ]
  }
 ],
 "metadata": {
  "kernelspec": {
   "display_name": "env",
   "language": "python",
   "name": "python3"
  },
  "language_info": {
   "codemirror_mode": {
    "name": "ipython",
    "version": 3
   },
   "file_extension": ".py",
   "mimetype": "text/x-python",
   "name": "python",
   "nbconvert_exporter": "python",
   "pygments_lexer": "ipython3",
   "version": "3.13.1"
  }
 },
 "nbformat": 4,
 "nbformat_minor": 2
}
