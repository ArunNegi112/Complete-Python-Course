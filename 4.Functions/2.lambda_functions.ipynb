{
 "cells": [
  {
   "cell_type": "markdown",
   "metadata": {},
   "source": [
    "## Lambda functions\n",
    "\n",
    "Lambda functions are small anonymous functions defined using the lambda keyword. They can have any number of arguments but only one expression. They are commonly used for short operations or as arguments to higher-order functions.\n",
    "These can be written in a more concise way compared to regular functions defined with def\n",
    "\n",
    "anonymus = a function without a name\n",
    "\n",
    "Lambda functions provide a concise way to define simple, single-use functions. They are particularly useful in functional programming contexts where functions are passed as arguments to other functions. However, for more complex operations or for better readability, it's often better to use regular function definitions."
   ]
  },
  {
   "cell_type": "code",
   "execution_count": 1,
   "metadata": {},
   "outputs": [
    {
     "data": {
      "text/plain": [
       "<function __main__.<lambda>(arguments)>"
      ]
     },
     "execution_count": 1,
     "metadata": {},
     "output_type": "execute_result"
    }
   ],
   "source": [
    "# SYNTAX \n",
    "\n",
    "lambda arguments : expression "
   ]
  },
  {
   "cell_type": "code",
   "execution_count": 2,
   "metadata": {},
   "outputs": [
    {
     "name": "stdout",
     "output_type": "stream",
     "text": [
      "5\n",
      "7\n"
     ]
    }
   ],
   "source": [
    "# example :\n",
    "\n",
    "def add(a,b):\n",
    "    return a+b           #this is a simple function with only one expression, it can be used inside other function too\n",
    "\n",
    "print(add(2,3))\n",
    "\n",
    "adds = lambda a,b : a+b  #to call the lambda function we got to assign it to a variable\n",
    "\n",
    "print(adds(2,5))"
   ]
  },
  {
   "cell_type": "code",
   "execution_count": null,
   "metadata": {},
   "outputs": [],
   "source": []
  },
  {
   "cell_type": "code",
   "execution_count": 3,
   "metadata": {},
   "outputs": [
    {
     "name": "stdout",
     "output_type": "stream",
     "text": [
      "True\n",
      "False\n",
      "True\n",
      "False\n"
     ]
    }
   ],
   "source": [
    "# example :\n",
    "\n",
    "def even(num):\n",
    "    if num%2==0:\n",
    "        return True\n",
    "    else:\n",
    "        return False\n",
    "    \n",
    "print(even(2))\n",
    "print(even(3))\n",
    "\n",
    "even1= lambda num :num%2==0 \n",
    "\n",
    "print(even1(2))\n",
    "print(even1(3))"
   ]
  },
  {
   "cell_type": "code",
   "execution_count": 4,
   "metadata": {},
   "outputs": [
    {
     "name": "stdout",
     "output_type": "stream",
     "text": [
      "1 4 9 16 25 \n",
      "<map object at 0x00000296158107F0>\n",
      "[1, 4, 9, 16, 25]\n"
     ]
    }
   ],
   "source": [
    "# example with use of map-function (map func applies a function to all values inside a list)\n",
    "\n",
    "numbers = [1,2,3,4,5]\n",
    "\n",
    "def square(num):\n",
    "    for i in num:\n",
    "        print(i**2, end=\" \")   \n",
    "square(numbers)\n",
    "\n",
    "print( )\n",
    "\n",
    "square1 = map(lambda i : i**2, numbers)\n",
    "print(square1)                                 # to call this map function we got to change it into list\n",
    "print(list(square1))\n"
   ]
  },
  {
   "cell_type": "code",
   "execution_count": null,
   "metadata": {},
   "outputs": [],
   "source": []
  }
 ],
 "metadata": {
  "kernelspec": {
   "display_name": "env",
   "language": "python",
   "name": "python3"
  },
  "language_info": {
   "codemirror_mode": {
    "name": "ipython",
    "version": 3
   },
   "file_extension": ".py",
   "mimetype": "text/x-python",
   "name": "python",
   "nbconvert_exporter": "python",
   "pygments_lexer": "ipython3",
   "version": "3.13.1"
  }
 },
 "nbformat": 4,
 "nbformat_minor": 2
}
